{
 "cells": [
  {
   "cell_type": "markdown",
   "metadata": {},
   "source": [
    "## XMAC02 - Prova Prática 2\n",
    "### Nome:\n",
    "### Nro Matric: "
   ]
  },
  {
   "cell_type": "markdown",
   "metadata": {},
   "source": [
    "### Questão 1\n",
    "Testes AB são muitos usados para verificar qual de duas versões (A ou B) é melhor, de acordo com algum parâmetro escolhido. O dataset 'website_ab_test.csv' coletou dados de uso de duas versões de uma aplicação (Light Theme e Dark Theme). \\\n",
    "Neste exercício usaremos os seguintes parâmetros:\n",
    "- Conversion Rate: número de usuários que realizaram uma compra em relação ao número total de usuários da página;\n",
    "- Click Through Rate: número de cliques recebidos divido pelo número de exibições da página."
   ]
  },
  {
   "cell_type": "markdown",
   "metadata": {},
   "source": [
    "### Parte A\n",
    "Realize um teste de hipótese que verifique se a Conversion Rate é a mesma para os dois temas. Faça o teste com confiança de 95%."
   ]
  },
  {
   "cell_type": "markdown",
   "metadata": {},
   "source": [
    "### Parte B\n",
    "Realize um teste de hipótese que verifique se a Click Through Rate é a mesma para os dois temas. Faça o teste com confiança de 95%."
   ]
  },
  {
   "cell_type": "markdown",
   "metadata": {},
   "source": [
    "### Questão 2\n",
    "Uma pesquisa nacional realizada em 2020 nos EUA apontava que apenas 13% dos postos de trabalho com salário maior ou igual a US$ 100.000 eram ocupados por negros ou afro americanos (Black or African American). Uma amostra dos dados de 174 empregados da empresa Pandora Inc. está disponível no arquivo 'salary.csv'. Utilizando esses dados, realize um teste de hipótese para verificar se a taxa de negros ou afro americanos na empresa Pandora Inc com salário maior ou igual a US$ 100.000 é a mesma da taxa nacional. Faça o teste com 95% de confiança."
   ]
  },
  {
   "cell_type": "markdown",
   "metadata": {},
   "source": [
    "### Questão 3\n",
    "Uma pediatra quer ver o efeito do consumo de fórmula (leite em pó) no ganho médio de peso mensal (em gramas) dos bebês. Por esse motivo, ela coletou dados de três grupos diferentes. O primeiro grupo é composto por crianças amamentadas exclusivamente (recebem apenas leite materno), o segundo grupo é composto por crianças que são alimentadas apenas com fórmula e o último grupo é composto por crianças amamentadas e com fórmula. Esses dados são os seguintes.\n",
    "\n",
    "leite_materno = [794.1, 716.9, 993. , 724.7, 760.9, 908.2, 659.3 , 690.8, 768.7, 717.3 , 630.7, 729.5, 714.1, 810.3, 583.5, 679.9, 865.1]\n",
    "\n",
    "formula = [ 898.8, 881.2, 940.2, 966.2, 957.5, 1061.7, 1046.2, 980.4, 895.6, 919.7, 1074.1, 952.5, 796.3, 859.6, 871.1 , 1047.5, 919.1 , 1160.5, 996.9]\n",
    "\n",
    "ambos = [976.4, 656.4, 861.2, 706.8, 718.5, 717.1, 759.8, 894.6, 867.6, 805.6, 765.4, 800.3, 789.9, 875.3, 740. , 799.4, 790.3, 795.2 , 823.6, 818.7, 926.8, 791.7, 948.3]\n",
    "\n",
    "Realize um teste de hipótese e informe se há diferença no peso médio das crianças desses 3 grupos. Nível de cofiança de 95%."
   ]
  },
  {
   "cell_type": "markdown",
   "metadata": {},
   "source": [
    "### Questão 4\n",
    "Um professor quer usar dois exames em suas aulas no ano que vem. Este ano, ele aplicou os dois exames aos alunos. Ele quer saber se os exames são igualmente difíceis e quer verificar isso observando as diferenças entre as pontuações. Se a diferença média entre as pontuações dos alunos for \"próxima o suficiente\" de zero, ele chegará a uma conclusão prática de que os exames são igualmente difíceis. As notas dos alunos estão no dataset 'notas.csv'. Assuma que as notas são normalmente distribuídas e realize um teste de hipótese com confianção de 95% que seja capaz de informar ao professor se as provas são igualmente difíceis."
   ]
  },
  {
   "cell_type": "markdown",
   "metadata": {},
   "source": [
    "### Questão 5\n",
    "Um estudo do ano 2000 encontrou 132 casos de miopia em 400 pessoas examinadas, escolhidas ao acaso. Outro estudo de 2015 encontrou 228 casos em 600 pessoas examinadas. Com base nesses estudos, é correto afirmar que os casos de miopia aumentaram entre 2000 e 2015? Realize o teste com confiança de 95%."
   ]
  },
  {
   "cell_type": "markdown",
   "metadata": {},
   "source": [
    "### Questão 6\n",
    "\n",
    "Uma empresa desenvolveu um medicamento que supostamente aumenta o QI. É conhecido que o desvio padrão do QI na população em geral é 15 e o valor do QI tem distribuição normal. A empresa testou seu medicamento em 36 pacientes e obteve um QI médio de 97,65. Usando confiança de 95%, pode-se dizer que este valor de QI é significativamente diferente da média populacional, cujo valor é 100?"
   ]
  }
 ],
 "metadata": {
  "kernelspec": {
   "display_name": "base",
   "language": "python",
   "name": "python3"
  },
  "language_info": {
   "codemirror_mode": {
    "name": "ipython",
    "version": 3
   },
   "file_extension": ".py",
   "mimetype": "text/x-python",
   "name": "python",
   "nbconvert_exporter": "python",
   "pygments_lexer": "ipython3",
   "version": "3.10.9"
  }
 },
 "nbformat": 4,
 "nbformat_minor": 2
}
