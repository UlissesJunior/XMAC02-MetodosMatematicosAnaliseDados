{
  "cells": [
    {
      "cell_type": "markdown",
      "metadata": {
        "id": "9X5KTeLs4F5y"
      },
      "source": [
        "## XMAC02 - Prova Prática 2\n",
        "### Nome:\n",
        "### Nro Matric:"
      ]
    },
    {
      "cell_type": "code",
      "source": [
        "import pandas as pd\n",
        "import numpy as np\n",
        "import scipy.stats as stats\n",
        "import matplotlib.pyplot as plt\n",
        "import seaborn as sns"
      ],
      "metadata": {
        "id": "Az47_d6c7CWV"
      },
      "execution_count": 1,
      "outputs": []
    },
    {
      "cell_type": "markdown",
      "metadata": {
        "id": "9KerkFCB4F52"
      },
      "source": [
        "### Questão 1\n",
        "Testes AB são muitos usados para verificar qual de duas versões (A ou B) é melhor, de acordo com algum parâmetro escolhido. O dataset 'website_ab_test.csv' coletou dados de uso de duas versões de uma aplicação (Light Theme e Dark Theme). \\\n",
        "Neste exercício usaremos os seguintes parâmetros:\n",
        "- Conversion Rate: número de usuários que realizaram uma compra em relação ao número total de usuários da página;\n",
        "- Click Through Rate: número de cliques recebidos divido pelo número de exibições da página."
      ]
    },
    {
      "cell_type": "code",
      "source": [
        "df = pd.read_csv('website_ab_test.csv')\n",
        "df.head()"
      ],
      "metadata": {
        "id": "4Ec6vfDgD8vg",
        "outputId": "7602377f-6eac-4bbc-bc38-88c181d336c6",
        "colab": {
          "base_uri": "https://localhost:8080/",
          "height": 348
        }
      },
      "execution_count": 20,
      "outputs": [
        {
          "output_type": "execute_result",
          "data": {
            "text/plain": [
              "         Theme  Click Through Rate  Conversion Rate  Bounce Rate  \\\n",
              "0  Light Theme            0.054920         0.282367     0.405085   \n",
              "1  Light Theme            0.113932         0.032973     0.732759   \n",
              "2   Dark Theme            0.323352         0.178763     0.296543   \n",
              "3  Light Theme            0.485836         0.325225     0.245001   \n",
              "4  Light Theme            0.034783         0.196766     0.765100   \n",
              "\n",
              "   Scroll_Depth  Age   Location  Session_Duration Purchases Added_to_Cart  \n",
              "0     72.489458   25    Chennai              1535        No           Yes  \n",
              "1     61.858568   19       Pune               303        No           Yes  \n",
              "2     45.737376   47    Chennai               563       Yes           Yes  \n",
              "3     76.305298   58       Pune               385       Yes            No  \n",
              "4     48.927407   25  New Delhi              1437        No            No  "
            ],
            "text/html": [
              "\n",
              "  <div id=\"df-0f98000f-db76-4be5-840b-265191644761\" class=\"colab-df-container\">\n",
              "    <div>\n",
              "<style scoped>\n",
              "    .dataframe tbody tr th:only-of-type {\n",
              "        vertical-align: middle;\n",
              "    }\n",
              "\n",
              "    .dataframe tbody tr th {\n",
              "        vertical-align: top;\n",
              "    }\n",
              "\n",
              "    .dataframe thead th {\n",
              "        text-align: right;\n",
              "    }\n",
              "</style>\n",
              "<table border=\"1\" class=\"dataframe\">\n",
              "  <thead>\n",
              "    <tr style=\"text-align: right;\">\n",
              "      <th></th>\n",
              "      <th>Theme</th>\n",
              "      <th>Click Through Rate</th>\n",
              "      <th>Conversion Rate</th>\n",
              "      <th>Bounce Rate</th>\n",
              "      <th>Scroll_Depth</th>\n",
              "      <th>Age</th>\n",
              "      <th>Location</th>\n",
              "      <th>Session_Duration</th>\n",
              "      <th>Purchases</th>\n",
              "      <th>Added_to_Cart</th>\n",
              "    </tr>\n",
              "  </thead>\n",
              "  <tbody>\n",
              "    <tr>\n",
              "      <th>0</th>\n",
              "      <td>Light Theme</td>\n",
              "      <td>0.054920</td>\n",
              "      <td>0.282367</td>\n",
              "      <td>0.405085</td>\n",
              "      <td>72.489458</td>\n",
              "      <td>25</td>\n",
              "      <td>Chennai</td>\n",
              "      <td>1535</td>\n",
              "      <td>No</td>\n",
              "      <td>Yes</td>\n",
              "    </tr>\n",
              "    <tr>\n",
              "      <th>1</th>\n",
              "      <td>Light Theme</td>\n",
              "      <td>0.113932</td>\n",
              "      <td>0.032973</td>\n",
              "      <td>0.732759</td>\n",
              "      <td>61.858568</td>\n",
              "      <td>19</td>\n",
              "      <td>Pune</td>\n",
              "      <td>303</td>\n",
              "      <td>No</td>\n",
              "      <td>Yes</td>\n",
              "    </tr>\n",
              "    <tr>\n",
              "      <th>2</th>\n",
              "      <td>Dark Theme</td>\n",
              "      <td>0.323352</td>\n",
              "      <td>0.178763</td>\n",
              "      <td>0.296543</td>\n",
              "      <td>45.737376</td>\n",
              "      <td>47</td>\n",
              "      <td>Chennai</td>\n",
              "      <td>563</td>\n",
              "      <td>Yes</td>\n",
              "      <td>Yes</td>\n",
              "    </tr>\n",
              "    <tr>\n",
              "      <th>3</th>\n",
              "      <td>Light Theme</td>\n",
              "      <td>0.485836</td>\n",
              "      <td>0.325225</td>\n",
              "      <td>0.245001</td>\n",
              "      <td>76.305298</td>\n",
              "      <td>58</td>\n",
              "      <td>Pune</td>\n",
              "      <td>385</td>\n",
              "      <td>Yes</td>\n",
              "      <td>No</td>\n",
              "    </tr>\n",
              "    <tr>\n",
              "      <th>4</th>\n",
              "      <td>Light Theme</td>\n",
              "      <td>0.034783</td>\n",
              "      <td>0.196766</td>\n",
              "      <td>0.765100</td>\n",
              "      <td>48.927407</td>\n",
              "      <td>25</td>\n",
              "      <td>New Delhi</td>\n",
              "      <td>1437</td>\n",
              "      <td>No</td>\n",
              "      <td>No</td>\n",
              "    </tr>\n",
              "  </tbody>\n",
              "</table>\n",
              "</div>\n",
              "    <div class=\"colab-df-buttons\">\n",
              "\n",
              "  <div class=\"colab-df-container\">\n",
              "    <button class=\"colab-df-convert\" onclick=\"convertToInteractive('df-0f98000f-db76-4be5-840b-265191644761')\"\n",
              "            title=\"Convert this dataframe to an interactive table.\"\n",
              "            style=\"display:none;\">\n",
              "\n",
              "  <svg xmlns=\"http://www.w3.org/2000/svg\" height=\"24px\" viewBox=\"0 -960 960 960\">\n",
              "    <path d=\"M120-120v-720h720v720H120Zm60-500h600v-160H180v160Zm220 220h160v-160H400v160Zm0 220h160v-160H400v160ZM180-400h160v-160H180v160Zm440 0h160v-160H620v160ZM180-180h160v-160H180v160Zm440 0h160v-160H620v160Z\"/>\n",
              "  </svg>\n",
              "    </button>\n",
              "\n",
              "  <style>\n",
              "    .colab-df-container {\n",
              "      display:flex;\n",
              "      gap: 12px;\n",
              "    }\n",
              "\n",
              "    .colab-df-convert {\n",
              "      background-color: #E8F0FE;\n",
              "      border: none;\n",
              "      border-radius: 50%;\n",
              "      cursor: pointer;\n",
              "      display: none;\n",
              "      fill: #1967D2;\n",
              "      height: 32px;\n",
              "      padding: 0 0 0 0;\n",
              "      width: 32px;\n",
              "    }\n",
              "\n",
              "    .colab-df-convert:hover {\n",
              "      background-color: #E2EBFA;\n",
              "      box-shadow: 0px 1px 2px rgba(60, 64, 67, 0.3), 0px 1px 3px 1px rgba(60, 64, 67, 0.15);\n",
              "      fill: #174EA6;\n",
              "    }\n",
              "\n",
              "    .colab-df-buttons div {\n",
              "      margin-bottom: 4px;\n",
              "    }\n",
              "\n",
              "    [theme=dark] .colab-df-convert {\n",
              "      background-color: #3B4455;\n",
              "      fill: #D2E3FC;\n",
              "    }\n",
              "\n",
              "    [theme=dark] .colab-df-convert:hover {\n",
              "      background-color: #434B5C;\n",
              "      box-shadow: 0px 1px 3px 1px rgba(0, 0, 0, 0.15);\n",
              "      filter: drop-shadow(0px 1px 2px rgba(0, 0, 0, 0.3));\n",
              "      fill: #FFFFFF;\n",
              "    }\n",
              "  </style>\n",
              "\n",
              "    <script>\n",
              "      const buttonEl =\n",
              "        document.querySelector('#df-0f98000f-db76-4be5-840b-265191644761 button.colab-df-convert');\n",
              "      buttonEl.style.display =\n",
              "        google.colab.kernel.accessAllowed ? 'block' : 'none';\n",
              "\n",
              "      async function convertToInteractive(key) {\n",
              "        const element = document.querySelector('#df-0f98000f-db76-4be5-840b-265191644761');\n",
              "        const dataTable =\n",
              "          await google.colab.kernel.invokeFunction('convertToInteractive',\n",
              "                                                    [key], {});\n",
              "        if (!dataTable) return;\n",
              "\n",
              "        const docLinkHtml = 'Like what you see? Visit the ' +\n",
              "          '<a target=\"_blank\" href=https://colab.research.google.com/notebooks/data_table.ipynb>data table notebook</a>'\n",
              "          + ' to learn more about interactive tables.';\n",
              "        element.innerHTML = '';\n",
              "        dataTable['output_type'] = 'display_data';\n",
              "        await google.colab.output.renderOutput(dataTable, element);\n",
              "        const docLink = document.createElement('div');\n",
              "        docLink.innerHTML = docLinkHtml;\n",
              "        element.appendChild(docLink);\n",
              "      }\n",
              "    </script>\n",
              "  </div>\n",
              "\n",
              "\n",
              "    <div id=\"df-ae755c00-9530-4114-b3e3-677b0286d1ec\">\n",
              "      <button class=\"colab-df-quickchart\" onclick=\"quickchart('df-ae755c00-9530-4114-b3e3-677b0286d1ec')\"\n",
              "                title=\"Suggest charts\"\n",
              "                style=\"display:none;\">\n",
              "\n",
              "<svg xmlns=\"http://www.w3.org/2000/svg\" height=\"24px\"viewBox=\"0 0 24 24\"\n",
              "     width=\"24px\">\n",
              "    <g>\n",
              "        <path d=\"M19 3H5c-1.1 0-2 .9-2 2v14c0 1.1.9 2 2 2h14c1.1 0 2-.9 2-2V5c0-1.1-.9-2-2-2zM9 17H7v-7h2v7zm4 0h-2V7h2v10zm4 0h-2v-4h2v4z\"/>\n",
              "    </g>\n",
              "</svg>\n",
              "      </button>\n",
              "\n",
              "<style>\n",
              "  .colab-df-quickchart {\n",
              "      --bg-color: #E8F0FE;\n",
              "      --fill-color: #1967D2;\n",
              "      --hover-bg-color: #E2EBFA;\n",
              "      --hover-fill-color: #174EA6;\n",
              "      --disabled-fill-color: #AAA;\n",
              "      --disabled-bg-color: #DDD;\n",
              "  }\n",
              "\n",
              "  [theme=dark] .colab-df-quickchart {\n",
              "      --bg-color: #3B4455;\n",
              "      --fill-color: #D2E3FC;\n",
              "      --hover-bg-color: #434B5C;\n",
              "      --hover-fill-color: #FFFFFF;\n",
              "      --disabled-bg-color: #3B4455;\n",
              "      --disabled-fill-color: #666;\n",
              "  }\n",
              "\n",
              "  .colab-df-quickchart {\n",
              "    background-color: var(--bg-color);\n",
              "    border: none;\n",
              "    border-radius: 50%;\n",
              "    cursor: pointer;\n",
              "    display: none;\n",
              "    fill: var(--fill-color);\n",
              "    height: 32px;\n",
              "    padding: 0;\n",
              "    width: 32px;\n",
              "  }\n",
              "\n",
              "  .colab-df-quickchart:hover {\n",
              "    background-color: var(--hover-bg-color);\n",
              "    box-shadow: 0 1px 2px rgba(60, 64, 67, 0.3), 0 1px 3px 1px rgba(60, 64, 67, 0.15);\n",
              "    fill: var(--button-hover-fill-color);\n",
              "  }\n",
              "\n",
              "  .colab-df-quickchart-complete:disabled,\n",
              "  .colab-df-quickchart-complete:disabled:hover {\n",
              "    background-color: var(--disabled-bg-color);\n",
              "    fill: var(--disabled-fill-color);\n",
              "    box-shadow: none;\n",
              "  }\n",
              "\n",
              "  .colab-df-spinner {\n",
              "    border: 2px solid var(--fill-color);\n",
              "    border-color: transparent;\n",
              "    border-bottom-color: var(--fill-color);\n",
              "    animation:\n",
              "      spin 1s steps(1) infinite;\n",
              "  }\n",
              "\n",
              "  @keyframes spin {\n",
              "    0% {\n",
              "      border-color: transparent;\n",
              "      border-bottom-color: var(--fill-color);\n",
              "      border-left-color: var(--fill-color);\n",
              "    }\n",
              "    20% {\n",
              "      border-color: transparent;\n",
              "      border-left-color: var(--fill-color);\n",
              "      border-top-color: var(--fill-color);\n",
              "    }\n",
              "    30% {\n",
              "      border-color: transparent;\n",
              "      border-left-color: var(--fill-color);\n",
              "      border-top-color: var(--fill-color);\n",
              "      border-right-color: var(--fill-color);\n",
              "    }\n",
              "    40% {\n",
              "      border-color: transparent;\n",
              "      border-right-color: var(--fill-color);\n",
              "      border-top-color: var(--fill-color);\n",
              "    }\n",
              "    60% {\n",
              "      border-color: transparent;\n",
              "      border-right-color: var(--fill-color);\n",
              "    }\n",
              "    80% {\n",
              "      border-color: transparent;\n",
              "      border-right-color: var(--fill-color);\n",
              "      border-bottom-color: var(--fill-color);\n",
              "    }\n",
              "    90% {\n",
              "      border-color: transparent;\n",
              "      border-bottom-color: var(--fill-color);\n",
              "    }\n",
              "  }\n",
              "</style>\n",
              "\n",
              "      <script>\n",
              "        async function quickchart(key) {\n",
              "          const quickchartButtonEl =\n",
              "            document.querySelector('#' + key + ' button');\n",
              "          quickchartButtonEl.disabled = true;  // To prevent multiple clicks.\n",
              "          quickchartButtonEl.classList.add('colab-df-spinner');\n",
              "          try {\n",
              "            const charts = await google.colab.kernel.invokeFunction(\n",
              "                'suggestCharts', [key], {});\n",
              "          } catch (error) {\n",
              "            console.error('Error during call to suggestCharts:', error);\n",
              "          }\n",
              "          quickchartButtonEl.classList.remove('colab-df-spinner');\n",
              "          quickchartButtonEl.classList.add('colab-df-quickchart-complete');\n",
              "        }\n",
              "        (() => {\n",
              "          let quickchartButtonEl =\n",
              "            document.querySelector('#df-ae755c00-9530-4114-b3e3-677b0286d1ec button');\n",
              "          quickchartButtonEl.style.display =\n",
              "            google.colab.kernel.accessAllowed ? 'block' : 'none';\n",
              "        })();\n",
              "      </script>\n",
              "    </div>\n",
              "\n",
              "    </div>\n",
              "  </div>\n"
            ],
            "application/vnd.google.colaboratory.intrinsic+json": {
              "type": "dataframe",
              "variable_name": "df",
              "summary": "{\n  \"name\": \"df\",\n  \"rows\": 1000,\n  \"fields\": [\n    {\n      \"column\": \"Theme\",\n      \"properties\": {\n        \"dtype\": \"category\",\n        \"num_unique_values\": 2,\n        \"samples\": [\n          \"Dark Theme\",\n          \"Light Theme\"\n        ],\n        \"semantic_type\": \"\",\n        \"description\": \"\"\n      }\n    },\n    {\n      \"column\": \"Click Through Rate\",\n      \"properties\": {\n        \"dtype\": \"number\",\n        \"std\": 0.13926529998934264,\n        \"min\": 0.0107665246073655,\n        \"max\": 0.499988544340484,\n        \"num_unique_values\": 1000,\n        \"samples\": [\n          0.350050514109989,\n          0.36642702848105\n        ],\n        \"semantic_type\": \"\",\n        \"description\": \"\"\n      }\n    },\n    {\n      \"column\": \"Conversion Rate\",\n      \"properties\": {\n        \"dtype\": \"number\",\n        \"std\": 0.13909186494464423,\n        \"min\": 0.0108809742697042,\n        \"max\": 0.4989156869693137,\n        \"num_unique_values\": 1000,\n        \"samples\": [\n          0.2781821623682043,\n          0.4000270351775897\n        ],\n        \"semantic_type\": \"\",\n        \"description\": \"\"\n      }\n    },\n    {\n      \"column\": \"Bounce Rate\",\n      \"properties\": {\n        \"dtype\": \"number\",\n        \"std\": 0.17219523263711878,\n        \"min\": 0.200720123486082,\n        \"max\": 0.7996576279209053,\n        \"num_unique_values\": 1000,\n        \"samples\": [\n          0.6604498399187236,\n          0.6972492025915216\n        ],\n        \"semantic_type\": \"\",\n        \"description\": \"\"\n      }\n    },\n    {\n      \"column\": \"Scroll_Depth\",\n      \"properties\": {\n        \"dtype\": \"number\",\n        \"std\": 16.895269408611178,\n        \"min\": 20.01173767133651,\n        \"max\": 79.99710804888247,\n        \"num_unique_values\": 1000,\n        \"samples\": [\n          33.243367048779255,\n          31.932512000494064\n        ],\n        \"semantic_type\": \"\",\n        \"description\": \"\"\n      }\n    },\n    {\n      \"column\": \"Age\",\n      \"properties\": {\n        \"dtype\": \"number\",\n        \"std\": 14,\n        \"min\": 18,\n        \"max\": 65,\n        \"num_unique_values\": 48,\n        \"samples\": [\n          59,\n          33\n        ],\n        \"semantic_type\": \"\",\n        \"description\": \"\"\n      }\n    },\n    {\n      \"column\": \"Location\",\n      \"properties\": {\n        \"dtype\": \"category\",\n        \"num_unique_values\": 5,\n        \"samples\": [\n          \"Pune\",\n          \"Bangalore\"\n        ],\n        \"semantic_type\": \"\",\n        \"description\": \"\"\n      }\n    },\n    {\n      \"column\": \"Session_Duration\",\n      \"properties\": {\n        \"dtype\": \"number\",\n        \"std\": 508,\n        \"min\": 38,\n        \"max\": 1797,\n        \"num_unique_values\": 770,\n        \"samples\": [\n          288,\n          962\n        ],\n        \"semantic_type\": \"\",\n        \"description\": \"\"\n      }\n    },\n    {\n      \"column\": \"Purchases\",\n      \"properties\": {\n        \"dtype\": \"category\",\n        \"num_unique_values\": 2,\n        \"samples\": [\n          \"Yes\",\n          \"No\"\n        ],\n        \"semantic_type\": \"\",\n        \"description\": \"\"\n      }\n    },\n    {\n      \"column\": \"Added_to_Cart\",\n      \"properties\": {\n        \"dtype\": \"category\",\n        \"num_unique_values\": 2,\n        \"samples\": [\n          \"No\",\n          \"Yes\"\n        ],\n        \"semantic_type\": \"\",\n        \"description\": \"\"\n      }\n    }\n  ]\n}"
            }
          },
          "metadata": {},
          "execution_count": 20
        }
      ]
    },
    {
      "cell_type": "markdown",
      "metadata": {
        "id": "Cg2qFQyf4F53"
      },
      "source": [
        "### Parte A\n",
        "Realize um teste de hipótese que verifique se a Conversion Rate é a mesma para os dois temas. Faça o teste com confiança de 95%."
      ]
    },
    {
      "cell_type": "markdown",
      "source": [
        "H0: μConversionRateLightTheme == μConversionRateDarkTheme \\\n",
        "HA: μConversionRateLightTheme <> μConversionRateDarkTheme"
      ],
      "metadata": {
        "id": "F4xLNZ7dE4Yk"
      }
    },
    {
      "cell_type": "code",
      "source": [
        "conversionRateLight = df[df['Theme'] == 'Light Theme']['Conversion Rate']\n",
        "conversionRateDark = df[df['Theme'] == 'Dark Theme']['Conversion Rate']\n",
        "\n",
        "z_test, pValue = stats.ttest_ind(conversionRateLight, conversionRateDark)\n",
        "\n",
        "if pValue < 0.05:\n",
        "    print(\"Rejeitamos H0: As médias são diferentes.\")\n",
        "else:\n",
        "    print(\"Não rejeitamos H0: As médias são iguais.\")"
      ],
      "metadata": {
        "id": "0xfxjQbvECq_",
        "outputId": "6a6939c0-e989-47bf-a7fd-d6914b235dd1",
        "colab": {
          "base_uri": "https://localhost:8080/"
        }
      },
      "execution_count": 23,
      "outputs": [
        {
          "output_type": "stream",
          "name": "stdout",
          "text": [
            "Não rejeitamos H0: As médias são iguais.\n"
          ]
        }
      ]
    },
    {
      "cell_type": "markdown",
      "source": [
        "Conclusão:\n",
        "Como pValue > 0.05, falhamos em rejeitar a hipótese nula. Logo as médias de Conversion Rate entre o Light Theme e o Dark Theme são as mesmas."
      ],
      "metadata": {
        "id": "yuctvIDQFVUl"
      }
    },
    {
      "cell_type": "markdown",
      "metadata": {
        "id": "ky1EP9XC4F54"
      },
      "source": [
        "### Parte B\n",
        "Realize um teste de hipótese que verifique se a Click Through Rate é a mesma para os dois temas. Faça o teste com confiança de 95%."
      ]
    },
    {
      "cell_type": "code",
      "source": [
        "clickThroughRateLight = df[df['Theme'] == 'Light Theme']['Click Through Rate']\n",
        "clickThroughRateDark = df[df['Theme'] == 'Dark Theme']['Click Through Rate']\n",
        "\n",
        "z_test, pValue = stats.ttest_ind(clickThroughRateLight, clickThroughRateDark)\n",
        "\n",
        "if pValue < 0.05:\n",
        "    print(\"Rejeitamos H0: As médias são diferentes.\")\n",
        "else:\n",
        "    print(\"Não rejeitamos H0: As médias são iguais.\")"
      ],
      "metadata": {
        "id": "YD6c5CBtFgxF",
        "outputId": "edf80383-0667-4e38-a582-f90485c76426",
        "colab": {
          "base_uri": "https://localhost:8080/"
        }
      },
      "execution_count": 24,
      "outputs": [
        {
          "output_type": "stream",
          "name": "stdout",
          "text": [
            "Rejeitamos H0: As médias são diferentes.\n"
          ]
        }
      ]
    },
    {
      "cell_type": "markdown",
      "source": [
        "Conclusão:\n",
        "Como pValue < 0.05, rejeitamos a hipótese nula. Portanto, o Click Through Rate não é o mesmo para os dois temas."
      ],
      "metadata": {
        "id": "EyTMxFFOFyNz"
      }
    },
    {
      "cell_type": "markdown",
      "metadata": {
        "id": "rXhj6vYL4F54"
      },
      "source": [
        "### Questão 2\n",
        "Uma pesquisa nacional realizada em 2020 nos EUA apontava que apenas 13% dos postos de trabalho com salário maior ou igual a US$ 100.000 eram ocupados por negros ou afro americanos (Black or African American). Uma amostra dos dados de 174 empregados da empresa Pandora Inc. está disponível no arquivo 'salary.csv'. Utilizando esses dados, realize um teste de hipótese para verificar se a taxa de negros ou afro americanos na empresa Pandora Inc com salário maior ou igual a US$ 100.000 é a mesma da taxa nacional. Faça o teste com 95% de confiança."
      ]
    },
    {
      "cell_type": "markdown",
      "metadata": {
        "id": "PEpSpiea4F55"
      },
      "source": [
        "### Questão 3\n",
        "Uma pediatra quer ver o efeito do consumo de fórmula (leite em pó) no ganho médio de peso mensal (em gramas) dos bebês. Por esse motivo, ela coletou dados de três grupos diferentes. O primeiro grupo é composto por crianças amamentadas exclusivamente (recebem apenas leite materno), o segundo grupo é composto por crianças que são alimentadas apenas com fórmula e o último grupo é composto por crianças amamentadas e com fórmula. Esses dados são os seguintes.\n",
        "\n",
        "leite_materno = [794.1, 716.9, 993. , 724.7, 760.9, 908.2, 659.3 , 690.8, 768.7, 717.3 , 630.7, 729.5, 714.1, 810.3, 583.5, 679.9, 865.1]\n",
        "\n",
        "formula = [ 898.8, 881.2, 940.2, 966.2, 957.5, 1061.7, 1046.2, 980.4, 895.6, 919.7, 1074.1, 952.5, 796.3, 859.6, 871.1 , 1047.5, 919.1 , 1160.5, 996.9]\n",
        "\n",
        "ambos = [976.4, 656.4, 861.2, 706.8, 718.5, 717.1, 759.8, 894.6, 867.6, 805.6, 765.4, 800.3, 789.9, 875.3, 740. , 799.4, 790.3, 795.2 , 823.6, 818.7, 926.8, 791.7, 948.3]\n",
        "\n",
        "Realize um teste de hipótese e informe se há diferença no peso médio das crianças desses 3 grupos. Nível de cofiança de 95%."
      ]
    },
    {
      "cell_type": "code",
      "source": [
        "leite_materno = [794.1, 716.9, 993. , 724.7, 760.9, 908.2, 659.3 , 690.8, 768.7, 717.3 , 630.7, 729.5, 714.1, 810.3, 583.5, 679.9, 865.1]\n",
        "\n",
        "formula = [ 898.8, 881.2, 940.2, 966.2, 957.5, 1061.7, 1046.2, 980.4, 895.6, 919.7, 1074.1, 952.5, 796.3, 859.6, 871.1 , 1047.5, 919.1 , 1160.5, 996.9]\n",
        "\n",
        "ambos = [976.4, 656.4, 861.2, 706.8, 718.5, 717.1, 759.8, 894.6, 867.6, 805.6, 765.4, 800.3, 789.9, 875.3, 740. , 799.4, 790.3, 795.2 , 823.6, 818.7, 926.8, 791.7, 948.3]"
      ],
      "metadata": {
        "id": "RZ0jEgQS6dEf"
      },
      "execution_count": 3,
      "outputs": []
    },
    {
      "cell_type": "markdown",
      "source": [
        "H0: μleiteMaterno = μFormula = μAmbos\n",
        "Ha: Médias não são iguais"
      ],
      "metadata": {
        "id": "M5bBRDEE60T9"
      }
    },
    {
      "cell_type": "code",
      "source": [
        "stats.f_oneway(leite_materno, formula, ambos)"
      ],
      "metadata": {
        "id": "t5mqSb-e68Xg",
        "outputId": "d99bbf70-d72f-4d3f-aa50-8e98086c691b",
        "colab": {
          "base_uri": "https://localhost:8080/"
        }
      },
      "execution_count": 19,
      "outputs": [
        {
          "output_type": "execute_result",
          "data": {
            "text/plain": [
              "F_onewayResult(statistic=np.float64(26.701251857537958), pvalue=np.float64(7.18623550288582e-09))"
            ]
          },
          "metadata": {},
          "execution_count": 19
        }
      ]
    },
    {
      "cell_type": "markdown",
      "source": [
        "Conclusão:\n",
        "Como pValue < 0.05, rejeitamos a hipótese nula. Portanto, as médias não são iguais."
      ],
      "metadata": {
        "id": "5d5GZzeSBpR0"
      }
    },
    {
      "cell_type": "markdown",
      "metadata": {
        "id": "NaIPx3aC4F56"
      },
      "source": [
        "### Questão 4\n",
        "Um professor quer usar dois exames em suas aulas no ano que vem. Este ano, ele aplicou os dois exames aos alunos. Ele quer saber se os exames são igualmente difíceis e quer verificar isso observando as diferenças entre as pontuações. Se a diferença média entre as pontuações dos alunos for \"próxima o suficiente\" de zero, ele chegará a uma conclusão prática de que os exames são igualmente difíceis. As notas dos alunos estão no dataset 'notas.csv'. Assuma que as notas são normalmente distribuídas e realize um teste de hipótese com confianção de 95% que seja capaz de informar ao professor se as provas são igualmente difíceis."
      ]
    },
    {
      "cell_type": "code",
      "source": [
        "dfNotas = pd.read_csv('notas.csv')\n",
        "dfNotas.head()"
      ],
      "metadata": {
        "id": "xgwkweCO7YBQ",
        "outputId": "92c87d5b-1f5a-4e38-9c3d-c3bd4703a772",
        "colab": {
          "base_uri": "https://localhost:8080/",
          "height": 206
        }
      },
      "execution_count": 6,
      "outputs": [
        {
          "output_type": "execute_result",
          "data": {
            "text/plain": [
              "    Nome  Nota1  Nota2\n",
              "0    Rui     63     69\n",
              "1   Nina     65     65\n",
              "2   Theo     56     62\n",
              "3   Kate    100     91\n",
              "4  Pedro     88     78"
            ],
            "text/html": [
              "\n",
              "  <div id=\"df-dcb7b71e-db14-47ff-92f4-b5d77494e4fc\" class=\"colab-df-container\">\n",
              "    <div>\n",
              "<style scoped>\n",
              "    .dataframe tbody tr th:only-of-type {\n",
              "        vertical-align: middle;\n",
              "    }\n",
              "\n",
              "    .dataframe tbody tr th {\n",
              "        vertical-align: top;\n",
              "    }\n",
              "\n",
              "    .dataframe thead th {\n",
              "        text-align: right;\n",
              "    }\n",
              "</style>\n",
              "<table border=\"1\" class=\"dataframe\">\n",
              "  <thead>\n",
              "    <tr style=\"text-align: right;\">\n",
              "      <th></th>\n",
              "      <th>Nome</th>\n",
              "      <th>Nota1</th>\n",
              "      <th>Nota2</th>\n",
              "    </tr>\n",
              "  </thead>\n",
              "  <tbody>\n",
              "    <tr>\n",
              "      <th>0</th>\n",
              "      <td>Rui</td>\n",
              "      <td>63</td>\n",
              "      <td>69</td>\n",
              "    </tr>\n",
              "    <tr>\n",
              "      <th>1</th>\n",
              "      <td>Nina</td>\n",
              "      <td>65</td>\n",
              "      <td>65</td>\n",
              "    </tr>\n",
              "    <tr>\n",
              "      <th>2</th>\n",
              "      <td>Theo</td>\n",
              "      <td>56</td>\n",
              "      <td>62</td>\n",
              "    </tr>\n",
              "    <tr>\n",
              "      <th>3</th>\n",
              "      <td>Kate</td>\n",
              "      <td>100</td>\n",
              "      <td>91</td>\n",
              "    </tr>\n",
              "    <tr>\n",
              "      <th>4</th>\n",
              "      <td>Pedro</td>\n",
              "      <td>88</td>\n",
              "      <td>78</td>\n",
              "    </tr>\n",
              "  </tbody>\n",
              "</table>\n",
              "</div>\n",
              "    <div class=\"colab-df-buttons\">\n",
              "\n",
              "  <div class=\"colab-df-container\">\n",
              "    <button class=\"colab-df-convert\" onclick=\"convertToInteractive('df-dcb7b71e-db14-47ff-92f4-b5d77494e4fc')\"\n",
              "            title=\"Convert this dataframe to an interactive table.\"\n",
              "            style=\"display:none;\">\n",
              "\n",
              "  <svg xmlns=\"http://www.w3.org/2000/svg\" height=\"24px\" viewBox=\"0 -960 960 960\">\n",
              "    <path d=\"M120-120v-720h720v720H120Zm60-500h600v-160H180v160Zm220 220h160v-160H400v160Zm0 220h160v-160H400v160ZM180-400h160v-160H180v160Zm440 0h160v-160H620v160ZM180-180h160v-160H180v160Zm440 0h160v-160H620v160Z\"/>\n",
              "  </svg>\n",
              "    </button>\n",
              "\n",
              "  <style>\n",
              "    .colab-df-container {\n",
              "      display:flex;\n",
              "      gap: 12px;\n",
              "    }\n",
              "\n",
              "    .colab-df-convert {\n",
              "      background-color: #E8F0FE;\n",
              "      border: none;\n",
              "      border-radius: 50%;\n",
              "      cursor: pointer;\n",
              "      display: none;\n",
              "      fill: #1967D2;\n",
              "      height: 32px;\n",
              "      padding: 0 0 0 0;\n",
              "      width: 32px;\n",
              "    }\n",
              "\n",
              "    .colab-df-convert:hover {\n",
              "      background-color: #E2EBFA;\n",
              "      box-shadow: 0px 1px 2px rgba(60, 64, 67, 0.3), 0px 1px 3px 1px rgba(60, 64, 67, 0.15);\n",
              "      fill: #174EA6;\n",
              "    }\n",
              "\n",
              "    .colab-df-buttons div {\n",
              "      margin-bottom: 4px;\n",
              "    }\n",
              "\n",
              "    [theme=dark] .colab-df-convert {\n",
              "      background-color: #3B4455;\n",
              "      fill: #D2E3FC;\n",
              "    }\n",
              "\n",
              "    [theme=dark] .colab-df-convert:hover {\n",
              "      background-color: #434B5C;\n",
              "      box-shadow: 0px 1px 3px 1px rgba(0, 0, 0, 0.15);\n",
              "      filter: drop-shadow(0px 1px 2px rgba(0, 0, 0, 0.3));\n",
              "      fill: #FFFFFF;\n",
              "    }\n",
              "  </style>\n",
              "\n",
              "    <script>\n",
              "      const buttonEl =\n",
              "        document.querySelector('#df-dcb7b71e-db14-47ff-92f4-b5d77494e4fc button.colab-df-convert');\n",
              "      buttonEl.style.display =\n",
              "        google.colab.kernel.accessAllowed ? 'block' : 'none';\n",
              "\n",
              "      async function convertToInteractive(key) {\n",
              "        const element = document.querySelector('#df-dcb7b71e-db14-47ff-92f4-b5d77494e4fc');\n",
              "        const dataTable =\n",
              "          await google.colab.kernel.invokeFunction('convertToInteractive',\n",
              "                                                    [key], {});\n",
              "        if (!dataTable) return;\n",
              "\n",
              "        const docLinkHtml = 'Like what you see? Visit the ' +\n",
              "          '<a target=\"_blank\" href=https://colab.research.google.com/notebooks/data_table.ipynb>data table notebook</a>'\n",
              "          + ' to learn more about interactive tables.';\n",
              "        element.innerHTML = '';\n",
              "        dataTable['output_type'] = 'display_data';\n",
              "        await google.colab.output.renderOutput(dataTable, element);\n",
              "        const docLink = document.createElement('div');\n",
              "        docLink.innerHTML = docLinkHtml;\n",
              "        element.appendChild(docLink);\n",
              "      }\n",
              "    </script>\n",
              "  </div>\n",
              "\n",
              "\n",
              "    <div id=\"df-d841aa70-9321-4282-bbfe-ec19ff55dffd\">\n",
              "      <button class=\"colab-df-quickchart\" onclick=\"quickchart('df-d841aa70-9321-4282-bbfe-ec19ff55dffd')\"\n",
              "                title=\"Suggest charts\"\n",
              "                style=\"display:none;\">\n",
              "\n",
              "<svg xmlns=\"http://www.w3.org/2000/svg\" height=\"24px\"viewBox=\"0 0 24 24\"\n",
              "     width=\"24px\">\n",
              "    <g>\n",
              "        <path d=\"M19 3H5c-1.1 0-2 .9-2 2v14c0 1.1.9 2 2 2h14c1.1 0 2-.9 2-2V5c0-1.1-.9-2-2-2zM9 17H7v-7h2v7zm4 0h-2V7h2v10zm4 0h-2v-4h2v4z\"/>\n",
              "    </g>\n",
              "</svg>\n",
              "      </button>\n",
              "\n",
              "<style>\n",
              "  .colab-df-quickchart {\n",
              "      --bg-color: #E8F0FE;\n",
              "      --fill-color: #1967D2;\n",
              "      --hover-bg-color: #E2EBFA;\n",
              "      --hover-fill-color: #174EA6;\n",
              "      --disabled-fill-color: #AAA;\n",
              "      --disabled-bg-color: #DDD;\n",
              "  }\n",
              "\n",
              "  [theme=dark] .colab-df-quickchart {\n",
              "      --bg-color: #3B4455;\n",
              "      --fill-color: #D2E3FC;\n",
              "      --hover-bg-color: #434B5C;\n",
              "      --hover-fill-color: #FFFFFF;\n",
              "      --disabled-bg-color: #3B4455;\n",
              "      --disabled-fill-color: #666;\n",
              "  }\n",
              "\n",
              "  .colab-df-quickchart {\n",
              "    background-color: var(--bg-color);\n",
              "    border: none;\n",
              "    border-radius: 50%;\n",
              "    cursor: pointer;\n",
              "    display: none;\n",
              "    fill: var(--fill-color);\n",
              "    height: 32px;\n",
              "    padding: 0;\n",
              "    width: 32px;\n",
              "  }\n",
              "\n",
              "  .colab-df-quickchart:hover {\n",
              "    background-color: var(--hover-bg-color);\n",
              "    box-shadow: 0 1px 2px rgba(60, 64, 67, 0.3), 0 1px 3px 1px rgba(60, 64, 67, 0.15);\n",
              "    fill: var(--button-hover-fill-color);\n",
              "  }\n",
              "\n",
              "  .colab-df-quickchart-complete:disabled,\n",
              "  .colab-df-quickchart-complete:disabled:hover {\n",
              "    background-color: var(--disabled-bg-color);\n",
              "    fill: var(--disabled-fill-color);\n",
              "    box-shadow: none;\n",
              "  }\n",
              "\n",
              "  .colab-df-spinner {\n",
              "    border: 2px solid var(--fill-color);\n",
              "    border-color: transparent;\n",
              "    border-bottom-color: var(--fill-color);\n",
              "    animation:\n",
              "      spin 1s steps(1) infinite;\n",
              "  }\n",
              "\n",
              "  @keyframes spin {\n",
              "    0% {\n",
              "      border-color: transparent;\n",
              "      border-bottom-color: var(--fill-color);\n",
              "      border-left-color: var(--fill-color);\n",
              "    }\n",
              "    20% {\n",
              "      border-color: transparent;\n",
              "      border-left-color: var(--fill-color);\n",
              "      border-top-color: var(--fill-color);\n",
              "    }\n",
              "    30% {\n",
              "      border-color: transparent;\n",
              "      border-left-color: var(--fill-color);\n",
              "      border-top-color: var(--fill-color);\n",
              "      border-right-color: var(--fill-color);\n",
              "    }\n",
              "    40% {\n",
              "      border-color: transparent;\n",
              "      border-right-color: var(--fill-color);\n",
              "      border-top-color: var(--fill-color);\n",
              "    }\n",
              "    60% {\n",
              "      border-color: transparent;\n",
              "      border-right-color: var(--fill-color);\n",
              "    }\n",
              "    80% {\n",
              "      border-color: transparent;\n",
              "      border-right-color: var(--fill-color);\n",
              "      border-bottom-color: var(--fill-color);\n",
              "    }\n",
              "    90% {\n",
              "      border-color: transparent;\n",
              "      border-bottom-color: var(--fill-color);\n",
              "    }\n",
              "  }\n",
              "</style>\n",
              "\n",
              "      <script>\n",
              "        async function quickchart(key) {\n",
              "          const quickchartButtonEl =\n",
              "            document.querySelector('#' + key + ' button');\n",
              "          quickchartButtonEl.disabled = true;  // To prevent multiple clicks.\n",
              "          quickchartButtonEl.classList.add('colab-df-spinner');\n",
              "          try {\n",
              "            const charts = await google.colab.kernel.invokeFunction(\n",
              "                'suggestCharts', [key], {});\n",
              "          } catch (error) {\n",
              "            console.error('Error during call to suggestCharts:', error);\n",
              "          }\n",
              "          quickchartButtonEl.classList.remove('colab-df-spinner');\n",
              "          quickchartButtonEl.classList.add('colab-df-quickchart-complete');\n",
              "        }\n",
              "        (() => {\n",
              "          let quickchartButtonEl =\n",
              "            document.querySelector('#df-d841aa70-9321-4282-bbfe-ec19ff55dffd button');\n",
              "          quickchartButtonEl.style.display =\n",
              "            google.colab.kernel.accessAllowed ? 'block' : 'none';\n",
              "        })();\n",
              "      </script>\n",
              "    </div>\n",
              "\n",
              "    </div>\n",
              "  </div>\n"
            ],
            "application/vnd.google.colaboratory.intrinsic+json": {
              "type": "dataframe",
              "variable_name": "dfNotas",
              "summary": "{\n  \"name\": \"dfNotas\",\n  \"rows\": 16,\n  \"fields\": [\n    {\n      \"column\": \"Nome\",\n      \"properties\": {\n        \"dtype\": \"string\",\n        \"num_unique_values\": 16,\n        \"samples\": [\n          \"Rui\",\n          \"Nina\",\n          \"Jose\"\n        ],\n        \"semantic_type\": \"\",\n        \"description\": \"\"\n      }\n    },\n    {\n      \"column\": \"Nota1\",\n      \"properties\": {\n        \"dtype\": \"number\",\n        \"std\": 12,\n        \"min\": 56,\n        \"max\": 100,\n        \"num_unique_values\": 15,\n        \"samples\": [\n          84,\n          74,\n          63\n        ],\n        \"semantic_type\": \"\",\n        \"description\": \"\"\n      }\n    },\n    {\n      \"column\": \"Nota2\",\n      \"properties\": {\n        \"dtype\": \"number\",\n        \"std\": 9,\n        \"min\": 62,\n        \"max\": 92,\n        \"num_unique_values\": 14,\n        \"samples\": [\n          92,\n          84,\n          69\n        ],\n        \"semantic_type\": \"\",\n        \"description\": \"\"\n      }\n    }\n  ]\n}"
            }
          },
          "metadata": {},
          "execution_count": 6
        }
      ]
    },
    {
      "cell_type": "markdown",
      "source": [
        "H0: μMediaP1 == μMediaP2 \\\n",
        "HA: μMediaP1 > μMediaP2"
      ],
      "metadata": {
        "id": "WVlvsA4F7jRX"
      }
    },
    {
      "cell_type": "code",
      "source": [
        "tMediaNota1 = dfNotas['Nota1']\n",
        "tMediaNota2 = dfNotas['Nota2']"
      ],
      "metadata": {
        "id": "-kilBKBI7aj7"
      },
      "execution_count": 7,
      "outputs": []
    },
    {
      "cell_type": "code",
      "source": [
        "stats.ttest_rel(tMediaNota1, tMediaNota2, alternative='two-sided')"
      ],
      "metadata": {
        "id": "O7XKAM0s7qzq",
        "outputId": "370d64a2-0745-410c-99dd-9000dd446c6b",
        "colab": {
          "base_uri": "https://localhost:8080/"
        }
      },
      "execution_count": 8,
      "outputs": [
        {
          "output_type": "execute_result",
          "data": {
            "text/plain": [
              "TtestResult(statistic=np.float64(-0.7497768853141169), pvalue=np.float64(0.4649871003972206), df=np.int64(15))"
            ]
          },
          "metadata": {},
          "execution_count": 8
        }
      ]
    },
    {
      "cell_type": "markdown",
      "source": [
        "Conclusão:\n",
        "Como pValue > 0.05, falhamos em rejeitar a hipótese nula. Logo as médias das duas provas são as mesmas. Portanto, pode-se dizer que ambas as provas são igualmente difíceis."
      ],
      "metadata": {
        "id": "wwsFYSXr7zJ8"
      }
    },
    {
      "cell_type": "markdown",
      "metadata": {
        "id": "YNvmYVif4F57"
      },
      "source": [
        "### Questão 5\n",
        "Um estudo do ano 2000 encontrou 132 casos de miopia em 400 pessoas examinadas, escolhidas ao acaso. Outro estudo de 2015 encontrou 228 casos em 600 pessoas examinadas. Com base nesses estudos, é correto afirmar que os casos de miopia aumentaram entre 2000 e 2015? Realize o teste com confiança de 95%."
      ]
    },
    {
      "cell_type": "markdown",
      "source": [
        "H0: μMiopia2000 >= μMiopia2015 \\\n",
        "HA: μMiopia2000 < μMiopia2015"
      ],
      "metadata": {
        "id": "EAkIoflu92ON"
      }
    },
    {
      "cell_type": "markdown",
      "source": [
        " Sobre o parâmetro alternative\n",
        "\n",
        "    Se você quiser testar:\n",
        "\n",
        "        Se p1 ≠ p2: use alternative='two-sided'\n",
        "\n",
        "        Se p1 < p2 (nosso caso): use alternative='smaller'\n",
        "\n",
        "        Se p1 > p2: use alternative='larger'"
      ],
      "metadata": {
        "id": "bPBz10As-GBb"
      }
    },
    {
      "cell_type": "code",
      "source": [
        "from statsmodels.stats.proportion import proportions_ztest, test_proportions_2indep\n",
        "\n",
        "# Usando ztest\n",
        "sucessos = [132, 228]  # casos de miopia em 2000 e 2015\n",
        "n = [400, 600]         # amostras em 2000 e 2015\n",
        "\n",
        "# Teste de hipótese (H1: proporção de 2015 > proporção de 2000)\n",
        "z_stat, p_valor = proportions_ztest(count=sucessos, nobs=n, alternative='smaller')\n",
        "\n",
        "\n",
        "# Usando 2indep\n",
        "count1, nobs1 = 132, 400  # ano 2000\n",
        "count2, nobs2 = 228, 600  # ano 2015\n",
        "\n",
        "indep = test_proportions_2indep(count1, nobs1, count2, nobs2, alternative='smaller')\n",
        "print(f\"Z {indep.tuple[0]} PValue {indep.tuple[1]}\")\n",
        "\n",
        "# Resultado\n",
        "print(f\"Estatística Z: {z_stat:.4f}\")\n",
        "print(f\"Valor-p: {p_valor:.4f}\")\n",
        "\n",
        "if p_valor < 0.05:\n",
        "    print(\"Rejeitamos H0: Há evidências de que a miopia aumentou de 2000 para 2015.\")\n",
        "else:\n",
        "    print(\"Não rejeitamos H0: Não há evidências suficientes de aumento na miopia.\")"
      ],
      "metadata": {
        "id": "wQC-ayNR83N1",
        "outputId": "1aded6d2-bde8-4c6e-8f74-fabb456b518f",
        "colab": {
          "base_uri": "https://localhost:8080/"
        }
      },
      "execution_count": 18,
      "outputs": [
        {
          "output_type": "stream",
          "name": "stdout",
          "text": [
            "Z -1.614319932038497 PValue 0.05322902444748195\n",
            "Estatística Z: -1.6137\n",
            "Valor-p: 0.0533\n",
            "Não rejeitamos H0: Não há evidências suficientes de aumento na miopia.\n"
          ]
        }
      ]
    },
    {
      "cell_type": "markdown",
      "source": [
        "Conclusão:\n",
        "Como pValue > 0.05, falhamos em rejeitar a hipótese nula. Logo os casos de miopia não tiveram um aumento significativo."
      ],
      "metadata": {
        "id": "FcxvTFqO9qus"
      }
    },
    {
      "cell_type": "markdown",
      "metadata": {
        "id": "YD_Juja-4F58"
      },
      "source": [
        "### Questão 6\n",
        "\n",
        "Uma empresa desenvolveu um medicamento que supostamente aumenta o QI. É conhecido que o desvio padrão do QI na população em geral é 15 e o valor do QI tem distribuição normal. A empresa testou seu medicamento em 36 pacientes e obteve um QI médio de 97,65. Usando confiança de 95%, pode-se dizer que este valor de QI é significativamente diferente da média populacional, cujo valor é 100?"
      ]
    },
    {
      "cell_type": "code",
      "source": [],
      "metadata": {
        "id": "aBjxniyx8H3t"
      },
      "execution_count": null,
      "outputs": []
    }
  ],
  "metadata": {
    "kernelspec": {
      "display_name": "base",
      "language": "python",
      "name": "python3"
    },
    "language_info": {
      "codemirror_mode": {
        "name": "ipython",
        "version": 3
      },
      "file_extension": ".py",
      "mimetype": "text/x-python",
      "name": "python",
      "nbconvert_exporter": "python",
      "pygments_lexer": "ipython3",
      "version": "3.10.9"
    },
    "colab": {
      "provenance": []
    }
  },
  "nbformat": 4,
  "nbformat_minor": 0
}