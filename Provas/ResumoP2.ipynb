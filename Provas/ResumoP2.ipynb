{
  "nbformat": 4,
  "nbformat_minor": 0,
  "metadata": {
    "colab": {
      "provenance": []
    },
    "kernelspec": {
      "name": "python3",
      "display_name": "Python 3"
    },
    "language_info": {
      "name": "python"
    }
  },
  "cells": [
    {
      "cell_type": "markdown",
      "source": [
        "## Teste Z (Aula14.ipynb e Aula15.ipynb)"
      ],
      "metadata": {
        "id": "BR1o3gclFP8Q"
      }
    },
    {
      "cell_type": "markdown",
      "source": [
        " \\\n",
        "**Quando fazer o teste:**\n",
        "\n",
        "- Quando se conhece o desvio padrão populacional (σ)\n",
        "- Para amostras grandes (geralmente n > 30)\n",
        "- Para testar a média de uma população\n",
        "\n",
        "**Questão de exemplo:** \\\n",
        "Uma máquina produz perfumes com média de 150 ml e desvio padrão de 2 ml. Uma amostra de 100 frascos teve média de 150,2 ml. A máquina está operando corretamente? (confiança = 95%)"
      ],
      "metadata": {
        "id": "PEerwmWgEy81"
      }
    },
    {
      "cell_type": "markdown",
      "source": [
        "H0 e Ha: \\\n",
        "\n",
        "H0: μ = 150 ml (máquina operando corretamente) \\\n",
        "\n",
        "Ha: μ ≠ 150 ml (máquina não está operando corretamente)"
      ],
      "metadata": {
        "id": "N3YSoLj8FEH5"
      }
    },
    {
      "cell_type": "code",
      "execution_count": null,
      "metadata": {
        "id": "04QnGm6QEvR3"
      },
      "outputs": [],
      "source": [
        "from statsmodels.stats import weightstats\n",
        "weightstats.ztest(x1=df['Machine 1'], value=150, alternative=\"two-sided\")"
      ]
    },
    {
      "cell_type": "markdown",
      "source": [
        "Conclusão: \\\n",
        "P-value = 0,31 > 0,05 ⇒ Falhamos em rejeitar H0. A máquina está operando corretamente."
      ],
      "metadata": {
        "id": "bxiEaaNEFL60"
      }
    },
    {
      "cell_type": "markdown",
      "source": [
        "## Teste T (Aula15.ipynb)"
      ],
      "metadata": {
        "id": "9SQND58UFUhv"
      }
    },
    {
      "cell_type": "markdown",
      "source": [
        "**Quando fazer o teste:**\n",
        "\n",
        "- Quando NÃO se conhece o desvio padrão populacional\n",
        "\n",
        "- Para amostras pequenas (geralmente n < 30)\n",
        "\n",
        "- Para testar a média de uma população\n",
        "\n",
        "**Questão de exemplo:** \\\n",
        "Máquina produz perfumes com média μ = 150 ml. Amostra de 4 frascos teve média 151 ml e desvio padrão amostral s = 2 ml. A máquina está operando corretamente? (confiança = 95%)"
      ],
      "metadata": {
        "id": "aFeUmMCJFW1W"
      }
    },
    {
      "cell_type": "markdown",
      "source": [
        "H0 e Ha:\n",
        "\n",
        "H0: μ = 150 ml (máquina operando corretamente)\n",
        "\n",
        "Ha: μ ≠ 150 ml (máquina não está operando corretamente)"
      ],
      "metadata": {
        "id": "S8pG4QDxFhhN"
      }
    },
    {
      "cell_type": "code",
      "source": [
        "from scipy import stats\n",
        "stats.ttest_1samp(volume, 150)"
      ],
      "metadata": {
        "id": "_No4Q0_jFkJx"
      },
      "execution_count": null,
      "outputs": []
    },
    {
      "cell_type": "markdown",
      "source": [
        "Conclusão:\n",
        "P-value = 0,39 > 0,05 ⇒ Falhamos em rejeitar H0. A máquina está operando corretamente."
      ],
      "metadata": {
        "id": "BQD-oa8lFmC6"
      }
    },
    {
      "cell_type": "markdown",
      "source": [
        "## Teste de uma Proporção (Aula16.ipynb)"
      ],
      "metadata": {
        "id": "kqW--KnuFxFs"
      }
    },
    {
      "cell_type": "markdown",
      "source": [
        "**Quando fazer o teste:**\n",
        "\n",
        "- Para testar proporções (porcentagens) em uma população\n",
        "\n",
        "- Quando os dados são categóricos (sim/não, sucesso/fracasso)"
      ],
      "metadata": {
        "id": "wA9PMQneFzG4"
      }
    },
    {
      "cell_type": "markdown",
      "source": [
        "**Questão de exemplo:** \\\n",
        "Taxa de fumantes em uma cidade era 21%. Amostra de 100 habitantes encontrou 14 fumantes. A proporção mudou? (confiança = 95%)"
      ],
      "metadata": {
        "id": "1rxE73YFF9Dl"
      }
    },
    {
      "cell_type": "markdown",
      "source": [
        "H0 e Ha:\n",
        "\n",
        "H0: p = 0,21 (proporção não mudou)\n",
        "\n",
        "Ha: p ≠ 0,21 (proporção mudou)"
      ],
      "metadata": {
        "id": "3TvETlTtGAEr"
      }
    },
    {
      "cell_type": "code",
      "source": [
        "from scipy import stats\n",
        "stats.binomtest(14, 100, p=0.21, alternative=\"two-sided\")"
      ],
      "metadata": {
        "id": "Reakm-0NGA-a"
      },
      "execution_count": null,
      "outputs": []
    },
    {
      "cell_type": "markdown",
      "source": [
        "Conclusão:\n",
        "P-value = 0,11 > 0,05 ⇒ Falhamos em rejeitar H0. A proporção de fumantes não mudou significativamente."
      ],
      "metadata": {
        "id": "NIzpp_gzGEAu"
      }
    },
    {
      "cell_type": "markdown",
      "source": [
        "## Teste Chi-Quadrado para Variância (Aula 17)\n"
      ],
      "metadata": {
        "id": "4QHNmLFTGklU"
      }
    },
    {
      "cell_type": "markdown",
      "source": [
        "**Quando Fazer o Teste**\n",
        "\n",
        "- Quando você deseja testar se a variância (ou desvio padrão) de uma população é igual a um valor específico.\n",
        "\n",
        "- Útil para verificar a consistência de processos (ex: máquinas de envase, produção).\n",
        "\n",
        "- A amostra deve ser aleatória e a população deve ter distribuição normal (ou aproximadamente normal)."
      ],
      "metadata": {
        "id": "r0hrvS0_GqxS"
      }
    },
    {
      "cell_type": "markdown",
      "source": [
        "**Questão de exemplo:** \\\n",
        "Uma amostra de 51 frascos de perfume foi coletada. O desvio padrão desses frascos foi 2,35 ml. Houve um aumento no desvio padrão, estabelecido como 2 ml? (nível de confiança: 90%)"
      ],
      "metadata": {
        "id": "my495Pg9Gy_C"
      }
    },
    {
      "cell_type": "markdown",
      "source": [
        "H0 e Ha:\n",
        "\n",
        "H0: σ² ≤ 4 ml² (variância não aumentou).\n",
        "\n",
        "Ha: σ² >4 ml² (variância aumentou)."
      ],
      "metadata": {
        "id": "u-ofM115G5gz"
      }
    },
    {
      "cell_type": "code",
      "source": [
        "## Calcular a estatística Chi-Quadrado\n",
        "Chi_sq_cal = (51-1)*(2.35**2)/(2**2)  # Resultado: 69.03"
      ],
      "metadata": {
        "id": "80JSpYsuGyo4"
      },
      "execution_count": null,
      "outputs": []
    },
    {
      "cell_type": "code",
      "source": [
        "## Valor critico\n",
        "stats.chi2.isf(0.10, 50)  # Resultado: 63.17"
      ],
      "metadata": {
        "id": "8NpfGIMDHb3O"
      },
      "execution_count": null,
      "outputs": []
    },
    {
      "cell_type": "markdown",
      "source": [
        "Conclusão:\n",
        "Como Xcal = 69.03 > Xcrit = 63.17. Há evidências de que o desvio padrão aumentou."
      ],
      "metadata": {
        "id": "BlcAiVVLH2ub"
      }
    },
    {
      "cell_type": "markdown",
      "source": [
        "## Teste Z de Duas Amostras (Aula 18)"
      ],
      "metadata": {
        "id": "y1KbD6eyIJ-X"
      }
    },
    {
      "cell_type": "markdown",
      "source": [
        "**Quando fazer o teste:**\n",
        "\n",
        "- O teste Z de duas amostras é utilizado para comparar as médias de duas populações independentes, quando:\n",
        "\n",
        "- As amostras são grandes (geralmente n ≥ 30 para cada amostra).\n",
        "\n",
        "- Os desvios padrão das populações são conhecidos ou as amostras são suficientemente grandes para aproximar a distribuição normal.\n",
        "\n",
        "- O objetivo é verificar se as médias das duas populações são estatisticamente diferentes.\n",
        "\n"
      ],
      "metadata": {
        "id": "iyfzg5jbIiI9"
      }
    },
    {
      "cell_type": "markdown",
      "source": [
        "**Questão de Exemplo:**\n",
        "\n",
        "Duas máquinas envasam produtos com volumes diferentes. Os volumes das amostras são:\n",
        "\n",
        "Máquina 1: [150, 152, 154, 152, 151]\n",
        "\n",
        "Máquina 2: [156, 155, 158, 155, 154]\n",
        "\n",
        "Verifique se as médias dos volumes envasados pelas duas máquinas são diferentes, com 95% de confiança."
      ],
      "metadata": {
        "id": "dx-VPDkVIlnc"
      }
    },
    {
      "cell_type": "markdown",
      "source": [
        "Hipótese Nula (H0): As médias das duas amostras são iguais (μ1 = μ2).\n",
        "\n",
        "Hipótese Alternativa (Ha): As médias das duas amostras são diferentes (μ1 ≠ μ2)."
      ],
      "metadata": {
        "id": "YaoCtMvWItiZ"
      }
    },
    {
      "cell_type": "code",
      "source": [
        "import scipy.stats as stats\n",
        "from statsmodels.stats import weightstats\n",
        "\n",
        "m1 = [150, 152, 154, 152, 151]\n",
        "m2 = [156, 155, 158, 155, 154]\n",
        "\n",
        "# Realizando o teste Z\n",
        "resultado = weightstats.ztest(m1, m2)\n",
        "print(resultado)"
      ],
      "metadata": {
        "id": "SoJZin4AIuO1"
      },
      "execution_count": null,
      "outputs": []
    },
    {
      "cell_type": "markdown",
      "source": [
        "Conclusão: Como o pValue (0.0039) é menor que o nível de significância (0.05), o que significa que há evidências estatísticas para rejeitar a hipótese nula."
      ],
      "metadata": {
        "id": "Y1-T79_WIy-W"
      }
    },
    {
      "cell_type": "markdown",
      "source": [
        "## Teste T Pareado (Aula 19)"
      ],
      "metadata": {
        "id": "U_STYdREI2cE"
      }
    },
    {
      "cell_type": "markdown",
      "source": [
        "**Quando fazer o teste:**\n",
        "\n",
        "- Quando você tem duas amostras relacionadas (medidas repetidas no mesmo grupo, como antes e depois de um tratamento).\n",
        "\n",
        "- Quando os dados são normalmente distribuídos.\n",
        "\n",
        "- Quando o objetivo é comparar as médias das duas condições relacionadas."
      ],
      "metadata": {
        "id": "K8G6WvOmJV6a"
      }
    },
    {
      "cell_type": "markdown",
      "source": [
        "**Questão de Exemplo:** \\\n",
        "A pressão sistólica de 5 pacientes foi medida antes e depois da administração de um medicamento. Houve alteração na pressão? Nível de confiança = 95%.\n",
        "\n",
        "pAntes = [120, 122, 143, 100, 109]\n",
        "\n",
        "pDepois = [122, 120, 141, 109, 109]"
      ],
      "metadata": {
        "id": "qW31gNxtJcVD"
      }
    },
    {
      "cell_type": "markdown",
      "source": [
        "H0 e Ha:\n",
        "\n",
        "H0: μAntes = μDepois (não há diferença na pressão)\n",
        "\n",
        "Ha: μAntes <> μDepois (há diferença na pressão)"
      ],
      "metadata": {
        "id": "q3klhXAfJ2ww"
      }
    },
    {
      "cell_type": "code",
      "source": [
        "import scipy.stats as stats\n",
        "stats.ttest_rel(pAntes, pDepois)"
      ],
      "metadata": {
        "id": "JSzoydPQKHH4"
      },
      "execution_count": null,
      "outputs": []
    },
    {
      "cell_type": "markdown",
      "source": [
        "Como o valor-p (0.530) é maior que o nível de significância (0.05), falhamos em rejeitar H0. Portanto, não há evidências suficientes para afirmar que o medicamento alterou a pressão arterial dos pacientes."
      ],
      "metadata": {
        "id": "0ON8fJk7KI32"
      }
    },
    {
      "cell_type": "markdown",
      "source": [
        "## Teste de Duas Proporções (Aula 20)"
      ],
      "metadata": {
        "id": "JxUnkZabKg9s"
      }
    },
    {
      "cell_type": "markdown",
      "source": [
        "**Quando fazer o teste:**\n",
        "\n",
        "- Quando você quer comparar proporções de duas amostras independentes.\n",
        "\n",
        "- Quando os dados são categóricos (ex: sucesso/falha) e você quer verificar se há diferença significativa entre os grupos.\n",
        "\n",
        "- Quando o tamanho das amostras é grande o suficiente para aproximação normal (regra geral:\n",
        "n ⋅ p ≥ 5 e n⋅(1-p)≥5)."
      ],
      "metadata": {
        "id": "lhZkL2DPLHNi"
      }
    },
    {
      "cell_type": "markdown",
      "source": [
        "**Questão de Exemplo:** \\\n",
        "Em uma amostra de 200 itens do fornecedor A, 30 estavam defeituosos. Em outra amostra de 100 itens do fornecedor B, 10 estavam defeituosos. Há diferença significativa na qualidade? Nível de confiança: 95%."
      ],
      "metadata": {
        "id": "GfgJk1xjLkJl"
      }
    },
    {
      "cell_type": "markdown",
      "source": [
        "H0 e Ha:\n",
        "\n",
        "H0: μA = μB (não há diferença nas proporções de defeitos)\n",
        "\n",
        "Ha: μA <> μB (há diferença nas proporções de defeitos)"
      ],
      "metadata": {
        "id": "nUHKZe3oLsVL"
      }
    },
    {
      "cell_type": "code",
      "source": [
        "from statsmodels.stats import proportion\n",
        "proportion.test_proportions_2indep(30, 200, 10, 100, method='score')"
      ],
      "metadata": {
        "id": "2rf2WjLpLjzI"
      },
      "execution_count": null,
      "outputs": []
    },
    {
      "cell_type": "code",
      "source": [
        "Como o pValue (0.231) é maior que o nível de significância (0.05), falhamos em rejeitar H0. Não há evidências de diferença na qualidade entre os fornecedores A e B."
      ],
      "metadata": {
        "id": "O2VraE49LG8r"
      },
      "execution_count": null,
      "outputs": []
    },
    {
      "cell_type": "markdown",
      "source": [
        "## Teste de Duas Variâncias (Aula 21)"
      ],
      "metadata": {
        "id": "k0mAsFh7MW60"
      }
    },
    {
      "cell_type": "markdown",
      "source": [
        "**Quando fazer o teste:**\n",
        "\n",
        "- Quando você quer comparar as variâncias de duas amostras independentes.\n",
        "\n",
        "- Quando os dados são normalmente distribuídos (o teste é sensível a não normalidade).\n",
        "\n",
        "- Antes de realizar testes que assumem igualdade de variâncias (ex: teste t para duas amostras)."
      ],
      "metadata": {
        "id": "cvVvFEp-MZmd"
      }
    },
    {
      "cell_type": "markdown",
      "source": [
        "**Questão de Exemplo:**\n",
        "\n",
        "O desvio padrão de 8 amostras da máquina A foi 1.1. A variância de 5 amostras da máquina B foi 11. Há diferença entre as variâncias? Nível de confiança: 90%."
      ],
      "metadata": {
        "id": "Sz0qgRZrMhnn"
      }
    },
    {
      "cell_type": "markdown",
      "source": [
        "H0 e Ha:\n",
        "\n",
        "H0: σA² = σB² ml² (as variâncias são iguais).\n",
        "\n",
        "Ha: σA² <> σB² ml² (as variâncias não são iguais)."
      ],
      "metadata": {
        "id": "6o2GMQlEN6rj"
      }
    },
    {
      "cell_type": "code",
      "source": [
        "## Manual\n",
        "\n",
        "F_calculado = 11 / (1.1**2)  # F = variância maior / variância menor\n",
        "F_critico_direita = f.isf(0.05, dfn=4, dfd=7)  # dfn = n1-1, dfd = n2-1\n",
        "F_critico_esquerda = f.isf(0.95, dfn=4, dfd=7)\n",
        "\n",
        "# Como 9.09>4.12, rejeitamos H0. Há diferença significativa entre as variâncias das máquinas A e B.\n",
        "\n",
        "## Código Direto\n",
        "stats.levene(m1, m2)  # Teste de Levene (robusto a não normalidade)"
      ],
      "metadata": {
        "id": "NJ-sZL0EMtgR"
      },
      "execution_count": 1,
      "outputs": []
    },
    {
      "cell_type": "markdown",
      "source": [
        "**Conclusão:** \\\n",
        "Como pValue = 0.040 < 0.1, rejeitamos a hipotese nula."
      ],
      "metadata": {
        "id": "r-O-LSWLOoTD"
      }
    },
    {
      "cell_type": "markdown",
      "source": [
        "## Teste ANOVA (Aula 22)"
      ],
      "metadata": {
        "id": "kK-Fs89-PP-d"
      }
    },
    {
      "cell_type": "markdown",
      "source": [
        "**Quando fazer o teste:**\n",
        "\n",
        "- Quando você deseja comparar as médias de três ou mais grupos independentes.\n",
        "\n",
        "- Quando os dados são normalmente distribuídos e as variâncias dos grupos são aproximadamente iguais (homocedasticidade).\n",
        "\n",
        "- Quando o objetivo é determinar se há diferenças estatisticamente significativas entre as médias dos grupos."
      ],
      "metadata": {
        "id": "UmZ-ceq_PSsU"
      }
    },
    {
      "cell_type": "markdown",
      "source": [
        "**Questão de Exemplo:**\n",
        "\n",
        "Amostras foram obtidas de 3 máquinas de envase de perfume. Com base nessas amostras, é correto afirmar que as 3 máquinas estão operando de forma idêntica, ou seja, produzindo perfumes com a mesma média? Nível de confiança: 95%.\n",
        "\n",
        "m1 = [150, 150, 151, 148, 151, 152, 149, 150]\n",
        "\n",
        "m2 = [153, 152, 148, 151, 149, 152]\n",
        "\n",
        "m3 = [156, 154, 155, 156, 157, 155]"
      ],
      "metadata": {
        "id": "GZagBtroPWKa"
      }
    },
    {
      "cell_type": "markdown",
      "source": [
        "H0 e Ha:\n",
        "\n",
        "H0: μ1 = μ2 = μ3 (as médias são iguais)\n",
        "\n",
        "Ha: μ1 <> μ2 <> μ3 (pelo menos uma média é diferente)"
      ],
      "metadata": {
        "id": "ZcUvQPubPdvp"
      }
    },
    {
      "cell_type": "code",
      "source": [
        "import scipy.stats as stats\n",
        "stats.f_oneway(m1, m2, m3)"
      ],
      "metadata": {
        "id": "kVFpnhEkPv1t"
      },
      "execution_count": null,
      "outputs": []
    },
    {
      "cell_type": "markdown",
      "source": [
        "Como o valor-p (3.237e-05) é menor que o nível de significância (0.05), rejeitamos H0. Portanto, há evidências suficientes para afirmar que as médias das três máquinas não são iguais.\n",
        "\n"
      ],
      "metadata": {
        "id": "AfCFod-nPzpk"
      }
    }
  ]
}