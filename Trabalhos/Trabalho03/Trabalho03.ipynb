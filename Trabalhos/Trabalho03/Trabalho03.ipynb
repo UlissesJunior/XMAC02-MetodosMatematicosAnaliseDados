{
 "cells": [
  {
   "cell_type": "markdown",
   "id": "005e8a48",
   "metadata": {},
   "source": [
    "## XMAC02 - Atividade Avaliativa 03\n",
    "\n",
    "### Nome: Alex de Oliveira Alves\n",
    "### Nro Matric: 2024007996\n",
    "\n",
    "### Nome: Ulisses Douglas de Paula Assis Junior\n",
    "### Nro Matric: 2024001849"
   ]
  },
  {
   "cell_type": "code",
   "execution_count": 50,
   "id": "db5c4db7",
   "metadata": {},
   "outputs": [],
   "source": [
    "import pandas as pd\n",
    "import scipy.stats as stats\n",
    "from statsmodels.stats import proportion\n",
    "from scipy.stats import norm\n",
    "from statsmodels.stats import weightstats"
   ]
  },
  {
   "cell_type": "code",
   "execution_count": 2,
   "id": "9196f518",
   "metadata": {},
   "outputs": [],
   "source": [
    "### Função auxiliar\n",
    "def verifica_homogeneidade_variancia(amostra1, amostra2):\n",
    "    test_stat_var, p_value_var= stats.levene(amostra1, amostra2)\n",
    "    print(\"p value:%.4f\" % p_value_var)\n",
    "    if p_value_var < 0.05:\n",
    "        print(\"A variância das duas amostras é diferente\")\n",
    "    else:\n",
    "        print(\"A variância das duas amostra é igual\")"
   ]
  },
  {
   "cell_type": "markdown",
   "id": "c9d58f53",
   "metadata": {},
   "source": [
    "### Questão 1\n",
    "Uma especialista em recursos humanos que trabalha em uma empresa de tecnologia está interessada no tempo de trabalho excessivo de diferentes equipes. Para investigar se há diferença entre as horas extras da equipe de desenvolvimento de software e da equipe de teste, ela selecionou aleatoriamente 17 funcionários de cada uma das duas equipes e registrou a média semanal de horas extras desses funcionários. Os dados estão abaixo.\n",
    "\n",
    "equipe_teste = [6.2, 7.1, 1.5, 2,3 , 2, 1.5, 6.1, 2.4, 2.3, 12.4, 1.8, 5.3, 3.1, 9.4, 2.3, 4.1] \\\n",
    "equipe_desenv = [2.3, 2.1, 1.4, 2.0, 8.7, 2.2, 3.1, 4.2, 3.6, 2.5, 3.1, 6.2, 12.1, 3.9, 2.2, 1.2 ,3.4]\n",
    "\n",
    "Com base nessas duas amostras, realize um teste de hipótese que aponte se há ou não diferença significativa no número de horas extras das equipes de teste e de desenvolvimento de software. Confiança: 95%."
   ]
  },
  {
   "cell_type": "markdown",
   "id": "ab3dbd3c",
   "metadata": {},
   "source": [
    "H0: μequipe_teste == μequipe_desenv \\\n",
    "HA: μequipe_teste <> μequipe_desenv"
   ]
  },
  {
   "cell_type": "code",
   "execution_count": 3,
   "id": "877cba68",
   "metadata": {},
   "outputs": [
    {
     "name": "stdout",
     "output_type": "stream",
     "text": [
      "p value:0.5410\n",
      "A variância das duas amostra é igual\n"
     ]
    },
    {
     "data": {
      "text/plain": [
       "Ttest_indResult(statistic=0.4792546426078069, pvalue=0.6350459382305534)"
      ]
     },
     "execution_count": 3,
     "metadata": {},
     "output_type": "execute_result"
    }
   ],
   "source": [
    "equipe_teste = [6.2, 7.1, 1.5, 2,3 , 2, 1.5, 6.1, 2.4, 2.3, 12.4, 1.8, 5.3, 3.1, 9.4, 2.3, 4.1]\n",
    "equipe_desenv = [2.3, 2.1, 1.4, 2.0, 8.7, 2.2, 3.1, 4.2, 3.6, 2.5, 3.1, 6.2, 12.1, 3.9, 2.2, 1.2 ,3.4]\n",
    "\n",
    "verifica_homogeneidade_variancia(equipe_teste, equipe_desenv)\n",
    "\n",
    "stats.ttest_ind(equipe_teste, equipe_desenv, equal_var=False)"
   ]
  },
  {
   "cell_type": "markdown",
   "id": "9987d4bb",
   "metadata": {},
   "source": [
    "Conclusão: Como pValue > 0.05, não há diferença significativa entre as amostras. Com isso, falhamos em rejeitar a hipótese nula."
   ]
  },
  {
   "cell_type": "markdown",
   "id": "bc125854",
   "metadata": {},
   "source": [
    "### Questão 2\n",
    "O código de dois estagiários foi examinado. No código do estagiário A foram encontrados 30 erros em 1000 linhas de código. No código do estagiário B foram encontrados 25 erros em 800 linhas de código. É correto afirmar que o desempenho do estagiário B é superior ao do estagiário A? Realize o teste com confiança de 95%."
   ]
  },
  {
   "cell_type": "markdown",
   "id": "48d28090",
   "metadata": {},
   "source": [
    "H0: μerro_estagiario_A == μerro_estagiario_B \\\n",
    "HA: μerro_estagiario_A <> μerro_estagiario_B"
   ]
  },
  {
   "cell_type": "code",
   "execution_count": 46,
   "id": "2edd6017",
   "metadata": {},
   "outputs": [
    {
     "data": {
      "text/plain": [
       "0.8688558469162648"
      ]
     },
     "execution_count": 46,
     "metadata": {},
     "output_type": "execute_result"
    }
   ],
   "source": [
    "estagiarioA = [30, 1000]\n",
    "estagiarioB = [25, 800]\n",
    "\n",
    "stats, pValue = weightstats.ztest(estagiarioA, estagiarioB)\n",
    "pValue"
   ]
  },
  {
   "cell_type": "markdown",
   "id": "9f9995cd",
   "metadata": {},
   "source": [
    "Conclusão: Como pValue > 0.05, não há diferença significativa entre as amostras. Com isso, falhamos em rejeitar a hipótese nula."
   ]
  },
  {
   "cell_type": "markdown",
   "id": "fef509d2",
   "metadata": {},
   "source": [
    "### Questão 3\n",
    "\n",
    "Considere o dataset \"house_prices.csv\". Realize um teste de hipótese que verifique se o preço médio das casas (Type = 'h') de 3 quartos (Rooms = 3) são diferentes nas regiões 'Eastern Victoria' e 'Western Victoria'. Faça o teste com confiança de 95%."
   ]
  },
  {
   "cell_type": "markdown",
   "id": "58a64a03",
   "metadata": {},
   "source": [
    "H0: μPrecoEastern == μPrecoWestern \\\n",
    "HA: μPrecoEastern <> μPrecoWestern"
   ]
  },
  {
   "cell_type": "code",
   "execution_count": 58,
   "id": "59ae0133",
   "metadata": {},
   "outputs": [
    {
     "data": {
      "text/plain": [
       "1.897328189948278e-29"
      ]
     },
     "execution_count": 58,
     "metadata": {},
     "output_type": "execute_result"
    }
   ],
   "source": [
    "dfHouse = pd.read_csv('house_prices.csv')\n",
    "dfHouse.head()\n",
    "\n",
    "houseEastern = dfHouse[(dfHouse['Type'] == 'h') & (dfHouse['Rooms'] == 3) & (dfHouse['Regionname'] == \"Eastern Victoria\")]\n",
    "houseWestern = dfHouse[(dfHouse['Type'] == 'h') & (dfHouse['Rooms'] == 3) & (dfHouse['Regionname'] == \"Western Victoria\")]\n",
    "\n",
    "pricesEastern = []\n",
    "pricesWestern = []\n",
    "\n",
    "for i in houseEastern[\"Price\"]:\n",
    "    pricesEastern.append(i)\n",
    "\n",
    "for j in houseWestern[\"Price\"]:\n",
    "    pricesWestern.append(j)\n",
    "\n",
    "tStatistic, pValue = stats.ttest_ind(pricesEastern, pricesWestern)\n",
    "pValue"
   ]
  },
  {
   "cell_type": "markdown",
   "id": "505934c1",
   "metadata": {},
   "source": [
    "Conclusão: Como pValue < 0.05, há diferença significativa entre as amostras. Com isso, rejeitamos a hipótese nula."
   ]
  },
  {
   "cell_type": "markdown",
   "id": "255a906b",
   "metadata": {},
   "source": [
    "### Questão 4\n",
    "São considerados obesos indivíduos com bmi >= 30. Utilizando o dataset 'insurance.csv' realize um teste de hipótese que verique se a proporção de obesos idosos (idade >= 60) é a mesma entre homens e mulheres. Confiança: 95%."
   ]
  },
  {
   "cell_type": "markdown",
   "id": "b4bf84bd",
   "metadata": {},
   "source": [
    "H0: μObesosHomens == μObesosMulheres \\\n",
    "HA: μObesosHomens <> μObesosMulheres"
   ]
  },
  {
   "cell_type": "code",
   "execution_count": 87,
   "id": "bd7896cb",
   "metadata": {},
   "outputs": [
    {
     "name": "stdout",
     "output_type": "stream",
     "text": [
      "p value:0.4852\n",
      "A variância das duas amostra é igual\n"
     ]
    }
   ],
   "source": [
    "dfInsurance = pd.read_csv('insurance.csv')\n",
    "\n",
    "obesosHomens = dfInsurance[(dfInsurance['sex'] == 'male') & (dfInsurance['bmi'] >= 30) & (dfInsurance['age'] >= 60)]\n",
    "obesosMulheres = dfInsurance[(dfInsurance['sex'] == 'female') & (dfInsurance['bmi'] >= 30) & (dfInsurance['age'] >= 60)]\n",
    "\n",
    "verifica_homogeneidade_variancia(obesosHomens['bmi'], obesosMulheres['bmi'])"
   ]
  },
  {
   "cell_type": "markdown",
   "id": "9338a6b9",
   "metadata": {},
   "source": [
    "Conclusão: Como pValue > 0.05, não há diferença significativa entre as amostras. Com isso, falhamos em rejeitar a hipótese nula."
   ]
  },
  {
   "cell_type": "markdown",
   "id": "85e594c7",
   "metadata": {},
   "source": [
    "### Questão 5\n",
    "João suspeita que os prêmios Nobel não são divididos igualmente entre homens e mulheres. Para verificar se isso é verdade, ele selecionou 100 ganhadores aleatórios do prêmio e constatou que 18 eram mulheres. Realize um teste de hipótese capaz de confirmar ou descartar a suspeita de João. Realize o teste com confiança de 95%. "
   ]
  },
  {
   "cell_type": "markdown",
   "id": "f07b81a9",
   "metadata": {},
   "source": [
    "H0: μPremioHomens == μPremioMulheres \\\n",
    "HA: μPremioHomens <> μPremioMulheres"
   ]
  },
  {
   "cell_type": "code",
   "execution_count": 54,
   "id": "41b1c871",
   "metadata": {},
   "outputs": [
    {
     "data": {
      "text/plain": [
       "1.553770445639202e-10"
      ]
     },
     "execution_count": 54,
     "metadata": {},
     "output_type": "execute_result"
    }
   ],
   "source": [
    "Z = (0.18 - 0.5) / 0.05\n",
    "pValue = 2 * (1 - norm.cdf(abs(Z)))\n",
    "pValue"
   ]
  },
  {
   "cell_type": "markdown",
   "id": "53acaef8",
   "metadata": {},
   "source": [
    "Conclusão: Como pValue < 0.05, há diferença significativa entre as amostras (mulheres recebem menos que homens). Com isso, rejeitamos a hipótese nula."
   ]
  },
  {
   "cell_type": "markdown",
   "id": "061be208",
   "metadata": {},
   "source": [
    "### Questão 6\n",
    "Deseja-se verificar se o nível de cortisol em pacientes é diferente de manhã e a noite. Para tanto, mediu-se o cortisol de 20 pacientes no início da manhã e no início da noite. Os resultados estão no arquivo 'cortisol.csv'. Faça um teste de hipótese utilizando essa amostra que verifique se o nível de cortisol variou significativamente entre a manhã e a noite. Nível de confiança: 95%."
   ]
  },
  {
   "cell_type": "markdown",
   "id": "3e57121f",
   "metadata": {},
   "source": [
    "H0: μCortisolMorning == μCortisolEvening \\\n",
    "HA: μCortisolMorning <> μCortisolEvening"
   ]
  },
  {
   "cell_type": "code",
   "execution_count": 77,
   "id": "6a4c8b7f",
   "metadata": {},
   "outputs": [
    {
     "name": "stdout",
     "output_type": "stream",
     "text": [
      "p value:0.3732\n",
      "A variância das duas amostra é igual\n"
     ]
    }
   ],
   "source": [
    "dfCortisol = pd.read_csv('cortisol.csv')\n",
    "dfCortisol.head(50)\n",
    "\n",
    "cortisolMorning = dfCortisol[(dfCortisol['time'] == 'morning')]\n",
    "cortisolEvening = dfCortisol[(dfCortisol['time'] == 'evening')]\n",
    "\n",
    "verifica_homogeneidade_variancia(cortisolEvening[\"cortisol\"], cortisolMorning[\"cortisol\"])"
   ]
  },
  {
   "cell_type": "markdown",
   "id": "cff9f259",
   "metadata": {},
   "source": [
    "Conclusão: Como pValue > 0.05, não há diferença significativa entre as amostras. Com isso, falhamos em rejeitar a hipótese nula."
   ]
  }
 ],
 "metadata": {
  "kernelspec": {
   "display_name": "base",
   "language": "python",
   "name": "python3"
  },
  "language_info": {
   "codemirror_mode": {
    "name": "ipython",
    "version": 3
   },
   "file_extension": ".py",
   "mimetype": "text/x-python",
   "name": "python",
   "nbconvert_exporter": "python",
   "pygments_lexer": "ipython3",
   "version": "3.11.3"
  }
 },
 "nbformat": 4,
 "nbformat_minor": 5
}
