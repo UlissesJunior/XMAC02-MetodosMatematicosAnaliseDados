{
 "cells": [
  {
   "attachments": {},
   "cell_type": "markdown",
   "metadata": {},
   "source": [
    "## Teste de uma proporção"
   ]
  },
  {
   "attachments": {},
   "cell_type": "markdown",
   "metadata": {},
   "source": [
    "Taxa de fumantes em uma cidade era 21%. Uma amostra de 100 habitantes encontrou 14 fumantes. A proporção de fumantes da cidade mudou (nível de confiança = 95%)?"
   ]
  },
  {
   "cell_type": "code",
   "execution_count": 1,
   "metadata": {},
   "outputs": [],
   "source": [
    "import pandas as pd\n",
    "import numpy as np\n",
    "import seaborn as sns\n",
    "import scipy.stats as stats"
   ]
  },
  {
   "attachments": {},
   "cell_type": "markdown",
   "metadata": {},
   "source": [
    "Taxa de fumantes em uma cidade era 21%. Uma amostra de 100 habitantes encontrou 14 fumantes. A proporção de fumantes da cidade reduziu? (uma cauda – nível de confiança = 95%)."
   ]
  },
  {
   "cell_type": "code",
   "execution_count": null,
   "metadata": {},
   "outputs": [],
   "source": []
  },
  {
   "attachments": {},
   "cell_type": "markdown",
   "metadata": {},
   "source": [
    "Exercício 1 \\\n",
    "Uma empresa realizou uma campanha anti-tabagismo visando diminuir a proporção de seus trabalhadores que são fumantes. Sabe-se que antes da campanha 21% dos trabalhadores se declaravam fumantes. Para verificar se essa porcentagem mudou após a campanha, a empresa coletou informações de 100 funcionários e armazenou o resultado no arquivo Smokers.csv. Realize um teste de hipótese e informe se a proporção de fumantes continua a mesma ou mudou."
   ]
  },
  {
   "cell_type": "code",
   "execution_count": null,
   "metadata": {},
   "outputs": [],
   "source": []
  },
  {
   "attachments": {},
   "cell_type": "markdown",
   "metadata": {},
   "source": [
    "Exercício 2 \\\n",
    "Uma estimativa feita por um instuto de pesquisa apontou que 25% das mulheres que frequentam restaurantes numa dada cidade são fumantes. O dono de um restaurante decidiu testar uma amostra de suas clientes para verificar se esta estimativa é correta. Realize o teste de uma proporção com os dados contidos em 'tips.csv' e informe se a estimativa está correta (nível de confiança = 95%)."
   ]
  },
  {
   "cell_type": "code",
   "execution_count": null,
   "metadata": {},
   "outputs": [],
   "source": []
  }
 ],
 "metadata": {
  "kernelspec": {
   "display_name": "base",
   "language": "python",
   "name": "python3"
  },
  "language_info": {
   "codemirror_mode": {
    "name": "ipython",
    "version": 3
   },
   "file_extension": ".py",
   "mimetype": "text/x-python",
   "name": "python",
   "nbconvert_exporter": "python",
   "pygments_lexer": "ipython3",
   "version": "3.10.9"
  },
  "orig_nbformat": 4
 },
 "nbformat": 4,
 "nbformat_minor": 2
}
