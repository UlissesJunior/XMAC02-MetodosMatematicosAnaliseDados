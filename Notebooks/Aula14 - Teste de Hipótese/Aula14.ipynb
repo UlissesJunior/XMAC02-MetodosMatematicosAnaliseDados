{
  "cells": [
    {
      "cell_type": "markdown",
      "metadata": {
        "id": "qWF8syZDQ1fg"
      },
      "source": [
        "Uma máquina produz perfumes com média de 150 ml e desvio padrão de 2 ml. Quatro frascos foram recolhidos ao acaso da produção e o volume médio desses 4 frascos foi 153,8 ml. Essa média permite dizer que a máquina está produzindo dentro da especificação? Realize o teste com nível de confinça de 95%."
      ]
    },
    {
      "cell_type": "markdown",
      "metadata": {
        "id": "QuPWDo1uQ1fl"
      },
      "source": [
        "H0: μ = 150 ml \\\n",
        "Ha: μ ≠ 150ml\n",
        "\n",
        "\n",
        "Alpha = 1 - 0,95 = 0,05  \\\n",
        "Z calc = (Média observada - média populacional) / (desvio padrão / raiz de n)"
      ]
    },
    {
      "cell_type": "code",
      "execution_count": 1,
      "metadata": {
        "id": "_X3ZmXB4Q1fm"
      },
      "outputs": [],
      "source": [
        "import numpy as np\n",
        "import pandas as pd\n",
        "from scipy.stats import norm"
      ]
    },
    {
      "cell_type": "code",
      "execution_count": 4,
      "metadata": {
        "id": "9qTcgBMBQ1fo",
        "outputId": "8ca3903e-6841-44f3-f432-b8f5179d63a5",
        "colab": {
          "base_uri": "https://localhost:8080/"
        }
      },
      "outputs": [
        {
          "output_type": "execute_result",
          "data": {
            "text/plain": [
              "np.float64(3.8000000000000114)"
            ]
          },
          "metadata": {},
          "execution_count": 4
        }
      ],
      "source": [
        "zCalc = (153.8 - 150) / (2 / np.sqrt(4))\n",
        "zCalc"
      ]
    },
    {
      "cell_type": "markdown",
      "metadata": {
        "id": "RsAplBuLQ1fo"
      },
      "source": [
        "norm.pdf(x, loc=0, scale=1) -- Probability density function \\\n",
        "norm.cdf(x, loc=0, scale=1) -- Cumulative distribution function (área à esquerda de x) \\\n",
        "norm.sf(x, loc=0, scale=1) -- Survival function (1 - cdf)\n",
        "norm.ppf(x, loc=0, scale=1) -- Percent point function (inversa de cdf - percentil)\n",
        "norm.isf(x, loc=0, scale=1) -- Inverse survival function (inversa de sf)"
      ]
    },
    {
      "cell_type": "code",
      "execution_count": 3,
      "metadata": {
        "id": "PpyO7j75Q1fq",
        "outputId": "fe6b8ca4-1156-4b2c-a18f-46ef1e043258",
        "colab": {
          "base_uri": "https://localhost:8080/"
        }
      },
      "outputs": [
        {
          "output_type": "execute_result",
          "data": {
            "text/plain": [
              "np.float64(0.024997895148220435)"
            ]
          },
          "metadata": {},
          "execution_count": 3
        }
      ],
      "source": [
        "norm.cdf(-1.96)"
      ]
    },
    {
      "cell_type": "code",
      "execution_count": 5,
      "metadata": {
        "id": "FwrvIosjQ1fr",
        "outputId": "20b9b2c8-c42d-4317-e75d-819e4b900da9",
        "colab": {
          "base_uri": "https://localhost:8080/"
        }
      },
      "outputs": [
        {
          "output_type": "execute_result",
          "data": {
            "text/plain": [
              "np.float64(-1.9599639845400545)"
            ]
          },
          "metadata": {},
          "execution_count": 5
        }
      ],
      "source": [
        "norm.ppf(0.025)"
      ]
    },
    {
      "cell_type": "code",
      "execution_count": 6,
      "metadata": {
        "id": "2l1s5fLcQ1fr",
        "outputId": "20692c5e-eb6a-4cd2-e18f-7e5efc481ddc",
        "colab": {
          "base_uri": "https://localhost:8080/"
        }
      },
      "outputs": [
        {
          "output_type": "execute_result",
          "data": {
            "text/plain": [
              "np.float64(0.024997895148220435)"
            ]
          },
          "metadata": {},
          "execution_count": 6
        }
      ],
      "source": [
        "norm.sf(1.96)"
      ]
    }
  ],
  "metadata": {
    "kernelspec": {
      "display_name": "base",
      "language": "python",
      "name": "python3"
    },
    "language_info": {
      "codemirror_mode": {
        "name": "ipython",
        "version": 3
      },
      "file_extension": ".py",
      "mimetype": "text/x-python",
      "name": "python",
      "nbconvert_exporter": "python",
      "pygments_lexer": "ipython3",
      "version": "3.11.5"
    },
    "orig_nbformat": 4,
    "colab": {
      "provenance": []
    }
  },
  "nbformat": 4,
  "nbformat_minor": 0
}