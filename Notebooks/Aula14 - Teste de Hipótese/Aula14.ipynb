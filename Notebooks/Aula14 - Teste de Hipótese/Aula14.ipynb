{
 "cells": [
  {
   "attachments": {},
   "cell_type": "markdown",
   "metadata": {},
   "source": [
    "Uma máquina produz perfumes com média de 150 ml e desvio padrão de 2 ml. Quatro frascos foram recolhidos ao acaso da produção e o volume médio desses 4 frascos foi 153,8 ml. Essa média permite dizer que a máquina está produzindo dentro da especificação? Realize o teste com nível de confinça de 95%."
   ]
  },
  {
   "attachments": {},
   "cell_type": "markdown",
   "metadata": {},
   "source": [
    "H0: μ = 150 ml \\\n",
    "Ha: μ ≠ 150ml\n",
    "\n",
    "\n",
    "Alpha = 1 - 0,95 = 0,05  \\\n",
    "Z calc = (Média observada - média populacional) / (desvio padrão / raiz de n)"
   ]
  },
  {
   "cell_type": "code",
   "execution_count": 4,
   "metadata": {},
   "outputs": [],
   "source": [
    "import numpy as np\n",
    "import pandas as pd\n",
    "from scipy.stats import norm"
   ]
  },
  {
   "cell_type": "code",
   "execution_count": null,
   "metadata": {},
   "outputs": [],
   "source": []
  },
  {
   "attachments": {},
   "cell_type": "markdown",
   "metadata": {},
   "source": [
    "norm.pdf(x, loc=0, scale=1) -- Probability density function \\\n",
    "norm.cdf(x, loc=0, scale=1) -- Cumulative distribution function (área à esquerda de x) \\\n",
    "norm.sf(x, loc=0, scale=1) -- Survival function (1 - cdf)\n",
    "norm.ppf(x, loc=0, scale=1) -- Percent point function (inversa de cdf - percentil)\n",
    "norm.isf(x, loc=0, scale=1) -- Inverse survival function (inversa de sf)"
   ]
  },
  {
   "cell_type": "code",
   "execution_count": null,
   "metadata": {},
   "outputs": [],
   "source": []
  },
  {
   "cell_type": "code",
   "execution_count": null,
   "metadata": {},
   "outputs": [],
   "source": []
  },
  {
   "cell_type": "code",
   "execution_count": null,
   "metadata": {},
   "outputs": [],
   "source": []
  },
  {
   "cell_type": "code",
   "execution_count": null,
   "metadata": {},
   "outputs": [],
   "source": []
  }
 ],
 "metadata": {
  "kernelspec": {
   "display_name": "base",
   "language": "python",
   "name": "python3"
  },
  "language_info": {
   "codemirror_mode": {
    "name": "ipython",
    "version": 3
   },
   "file_extension": ".py",
   "mimetype": "text/x-python",
   "name": "python",
   "nbconvert_exporter": "python",
   "pygments_lexer": "ipython3",
   "version": "3.11.5"
  },
  "orig_nbformat": 4
 },
 "nbformat": 4,
 "nbformat_minor": 2
}
