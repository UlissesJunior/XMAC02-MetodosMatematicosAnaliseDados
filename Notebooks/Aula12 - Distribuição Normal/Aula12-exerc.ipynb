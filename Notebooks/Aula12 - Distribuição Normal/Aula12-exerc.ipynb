{
 "cells": [
  {
   "cell_type": "code",
   "execution_count": 1,
   "metadata": {},
   "outputs": [
    {
     "name": "stderr",
     "output_type": "stream",
     "text": [
      "/home/aluno/anaconda3/lib/python3.11/site-packages/pandas/core/arrays/masked.py:60: UserWarning: Pandas requires version '1.3.6' or newer of 'bottleneck' (version '1.3.5' currently installed).\n",
      "  from pandas.core import (\n"
     ]
    }
   ],
   "source": [
    "import numpy as np\n",
    "import matplotlib.pyplot as plt\n",
    "import seaborn as sns\n",
    "from scipy.stats import norm"
   ]
  },
  {
   "attachments": {},
   "cell_type": "markdown",
   "metadata": {},
   "source": [
    "Questão 1 \\\n",
    "O peso médio de 500 estudantes do sexo masculino de uma universidade é 75,50 kg e o desvio padrão 7,50 kg. Admitindo-se que os pesos estão normalmente distribuídos e que as medidas foram realizadas com uma balança que registrou valores na escala de centésimos de quilogramas, determine quantos estudantes pesam: \\\n",
    "a) entre 60 e 77,5 kg \\\n",
    "b) mais do que 92,5 kg \\\n",
    "c) menos do que 64 kg \\\n",
    "d) 64 kg \\\n",
    "e) 64 kg ou menos"
   ]
  },
  {
   "cell_type": "code",
   "execution_count": 17,
   "metadata": {},
   "outputs": [
    {
     "data": {
      "text/plain": [
       "292.87715122357815"
      ]
     },
     "execution_count": 17,
     "metadata": {},
     "output_type": "execute_result"
    }
   ],
   "source": [
    "prob = norm.sf(60, 75.5, 7.5) - norm.sf(77.5, 75.5, 7.5)\n",
    "prob * 500"
   ]
  },
  {
   "cell_type": "code",
   "execution_count": 18,
   "metadata": {},
   "outputs": [
    {
     "data": {
      "text/plain": [
       "5.852649040279173"
      ]
     },
     "execution_count": 18,
     "metadata": {},
     "output_type": "execute_result"
    }
   ],
   "source": [
    "prob = norm.sf(92.5, 75.5, 7.5)\n",
    "prob * 500"
   ]
  },
  {
   "cell_type": "code",
   "execution_count": 19,
   "metadata": {},
   "outputs": [
    {
     "data": {
      "text/plain": [
       "23.08960159373011"
      ]
     },
     "execution_count": 19,
     "metadata": {},
     "output_type": "execute_result"
    }
   ],
   "source": [
    "prob = norm.cdf(64, 75.5, 7.5) - norm.pdf(64, 75.5, 7.5)\n",
    "prob * 500"
   ]
  },
  {
   "cell_type": "code",
   "execution_count": 20,
   "metadata": {},
   "outputs": [
    {
     "data": {
      "text/plain": [
       "8.208834801723304"
      ]
     },
     "execution_count": 20,
     "metadata": {},
     "output_type": "execute_result"
    }
   ],
   "source": [
    "prob = norm.pdf(64, 75.5, 7.5)\n",
    "prob * 500"
   ]
  },
  {
   "cell_type": "code",
   "execution_count": 21,
   "metadata": {},
   "outputs": [
    {
     "data": {
      "text/plain": [
       "31.29843639545341"
      ]
     },
     "execution_count": 21,
     "metadata": {},
     "output_type": "execute_result"
    }
   ],
   "source": [
    "prob = norm.cdf(64, 75.5, 7.5)\n",
    "prob * 500"
   ]
  },
  {
   "attachments": {},
   "cell_type": "markdown",
   "metadata": {},
   "source": [
    "Questão 2 \\\n",
    "Aparelhos de TVs são substituídos normalmente com uma média de 8,2 anos e desvio padrão de 1,1 ano.\n",
    "a) Determine a probabilidade de que uma TV deva ser substituída em menos de 5,0 anos. \\\n",
    "b) Se você deseja estabelecer uma garantia de modo que apenas 1% dos aparelhos seja substituídos antes da expiração da garantia, qual deve ser o prazo ? Dica: use a função ppf"
   ]
  },
  {
   "cell_type": "code",
   "execution_count": 3,
   "metadata": {},
   "outputs": [
    {
     "data": {
      "text/plain": [
       "-0.003457968280563353"
      ]
     },
     "execution_count": 3,
     "metadata": {},
     "output_type": "execute_result"
    }
   ],
   "source": [
    "norm.cdf(5, 8.2, 1.1) - norm.pdf(5, 8.2, 1.1)"
   ]
  },
  {
   "cell_type": "code",
   "execution_count": 4,
   "metadata": {},
   "outputs": [
    {
     "data": {
      "text/plain": [
       "5.641017338555074"
      ]
     },
     "execution_count": 4,
     "metadata": {},
     "output_type": "execute_result"
    }
   ],
   "source": [
    "norm.ppf(0.01, 8.2, 1.1)"
   ]
  },
  {
   "attachments": {},
   "cell_type": "markdown",
   "metadata": {},
   "source": [
    "Questão 3 \\\n",
    "A média dos diâmetros internos de uma amostra de 200 arruelas produzidas por certa máquina é 0,502” e o desvio padrão 0,005”. A finalidade para a qual essas arruelas são produzidas permite a tolerância máxima de 0,496 a 0,508 polegadas de diâmetro. Determine a porcentagem de arruelas defeituosas produzidas, admitindo-se que os diâmetros são normalmente distribuídos."
   ]
  },
  {
   "cell_type": "code",
   "execution_count": 12,
   "metadata": {},
   "outputs": [
    {
     "data": {
      "text/plain": [
       "23.01393404434161"
      ]
     },
     "execution_count": 12,
     "metadata": {},
     "output_type": "execute_result"
    }
   ],
   "source": [
    "(norm.cdf(0.496, 0.502, 0.005) + norm.sf(0.508, 0.502, 0.005)) * 100"
   ]
  },
  {
   "attachments": {},
   "cell_type": "markdown",
   "metadata": {},
   "source": [
    "Questão 4 \\\n",
    "Suponha que as temperaturas do corpo humano sejam normalmente distribuídas, com média 36,8°C e desvio padrão 0,35°C. \\\n",
    "a) Um hospital usa 38,1°C como a menor temperatura considerada como febre. Qual é porcentagem de pessoas normais e saudáveis que seriam consideradas febris? Tal porcentagem sugere que o corte em 38,1°C seja apropriado? \\\n",
    "b) Os médicos desejam selecionar uma temperatura mínima para requerimento de exames adicionais. Qual deve ser essa\n",
    "temperatura, se eles desejam que somente 5% das pessoas saudáveis tenham temperatura superior ? (Tal resultado é chamado falso positivo. Teste positivo, mas a pessoa não está doente)."
   ]
  },
  {
   "cell_type": "code",
   "execution_count": 14,
   "metadata": {},
   "outputs": [
    {
     "data": {
      "text/plain": [
       "0.010188922978074999"
      ]
     },
     "execution_count": 14,
     "metadata": {},
     "output_type": "execute_result"
    }
   ],
   "source": [
    "norm.sf(38.1, 36.8, 0.35) * 100"
   ]
  },
  {
   "cell_type": "code",
   "execution_count": 16,
   "metadata": {},
   "outputs": [
    {
     "data": {
      "text/plain": [
       "37.375698769433015"
      ]
     },
     "execution_count": 16,
     "metadata": {},
     "output_type": "execute_result"
    }
   ],
   "source": [
    "norm.ppf(0.95, 36.8, 0.35)"
   ]
  }
 ],
 "metadata": {
  "kernelspec": {
   "display_name": "base",
   "language": "python",
   "name": "python3"
  },
  "language_info": {
   "codemirror_mode": {
    "name": "ipython",
    "version": 3
   },
   "file_extension": ".py",
   "mimetype": "text/x-python",
   "name": "python",
   "nbconvert_exporter": "python",
   "pygments_lexer": "ipython3",
   "version": "3.11.3"
  },
  "orig_nbformat": 4
 },
 "nbformat": 4,
 "nbformat_minor": 2
}
