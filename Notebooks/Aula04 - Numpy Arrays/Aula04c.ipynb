{
  "cells": [
    {
      "cell_type": "markdown",
      "metadata": {
        "id": "-wB3faXD5moS"
      },
      "source": [
        "## Operações com Arrays\n",
        "Podemos operar com diversos (ou todos) elementos de um array numa única operação. \\\n",
        "Suponha que tenhamos o array 0..9 e queremos somar 10 a todos os elementos do array. É possível fazer essa operação sem usar um laço? Em Python, sim!"
      ]
    },
    {
      "cell_type": "code",
      "source": [
        "import numpy as np"
      ],
      "metadata": {
        "id": "6Pmzv83s5885"
      },
      "execution_count": 5,
      "outputs": []
    },
    {
      "cell_type": "code",
      "execution_count": 16,
      "metadata": {
        "id": "WmPFLgB65moU"
      },
      "outputs": [],
      "source": [
        "arr = np.arange(0,10)"
      ]
    },
    {
      "cell_type": "code",
      "execution_count": 17,
      "metadata": {
        "id": "FhVOJPAq5moU",
        "outputId": "076261d7-8697-4256-8993-5f65c6a2a84a",
        "colab": {
          "base_uri": "https://localhost:8080/"
        }
      },
      "outputs": [
        {
          "output_type": "execute_result",
          "data": {
            "text/plain": [
              "array([10, 11, 12, 13, 14, 15, 16, 17, 18, 19])"
            ]
          },
          "metadata": {},
          "execution_count": 17
        }
      ],
      "source": [
        "arr + 10"
      ]
    },
    {
      "cell_type": "markdown",
      "metadata": {
        "id": "1O_4pROq5moU"
      },
      "source": [
        "Se fizermos arr1 - 10 teremos o vetor original?"
      ]
    },
    {
      "cell_type": "code",
      "execution_count": 18,
      "metadata": {
        "id": "BCYFNSj35moU",
        "outputId": "f836d60f-fa8b-4bba-8eec-4fc02251fe73",
        "colab": {
          "base_uri": "https://localhost:8080/"
        }
      },
      "outputs": [
        {
          "output_type": "execute_result",
          "data": {
            "text/plain": [
              "array([-10,  -9,  -8,  -7,  -6,  -5,  -4,  -3,  -2,  -1])"
            ]
          },
          "metadata": {},
          "execution_count": 18
        }
      ],
      "source": [
        "arr - 10"
      ]
    },
    {
      "cell_type": "markdown",
      "metadata": {
        "id": "v8zTUxeJ5moU"
      },
      "source": [
        "Vamos agora criar outro array (arr2), contendo os elementos 10..19. \\\n",
        "Assim como somamos um inteiro aos elementos de um array, podemos somar dois arrays. \\\n",
        "Vejamos o resultado de arr1 + arr2:"
      ]
    },
    {
      "cell_type": "code",
      "execution_count": 9,
      "metadata": {
        "id": "U1x52w0l5moU"
      },
      "outputs": [],
      "source": [
        "arr2 = np.arange(10,20)"
      ]
    },
    {
      "cell_type": "code",
      "execution_count": 19,
      "metadata": {
        "id": "hTzZEV1I5moV",
        "outputId": "fc1580c0-924c-490b-b719-eef24e2369bf",
        "colab": {
          "base_uri": "https://localhost:8080/"
        }
      },
      "outputs": [
        {
          "output_type": "execute_result",
          "data": {
            "text/plain": [
              "array([10, 12, 14, 16, 18, 20, 22, 24, 26, 28])"
            ]
          },
          "metadata": {},
          "execution_count": 19
        }
      ],
      "source": [
        "arr + arr2"
      ]
    },
    {
      "cell_type": "markdown",
      "metadata": {
        "id": "84O3poX_5moV"
      },
      "source": [
        "Para alterar um elemento do array, basta indicar o índice desse elemento. \\\n",
        "Ex: alterar o primeiro elemento de arr1, colocando 10 no lugar de 0."
      ]
    },
    {
      "cell_type": "code",
      "execution_count": 12,
      "metadata": {
        "id": "gdY4lfXv5moV",
        "outputId": "ca05556a-123b-4f61-aa70-06fba12856e0",
        "colab": {
          "base_uri": "https://localhost:8080/"
        }
      },
      "outputs": [
        {
          "output_type": "execute_result",
          "data": {
            "text/plain": [
              "[10, 1, 2, 3, 4, 5, 6, 7, 8, 9, 10]"
            ]
          },
          "metadata": {},
          "execution_count": 12
        }
      ],
      "source": [
        "arr[0] = 10\n",
        "arr"
      ]
    },
    {
      "cell_type": "markdown",
      "metadata": {
        "id": "LIEI4JzM5moV"
      },
      "source": [
        "E se quisermos alterar todos os elementos do array, colocando 10 em todas as posições?"
      ]
    },
    {
      "cell_type": "code",
      "execution_count": 37,
      "metadata": {
        "id": "cHbIdFHo5moV",
        "outputId": "b05750ac-975a-47a5-e19a-6cd5580bcca9",
        "colab": {
          "base_uri": "https://localhost:8080/"
        }
      },
      "outputs": [
        {
          "output_type": "execute_result",
          "data": {
            "text/plain": [
              "array([10, 10, 10, 10, 10, 10, 10, 10, 10, 10])"
            ]
          },
          "metadata": {},
          "execution_count": 37
        }
      ],
      "source": [
        "arr[:] = 10\n",
        "arr"
      ]
    },
    {
      "cell_type": "markdown",
      "metadata": {
        "id": "UqMIuLev5moV"
      },
      "source": [
        "Exercício 1 \\\n",
        "Altere os 5 primeiros elementos de arr1, colocando o valor 20."
      ]
    },
    {
      "cell_type": "code",
      "execution_count": 38,
      "metadata": {
        "id": "X8xIGSt95moV",
        "outputId": "d5a5c6b7-5e05-482a-b071-a5dd88d2493a",
        "colab": {
          "base_uri": "https://localhost:8080/"
        }
      },
      "outputs": [
        {
          "output_type": "execute_result",
          "data": {
            "text/plain": [
              "array([20, 20, 20, 20, 20, 10, 10, 10, 10, 10])"
            ]
          },
          "metadata": {},
          "execution_count": 38
        }
      ],
      "source": [
        "arr[:5] = 20\n",
        "arr"
      ]
    },
    {
      "cell_type": "markdown",
      "metadata": {
        "id": "nHyY23e25moV"
      },
      "source": [
        "Exercício 2 \\\n",
        "Altere os 3 últimos elementos de arr1, colocando o valor 30."
      ]
    },
    {
      "cell_type": "code",
      "execution_count": 39,
      "metadata": {
        "id": "z_IS2kd85moW",
        "outputId": "12fb4ff8-97ce-45aa-cbda-4769c2404e1b",
        "colab": {
          "base_uri": "https://localhost:8080/"
        }
      },
      "outputs": [
        {
          "output_type": "execute_result",
          "data": {
            "text/plain": [
              "array([20, 20, 20, 20, 20, 10, 10, 30, 30, 30])"
            ]
          },
          "metadata": {},
          "execution_count": 39
        }
      ],
      "source": [
        "arr[(len(arr) - 3):] = 30\n",
        "arr"
      ]
    },
    {
      "cell_type": "markdown",
      "metadata": {
        "id": "_MBfDGZv5moW"
      },
      "source": [
        "Vamos agora criar um novo array (arr3), utilizando os 5 primeiros elementos de arr2."
      ]
    },
    {
      "cell_type": "code",
      "execution_count": 43,
      "metadata": {
        "id": "suhacb-z5moW",
        "outputId": "9757bff1-8b2c-45cb-d5c5-29dcb71c8827",
        "colab": {
          "base_uri": "https://localhost:8080/"
        }
      },
      "outputs": [
        {
          "output_type": "execute_result",
          "data": {
            "text/plain": [
              "array([10, 11, 12, 13, 14])"
            ]
          },
          "metadata": {},
          "execution_count": 43
        }
      ],
      "source": [
        "arr3 = arr2[:5]\n",
        "arr3"
      ]
    },
    {
      "cell_type": "markdown",
      "metadata": {
        "id": "pNZMLZBa5moW"
      },
      "source": [
        "A seguir, vamos colocar 0 em todos os elementos de arr3 e observar o que acontece com arr2."
      ]
    },
    {
      "cell_type": "code",
      "execution_count": 44,
      "metadata": {
        "id": "gPpP-IO-5moW",
        "outputId": "1a993093-8698-4dd3-a8c8-e25d17ff2123",
        "colab": {
          "base_uri": "https://localhost:8080/"
        }
      },
      "outputs": [
        {
          "output_type": "execute_result",
          "data": {
            "text/plain": [
              "array([ 0,  0,  0,  0,  0, 15, 16, 17, 18, 19])"
            ]
          },
          "metadata": {},
          "execution_count": 44
        }
      ],
      "source": [
        "arr3[:] = 0\n",
        "arr2"
      ]
    },
    {
      "cell_type": "markdown",
      "metadata": {
        "id": "kb0AqArJ5moW"
      },
      "source": [
        "O que aconteceu foi que arr3 não foi criado com novos valores. Este array \"aponta\" para os 5 primeiros valores de arr2. Assim, ao alterar os elementos de arr3, alteramos também os 5 primeiros elementos de arr2."
      ]
    },
    {
      "cell_type": "markdown",
      "source": [
        "A função reshape do numpy permite mesclar 2 arrays. Veremos a seguir como fazer isso."
      ],
      "metadata": {
        "id": "6yC1LM2L8K29"
      }
    },
    {
      "cell_type": "code",
      "source": [
        "arr4 = np.array([[1,2,3], [4,5,6]])\n",
        "arr4.reshape(-1)"
      ],
      "metadata": {
        "id": "aD_Cxd-n8TDh",
        "outputId": "5241f3f0-3bde-42a2-e67a-937d0443b827",
        "colab": {
          "base_uri": "https://localhost:8080/"
        }
      },
      "execution_count": 51,
      "outputs": [
        {
          "output_type": "execute_result",
          "data": {
            "text/plain": [
              "array([1, 2, 3, 4, 5, 6])"
            ]
          },
          "metadata": {},
          "execution_count": 51
        }
      ]
    }
  ],
  "metadata": {
    "kernelspec": {
      "display_name": "base",
      "language": "python",
      "name": "python3"
    },
    "language_info": {
      "codemirror_mode": {
        "name": "ipython",
        "version": 3
      },
      "file_extension": ".py",
      "mimetype": "text/x-python",
      "name": "python",
      "nbconvert_exporter": "python",
      "pygments_lexer": "ipython3",
      "version": "3.10.4"
    },
    "orig_nbformat": 4,
    "vscode": {
      "interpreter": {
        "hash": "375cb2be7c48c11bb855aa4c37dc6c17bef886eb77cae35fc21e121628c6e1e2"
      }
    },
    "colab": {
      "provenance": []
    }
  },
  "nbformat": 4,
  "nbformat_minor": 0
}