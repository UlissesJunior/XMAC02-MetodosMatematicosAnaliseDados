{
  "cells": [
    {
      "cell_type": "markdown",
      "metadata": {
        "id": "QoVpPEAfjPht"
      },
      "source": [
        "## Arrays - Parte II\n",
        "Vamos agora aprender a selecionar elementos e partes de arrays e matrizes. \\\n",
        "Para obter um elemento de um array basta indicar o índice desse elemento. Vamos gerar o array 1...9 e selecionar o elemento 5."
      ]
    },
    {
      "cell_type": "code",
      "execution_count": 1,
      "metadata": {
        "id": "lohduhiejPhw",
        "outputId": "aad2e525-144d-4544-c805-acace759291e",
        "colab": {
          "base_uri": "https://localhost:8080/"
        }
      },
      "outputs": [
        {
          "output_type": "execute_result",
          "data": {
            "text/plain": [
              "array([1, 2, 3, 4, 5, 6, 7, 8, 9])"
            ]
          },
          "metadata": {},
          "execution_count": 1
        }
      ],
      "source": [
        "import numpy as np\n",
        "\n",
        "arr1 = np.arange(1, 10)\n",
        "arr1"
      ]
    },
    {
      "cell_type": "code",
      "execution_count": 2,
      "metadata": {
        "id": "52RjnKCWjPhw",
        "outputId": "e604f647-d337-4521-af1d-54f7557096a6",
        "colab": {
          "base_uri": "https://localhost:8080/"
        }
      },
      "outputs": [
        {
          "output_type": "execute_result",
          "data": {
            "text/plain": [
              "np.int64(5)"
            ]
          },
          "metadata": {},
          "execution_count": 2
        }
      ],
      "source": [
        "arr1[4]"
      ]
    },
    {
      "cell_type": "markdown",
      "metadata": {
        "id": "Ku2fwYDEjPhw"
      },
      "source": [
        "Vamos agora selecionar múltiplos elementos de um array. \\\n",
        "Suponha que queremos obter o terceiro, quarto e quinto elementos do array, ou seja, 3, 4 e 5."
      ]
    },
    {
      "cell_type": "code",
      "execution_count": 3,
      "metadata": {
        "id": "zkC4vL6OjPhx",
        "outputId": "1e64ff82-6621-4738-fa61-fd400d4bc848",
        "colab": {
          "base_uri": "https://localhost:8080/"
        }
      },
      "outputs": [
        {
          "output_type": "execute_result",
          "data": {
            "text/plain": [
              "array([3, 4, 5])"
            ]
          },
          "metadata": {},
          "execution_count": 3
        }
      ],
      "source": [
        "arr1[2:5]"
      ]
    },
    {
      "cell_type": "markdown",
      "metadata": {
        "id": "ukOVj6M5jPhx"
      },
      "source": [
        "Agora vamos aprender como obter os primeiros n elementos de um array. \\\n",
        "Suponha que queremos obter os 4 primeiros elementos do nosso array."
      ]
    },
    {
      "cell_type": "code",
      "execution_count": 10,
      "metadata": {
        "id": "Gn7A1Q7ujPhx",
        "outputId": "7ff8faea-e920-40d0-84d5-928d2263e0c2",
        "colab": {
          "base_uri": "https://localhost:8080/"
        }
      },
      "outputs": [
        {
          "name": "stdout",
          "output_type": "stream",
          "text": [
            "Digite um número: 4\n"
          ]
        },
        {
          "output_type": "execute_result",
          "data": {
            "text/plain": [
              "array([1, 2, 3, 4])"
            ]
          },
          "metadata": {},
          "execution_count": 10
        }
      ],
      "source": [
        "n = input(\"Digite um número: \")\n",
        "n = int(n)\n",
        "arr1[:n]"
      ]
    },
    {
      "cell_type": "markdown",
      "metadata": {
        "id": "Nxcv65ryjPhx"
      },
      "source": [
        "Em seguida, vamos obter os 4 últimos elementos do nosso array."
      ]
    },
    {
      "cell_type": "code",
      "execution_count": 9,
      "metadata": {
        "id": "RO4W3aD8jPhy",
        "outputId": "4899585e-6ad5-4a8c-b34e-48550611b773",
        "colab": {
          "base_uri": "https://localhost:8080/"
        }
      },
      "outputs": [
        {
          "name": "stdout",
          "output_type": "stream",
          "text": [
            "Digite um número: 4\n"
          ]
        },
        {
          "output_type": "execute_result",
          "data": {
            "text/plain": [
              "array([5, 6, 7, 8, 9])"
            ]
          },
          "metadata": {},
          "execution_count": 9
        }
      ],
      "source": [
        "n = input(\"Digite um número: \")\n",
        "n = int(n)\n",
        "arr1[n:]"
      ]
    },
    {
      "cell_type": "markdown",
      "metadata": {
        "id": "JnytL3Q6jPhy"
      },
      "source": [
        "Vamos agora criar uma matriz contendo 3 linhas e 10 colunas, da seguinte forma: \\\n",
        "0 .. 9 \\\n",
        "10..19 \\\n",
        "20..29"
      ]
    },
    {
      "cell_type": "code",
      "execution_count": 11,
      "metadata": {
        "id": "q_9oTO-xjPhy",
        "outputId": "2d0551a7-2df7-4047-d364-2bd8321ec020",
        "colab": {
          "base_uri": "https://localhost:8080/"
        }
      },
      "outputs": [
        {
          "output_type": "execute_result",
          "data": {
            "text/plain": [
              "array([[ 0.,  1.,  2.,  3.,  4.,  5.,  6.,  7.,  8.,  9.],\n",
              "       [10., 11., 12., 13., 14., 15., 16., 17., 18., 19.],\n",
              "       [20., 21., 22., 23., 24., 25., 26., 27., 28., 29.]])"
            ]
          },
          "metadata": {},
          "execution_count": 11
        }
      ],
      "source": [
        "arr2 = np.linspace(0,29,30)\n",
        "mat1 = arr2.reshape(3,10)\n",
        "mat1"
      ]
    },
    {
      "cell_type": "markdown",
      "metadata": {
        "id": "FKNs_ZJcjPhy"
      },
      "source": [
        "Agora vamos selecionar elementos e sequências dessa matriz. \\\n",
        "Vamos iniciar selecionando a segunda linha da matriz."
      ]
    },
    {
      "cell_type": "code",
      "execution_count": 12,
      "metadata": {
        "id": "B7HACS0xjPhz",
        "outputId": "0d358e87-3e99-4b7f-bed5-fe721b4c0956",
        "colab": {
          "base_uri": "https://localhost:8080/"
        }
      },
      "outputs": [
        {
          "output_type": "execute_result",
          "data": {
            "text/plain": [
              "array([10., 11., 12., 13., 14., 15., 16., 17., 18., 19.])"
            ]
          },
          "metadata": {},
          "execution_count": 12
        }
      ],
      "source": [
        "mat1[1]"
      ]
    },
    {
      "cell_type": "markdown",
      "metadata": {
        "id": "QLT8STy5jPhz"
      },
      "source": [
        "Agora vamos selecionar o elemento 25."
      ]
    },
    {
      "cell_type": "code",
      "execution_count": 13,
      "metadata": {
        "id": "-yCiU1q2jPhz",
        "outputId": "991144d5-5871-4878-d7ab-1aa25f72270c",
        "colab": {
          "base_uri": "https://localhost:8080/"
        }
      },
      "outputs": [
        {
          "output_type": "execute_result",
          "data": {
            "text/plain": [
              "np.float64(25.0)"
            ]
          },
          "metadata": {},
          "execution_count": 13
        }
      ],
      "source": [
        "mat1[2,5]"
      ]
    },
    {
      "cell_type": "markdown",
      "metadata": {
        "id": "8k8dFF_xjPhz"
      },
      "source": [
        "Vamos agora selecionar os elementos da segunda e terceira colunas da matriz. \\\n",
        "Como temos 3 linhas, queremos obter 6 elementos, da seguinte forma: \\\n",
        "1   2 \\\n",
        "11 12 \\\n",
        "21 22"
      ]
    },
    {
      "cell_type": "code",
      "execution_count": 14,
      "metadata": {
        "id": "xLXlYgURjPh0",
        "outputId": "9de352ec-19bf-48d8-e13e-e44f5267eb35",
        "colab": {
          "base_uri": "https://localhost:8080/"
        }
      },
      "outputs": [
        {
          "output_type": "execute_result",
          "data": {
            "text/plain": [
              "array([[ 1.,  2.],\n",
              "       [11., 12.],\n",
              "       [21., 22.]])"
            ]
          },
          "metadata": {},
          "execution_count": 14
        }
      ],
      "source": [
        "mat1[:, 1:3]"
      ]
    },
    {
      "cell_type": "markdown",
      "metadata": {
        "id": "c7T12mnujPh0"
      },
      "source": [
        "Um aspecto interessante da linguagem Python é que eu consigo selecionar elementos com base em condições sem usar estruturas condicionais ou laços. \\\n",
        "Vamos gerar um array contendo dezenas, da seguinte forma: \\\n",
        "0 10 20 ... 100"
      ]
    },
    {
      "cell_type": "code",
      "execution_count": 17,
      "metadata": {
        "id": "N2QSI02mjPh0",
        "outputId": "77954ef5-8e75-41d2-a77e-85588c783cf9",
        "colab": {
          "base_uri": "https://localhost:8080/"
        }
      },
      "outputs": [
        {
          "output_type": "execute_result",
          "data": {
            "text/plain": [
              "array([  0,  10,  20,  30,  40,  50,  60,  70,  80,  90, 100])"
            ]
          },
          "metadata": {},
          "execution_count": 17
        }
      ],
      "source": [
        "dezenas = np.arange(0,101,10)\n",
        "dezenas"
      ]
    },
    {
      "cell_type": "markdown",
      "metadata": {
        "id": "X9tpRWVyjPh0"
      },
      "source": [
        "Suponha agora que queremos obter todos os elementos maiores ou iguais a 60."
      ]
    },
    {
      "cell_type": "code",
      "execution_count": 18,
      "metadata": {
        "id": "WCSohfjKjPh0",
        "outputId": "f3970c12-e0b1-49fd-a88e-44217c00e2d3",
        "colab": {
          "base_uri": "https://localhost:8080/"
        }
      },
      "outputs": [
        {
          "output_type": "execute_result",
          "data": {
            "text/plain": [
              "array([False, False, False, False, False, False,  True,  True,  True,\n",
              "        True,  True])"
            ]
          },
          "metadata": {},
          "execution_count": 18
        }
      ],
      "source": [
        "dezenas >= 60"
      ]
    },
    {
      "cell_type": "code",
      "execution_count": 19,
      "metadata": {
        "id": "YDlcCJU6jPh0",
        "outputId": "79d64235-ee15-42a1-a0a2-514d633dbe16",
        "colab": {
          "base_uri": "https://localhost:8080/"
        }
      },
      "outputs": [
        {
          "output_type": "execute_result",
          "data": {
            "text/plain": [
              "array([ 60,  70,  80,  90, 100])"
            ]
          },
          "metadata": {},
          "execution_count": 19
        }
      ],
      "source": [
        "dezenas[dezenas >= 60]"
      ]
    },
    {
      "cell_type": "markdown",
      "metadata": {
        "id": "alQ6wyhYjPh0"
      },
      "source": [
        "Note que o vetor não precisa estar ordenado."
      ]
    },
    {
      "cell_type": "code",
      "execution_count": 20,
      "metadata": {
        "id": "DBtWiqCsjPh1",
        "outputId": "bb300606-c976-454b-d9a2-aa42d8ffc673",
        "colab": {
          "base_uri": "https://localhost:8080/"
        }
      },
      "outputs": [
        {
          "output_type": "execute_result",
          "data": {
            "text/plain": [
              "array([ 60,  90,  80,  70, 100])"
            ]
          },
          "metadata": {},
          "execution_count": 20
        }
      ],
      "source": [
        "dezenas2 = np.array([30,40,10,60,90,20,0,80,70,50,100])\n",
        "dezenas2[dezenas2 >= 60]"
      ]
    },
    {
      "cell_type": "markdown",
      "metadata": {
        "id": "9Ru-pGvAjPh1"
      },
      "source": [
        "Exercício 1 \\\n",
        "Neste exercício você deve criar uma matriz 4 x 10 da seguinte forma: \\\n",
        "01 .. 10 \\\n",
        "11 .. 20 \\\n",
        "21 .. 30 \\\n",
        "31 .. 40 \\\n",
        "Em seguida, você deve pegar os elementos centrais da matriz, ou seja: \\\n",
        "14 15 16 17 \\\n",
        "24 25 26 27"
      ]
    },
    {
      "cell_type": "code",
      "execution_count": 21,
      "metadata": {
        "id": "mgveFf3ZjPh1",
        "outputId": "4e68859d-2167-4444-c438-55b600455df5",
        "colab": {
          "base_uri": "https://localhost:8080/"
        }
      },
      "outputs": [
        {
          "output_type": "execute_result",
          "data": {
            "text/plain": [
              "array([[14, 15, 16, 17],\n",
              "       [24, 25, 26, 27]])"
            ]
          },
          "metadata": {},
          "execution_count": 21
        }
      ],
      "source": [
        "mat10 = np.arange(1,41).reshape(4,10)\n",
        "mat10[1:3, 3:7]"
      ]
    }
  ],
  "metadata": {
    "kernelspec": {
      "display_name": "base",
      "language": "python",
      "name": "python3"
    },
    "language_info": {
      "codemirror_mode": {
        "name": "ipython",
        "version": 3
      },
      "file_extension": ".py",
      "mimetype": "text/x-python",
      "name": "python",
      "nbconvert_exporter": "python",
      "pygments_lexer": "ipython3",
      "version": "3.10.4"
    },
    "orig_nbformat": 4,
    "vscode": {
      "interpreter": {
        "hash": "375cb2be7c48c11bb855aa4c37dc6c17bef886eb77cae35fc21e121628c6e1e2"
      }
    },
    "colab": {
      "provenance": []
    }
  },
  "nbformat": 4,
  "nbformat_minor": 0
}