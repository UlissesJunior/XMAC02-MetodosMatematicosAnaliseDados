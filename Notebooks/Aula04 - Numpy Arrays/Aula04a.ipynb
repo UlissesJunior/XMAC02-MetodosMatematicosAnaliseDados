{
  "cells": [
    {
      "cell_type": "markdown",
      "metadata": {
        "id": "GcXQEh3qhGG5"
      },
      "source": [
        "## Arrays\n",
        "Diferentemente de listas, arrays só podem conter o mesmo tipo de dado. \\\n",
        "Outra particularidade importante é que Python permite a criação de arrays multidimensionais. Um array bidimensional é o que chamamos de matriz, mas é possível criar um array de múltiplas dimensões."
      ]
    },
    {
      "cell_type": "markdown",
      "metadata": {
        "id": "ZnRIInmZhGG7"
      },
      "source": [
        "Para manipular arrays temos que importar o pacote numpy. \\\n",
        "A forma mais simples de criar um array em Python é criar uma lista e transformá-la num array."
      ]
    },
    {
      "cell_type": "code",
      "execution_count": 1,
      "metadata": {
        "id": "1QNAD96ZhGG7",
        "outputId": "4b065a92-d545-4593-a5c8-4a3a3c4662ed",
        "colab": {
          "base_uri": "https://localhost:8080/"
        }
      },
      "outputs": [
        {
          "output_type": "execute_result",
          "data": {
            "text/plain": [
              "list"
            ]
          },
          "metadata": {},
          "execution_count": 1
        }
      ],
      "source": [
        "import numpy as np\n",
        "a = [1,2,3]\n",
        "type(a)"
      ]
    },
    {
      "cell_type": "code",
      "execution_count": 2,
      "metadata": {
        "id": "YlXqiqhkhGG8",
        "outputId": "281b00b8-2153-49f3-dfd2-6374c61fed2b",
        "colab": {
          "base_uri": "https://localhost:8080/"
        }
      },
      "outputs": [
        {
          "output_type": "execute_result",
          "data": {
            "text/plain": [
              "array([1, 2, 3])"
            ]
          },
          "metadata": {},
          "execution_count": 2
        }
      ],
      "source": [
        "b = np.array(a)\n",
        "b"
      ]
    },
    {
      "cell_type": "code",
      "execution_count": 3,
      "metadata": {
        "id": "xv2pEn3VhGG8",
        "outputId": "f244fa58-8022-4e4d-919a-10180dba8ba6",
        "colab": {
          "base_uri": "https://localhost:8080/"
        }
      },
      "outputs": [
        {
          "output_type": "execute_result",
          "data": {
            "text/plain": [
              "numpy.ndarray"
            ]
          },
          "metadata": {},
          "execution_count": 3
        }
      ],
      "source": [
        "type(b)"
      ]
    },
    {
      "cell_type": "markdown",
      "metadata": {
        "id": "7BnsDJu8hGG8"
      },
      "source": [
        "Da mesma forma que criamos uma lista com o método range, podemos criar um array com o método arange. \\\n",
        "Vamos criar um array contendo os elementos 0, 1, ... 9."
      ]
    },
    {
      "cell_type": "code",
      "execution_count": 4,
      "metadata": {
        "id": "bhzLr9EohGG8",
        "outputId": "3056ecdd-7d76-4564-f8b5-1b9672508f1f",
        "colab": {
          "base_uri": "https://localhost:8080/"
        }
      },
      "outputs": [
        {
          "output_type": "execute_result",
          "data": {
            "text/plain": [
              "array([0, 1, 2, 3, 4, 5, 6, 7, 8, 9])"
            ]
          },
          "metadata": {},
          "execution_count": 4
        }
      ],
      "source": [
        "np.arange(0,10)"
      ]
    },
    {
      "cell_type": "markdown",
      "metadata": {
        "id": "1sgJA756hGG9"
      },
      "source": [
        "Outra alternativa para criar um array é usar o método linspace. Este método requer 3 argumentos: o número inicial, o número final e a quantidade de números no intervalo entre o número inicial e final, incluindo ambos. \\\n",
        "Vamos gerar um array de 0 a 3 com 31 itens e depois outro array de 0 a 30 com 31 itens"
      ]
    },
    {
      "cell_type": "code",
      "execution_count": 5,
      "metadata": {
        "id": "RY4bISzbhGG9",
        "outputId": "90310e19-2f7a-49be-9b7a-6a0d65bab18c",
        "colab": {
          "base_uri": "https://localhost:8080/"
        }
      },
      "outputs": [
        {
          "output_type": "execute_result",
          "data": {
            "text/plain": [
              "array([0. , 0.1, 0.2, 0.3, 0.4, 0.5, 0.6, 0.7, 0.8, 0.9, 1. , 1.1, 1.2,\n",
              "       1.3, 1.4, 1.5, 1.6, 1.7, 1.8, 1.9, 2. , 2.1, 2.2, 2.3, 2.4, 2.5,\n",
              "       2.6, 2.7, 2.8, 2.9, 3. ])"
            ]
          },
          "metadata": {},
          "execution_count": 5
        }
      ],
      "source": [
        "np.linspace(0,3,31)"
      ]
    },
    {
      "cell_type": "code",
      "execution_count": 6,
      "metadata": {
        "id": "-kaFNDsZhGG9",
        "outputId": "ee6bb33c-e9c0-4d52-834d-f3cdcb22854d",
        "colab": {
          "base_uri": "https://localhost:8080/"
        }
      },
      "outputs": [
        {
          "output_type": "execute_result",
          "data": {
            "text/plain": [
              "array([ 0.,  1.,  2.,  3.,  4.,  5.,  6.,  7.,  8.,  9., 10., 11., 12.,\n",
              "       13., 14., 15., 16., 17., 18., 19., 20., 21., 22., 23., 24., 25.,\n",
              "       26., 27., 28., 29., 30.])"
            ]
          },
          "metadata": {},
          "execution_count": 6
        }
      ],
      "source": [
        "np.linspace(0,30,31)"
      ]
    },
    {
      "cell_type": "markdown",
      "metadata": {
        "id": "FHZC95QehGG9"
      },
      "source": [
        "Como criar um array bidimensional (matriz)? \\\n",
        "A forma mais simples envolve criar uma lista contendo duas listas e transformar essa lista num array."
      ]
    },
    {
      "cell_type": "code",
      "execution_count": 7,
      "metadata": {
        "id": "l_684VXxhGG9",
        "outputId": "9fde007b-919d-4ec1-b5f3-fcd3f5facf2d",
        "colab": {
          "base_uri": "https://localhost:8080/"
        }
      },
      "outputs": [
        {
          "output_type": "execute_result",
          "data": {
            "text/plain": [
              "array([[ 1,  2,  3],\n",
              "       [10, 20, 30]])"
            ]
          },
          "metadata": {},
          "execution_count": 7
        }
      ],
      "source": [
        "c = [[1,2,3],[10,20,30]]\n",
        "np.array(c)"
      ]
    },
    {
      "cell_type": "markdown",
      "metadata": {
        "id": "Szv25xTHhGG9"
      },
      "source": [
        "Em alguns casos pode ser útil criar matrizes contendo apenas zeros ou apenas uns. \\\n",
        "Vamos criar uma matriz 3x4 contendo apenas zeros e uma matriz 4x3 contendo apenas uns. \\\n",
        "Importante: a dimensão da matriz tem que ser passada como uma tupla, ou seja, 3x4 tem que ser representado por (3, 4)."
      ]
    },
    {
      "cell_type": "code",
      "execution_count": 8,
      "metadata": {
        "id": "Y9pvn83XhGG-",
        "outputId": "80b032a5-90ed-49b0-9f80-432f1e494ae1",
        "colab": {
          "base_uri": "https://localhost:8080/"
        }
      },
      "outputs": [
        {
          "output_type": "execute_result",
          "data": {
            "text/plain": [
              "array([[0., 0., 0., 0.],\n",
              "       [0., 0., 0., 0.],\n",
              "       [0., 0., 0., 0.]])"
            ]
          },
          "metadata": {},
          "execution_count": 8
        }
      ],
      "source": [
        "np.zeros((3,4))"
      ]
    },
    {
      "cell_type": "code",
      "execution_count": 9,
      "metadata": {
        "id": "eRdbxzSShGG-",
        "outputId": "c52c6932-7ef7-4cb8-a426-f2ed14402512",
        "colab": {
          "base_uri": "https://localhost:8080/"
        }
      },
      "outputs": [
        {
          "output_type": "execute_result",
          "data": {
            "text/plain": [
              "array([[1., 1., 1.],\n",
              "       [1., 1., 1.],\n",
              "       [1., 1., 1.],\n",
              "       [1., 1., 1.]])"
            ]
          },
          "metadata": {},
          "execution_count": 9
        }
      ],
      "source": [
        "np.ones((4,3))"
      ]
    },
    {
      "cell_type": "markdown",
      "metadata": {
        "id": "92pO0cUuhGG-"
      },
      "source": [
        "Agora vamos criar uma matriz com 3 linhas e 10 colunas contendo os números de 0 a 29, dessa forma: \\\n",
        "0  ...  9 \\\n",
        "10 ... 19 \\\n",
        "20 ... 29"
      ]
    },
    {
      "cell_type": "markdown",
      "metadata": {
        "id": "9Cx6EKdahGG-"
      },
      "source": [
        "Inicialmente vamos usar o método linspace para gerar um array unidimensional contendo todos os números."
      ]
    },
    {
      "cell_type": "code",
      "execution_count": 10,
      "metadata": {
        "id": "zJ8h2ZdihGG-"
      },
      "outputs": [],
      "source": [
        "nim30 = np.linspace(0,29,30)"
      ]
    },
    {
      "cell_type": "code",
      "execution_count": 11,
      "metadata": {
        "id": "l7gSYpD-hGG-",
        "outputId": "47581a0a-0eda-4b06-fa82-e1a32f560cc7",
        "colab": {
          "base_uri": "https://localhost:8080/"
        }
      },
      "outputs": [
        {
          "output_type": "execute_result",
          "data": {
            "text/plain": [
              "(30,)"
            ]
          },
          "metadata": {},
          "execution_count": 11
        }
      ],
      "source": [
        "nim30.shape"
      ]
    },
    {
      "cell_type": "markdown",
      "metadata": {
        "id": "I_ZKwqOIhGG-"
      },
      "source": [
        "O que temos que fazer agora é mudar o formato desse vetor. Para isso usamos o método reshape."
      ]
    },
    {
      "cell_type": "code",
      "execution_count": 12,
      "metadata": {
        "id": "0CM4zRI9hGG-",
        "outputId": "1f832b06-61ca-4a7d-92b6-35929207a37a",
        "colab": {
          "base_uri": "https://localhost:8080/"
        }
      },
      "outputs": [
        {
          "output_type": "execute_result",
          "data": {
            "text/plain": [
              "array([[ 0.,  1.,  2.,  3.,  4.,  5.,  6.,  7.,  8.,  9.],\n",
              "       [10., 11., 12., 13., 14., 15., 16., 17., 18., 19.],\n",
              "       [20., 21., 22., 23., 24., 25., 26., 27., 28., 29.]])"
            ]
          },
          "metadata": {},
          "execution_count": 12
        }
      ],
      "source": [
        "nim30.reshape(3,10)"
      ]
    },
    {
      "cell_type": "markdown",
      "metadata": {
        "id": "fUteoOkChGG-"
      },
      "source": [
        "Exercício 1 \\\n",
        "Crie um array usando linspace() que contenha valores de -3.0 até +3.0 em intervalos de 0.1"
      ]
    },
    {
      "cell_type": "code",
      "execution_count": 19,
      "metadata": {
        "id": "R-gZhdbBhGG-",
        "outputId": "8da7b7e9-1eb1-49b5-d692-0d77e0de784d",
        "colab": {
          "base_uri": "https://localhost:8080/"
        }
      },
      "outputs": [
        {
          "output_type": "execute_result",
          "data": {
            "text/plain": [
              "array([-3. , -2.9, -2.8, -2.7, -2.6, -2.5, -2.4, -2.3, -2.2, -2.1, -2. ,\n",
              "       -1.9, -1.8, -1.7, -1.6, -1.5, -1.4, -1.3, -1.2, -1.1, -1. , -0.9,\n",
              "       -0.8, -0.7, -0.6, -0.5, -0.4, -0.3, -0.2, -0.1,  0. ,  0.1,  0.2,\n",
              "        0.3,  0.4,  0.5,  0.6,  0.7,  0.8,  0.9,  1. ,  1.1,  1.2,  1.3,\n",
              "        1.4,  1.5,  1.6,  1.7,  1.8,  1.9,  2. ,  2.1,  2.2,  2.3,  2.4,\n",
              "        2.5,  2.6,  2.7,  2.8,  2.9,  3. ])"
            ]
          },
          "metadata": {},
          "execution_count": 19
        }
      ],
      "source": [
        "np.linspace(-3, 3, 61)"
      ]
    },
    {
      "cell_type": "markdown",
      "metadata": {
        "id": "PLj6mGXAhGG_"
      },
      "source": [
        "Exercício 2 \\\n",
        "Crie um array unidimensional de 1 a 10 e depois transforme esse vetor numa matriz 2x5.\n"
      ]
    },
    {
      "cell_type": "code",
      "execution_count": 21,
      "metadata": {
        "id": "-88NFmsMhGG_",
        "outputId": "ea5b315c-7c63-46d7-fa3c-73a6ecc37328",
        "colab": {
          "base_uri": "https://localhost:8080/"
        }
      },
      "outputs": [
        {
          "output_type": "execute_result",
          "data": {
            "text/plain": [
              "array([[ 1,  2,  3,  4,  5],\n",
              "       [ 6,  7,  8,  9, 10]])"
            ]
          },
          "metadata": {},
          "execution_count": 21
        }
      ],
      "source": [
        "arr = np.arange(1,11)\n",
        "arr.reshape(2,5)"
      ]
    },
    {
      "cell_type": "markdown",
      "metadata": {
        "id": "cTCMj2-ohGG_"
      },
      "source": [
        "Exercício 3 \\\n",
        "Gere uma matriz de zeros, contendo n linhas por m colunas, sendo n e m informados pelo usuário."
      ]
    },
    {
      "cell_type": "code",
      "execution_count": 22,
      "metadata": {
        "id": "QVXpUDJOhGG_",
        "outputId": "6db65ab4-cd80-4f12-f609-d4ddfddc16d7",
        "colab": {
          "base_uri": "https://localhost:8080/"
        }
      },
      "outputs": [
        {
          "name": "stdout",
          "output_type": "stream",
          "text": [
            "Digite o valor de N.10\n",
            "Digite o valor de M.20\n"
          ]
        },
        {
          "output_type": "execute_result",
          "data": {
            "text/plain": [
              "array([[0., 0., 0., 0., 0., 0., 0., 0., 0., 0., 0., 0., 0., 0., 0., 0.,\n",
              "        0., 0., 0., 0.],\n",
              "       [0., 0., 0., 0., 0., 0., 0., 0., 0., 0., 0., 0., 0., 0., 0., 0.,\n",
              "        0., 0., 0., 0.],\n",
              "       [0., 0., 0., 0., 0., 0., 0., 0., 0., 0., 0., 0., 0., 0., 0., 0.,\n",
              "        0., 0., 0., 0.],\n",
              "       [0., 0., 0., 0., 0., 0., 0., 0., 0., 0., 0., 0., 0., 0., 0., 0.,\n",
              "        0., 0., 0., 0.],\n",
              "       [0., 0., 0., 0., 0., 0., 0., 0., 0., 0., 0., 0., 0., 0., 0., 0.,\n",
              "        0., 0., 0., 0.],\n",
              "       [0., 0., 0., 0., 0., 0., 0., 0., 0., 0., 0., 0., 0., 0., 0., 0.,\n",
              "        0., 0., 0., 0.],\n",
              "       [0., 0., 0., 0., 0., 0., 0., 0., 0., 0., 0., 0., 0., 0., 0., 0.,\n",
              "        0., 0., 0., 0.],\n",
              "       [0., 0., 0., 0., 0., 0., 0., 0., 0., 0., 0., 0., 0., 0., 0., 0.,\n",
              "        0., 0., 0., 0.],\n",
              "       [0., 0., 0., 0., 0., 0., 0., 0., 0., 0., 0., 0., 0., 0., 0., 0.,\n",
              "        0., 0., 0., 0.],\n",
              "       [0., 0., 0., 0., 0., 0., 0., 0., 0., 0., 0., 0., 0., 0., 0., 0.,\n",
              "        0., 0., 0., 0.]])"
            ]
          },
          "metadata": {},
          "execution_count": 22
        }
      ],
      "source": [
        "n = input(\"Digite o valor de N.\")\n",
        "m = input(\"Digite o valor de M.\")\n",
        "n = int(n)\n",
        "m = int(m)\n",
        "np.zeros((n,m))"
      ]
    }
  ],
  "metadata": {
    "kernelspec": {
      "display_name": "base",
      "language": "python",
      "name": "python3"
    },
    "language_info": {
      "codemirror_mode": {
        "name": "ipython",
        "version": 3
      },
      "file_extension": ".py",
      "mimetype": "text/x-python",
      "name": "python",
      "nbconvert_exporter": "python",
      "pygments_lexer": "ipython3",
      "version": "3.10.4"
    },
    "orig_nbformat": 4,
    "vscode": {
      "interpreter": {
        "hash": "375cb2be7c48c11bb855aa4c37dc6c17bef886eb77cae35fc21e121628c6e1e2"
      }
    },
    "colab": {
      "provenance": []
    }
  },
  "nbformat": 4,
  "nbformat_minor": 0
}