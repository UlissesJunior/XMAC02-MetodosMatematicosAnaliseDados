{
 "cells": [
  {
   "cell_type": "markdown",
   "id": "312b2339",
   "metadata": {},
   "source": [
    "## Crosstab - Cross Tabulation\n",
    "Fornece um resumo tabular da distribuição de frequência de duas variáveis, permitindo-nos ver a relação entre elas e identificar quaisquer padrões ou tendências.\n",
    "\n",
    "Esta função permite calcular uma tabela de frequência de duas ou mais variáveis, que resume a distribuição dos valores nos dados e fornece insights sobre as relações entre as variáveis. A tabulação cruzada (ou crosstab) é uma ferramenta importante para analisar duas variáveis ​​categóricas em um conjunto de dados.\n",
    "\n",
    "Uma tabela de frequência é uma tabela que mostra a distribuição de valores em um conjunto de dados, contando o número de ocorrências de cada valor. Por exemplo, suponha que temos um conjunto de dados de alunos que contém informações sobre gênero e nível de escolaridade. Uma tabela de frequência de gênero e nível de escolaridade resumiria o número de alunos do sexo masculino e feminino em cada categoria de nível de escolaridade."
   ]
  },
  {
   "cell_type": "markdown",
   "id": "774927fe",
   "metadata": {},
   "source": [
    "O uso básico da função crosstab() é o seguinte:\n",
    "\n",
    "pd.crosstab(index, columns, values=None, rownames=None, colnames=None, aggfunc=None, margins=False, margins_name='All', dropna=True, normalize=False)\n",
    "\n",
    "Onde:\n",
    "\n",
    "-index: Um objeto em forma de sequência ou matriz que define as linhas da tabela de frequência. Este parâmetro pode ser um único nome de coluna, uma lista de nomes de colunas ou uma matriz de valores.\n",
    "\n",
    "-columns: Um objeto em forma de sequência ou matriz que define as colunas da tabela de frequência. Este parâmetro pode ser um único nome de coluna, uma lista de nomes de colunas ou uma matriz de valores.\n",
    "\n",
    "-values: Um parâmetro opcional que especifica os valores a serem agregados na tabela de frequência. Este parâmetro pode ser um único nome de coluna, uma lista de nomes de colunas ou uma matriz de valores. Se não for fornecido, a função contará o número de ocorrências de cada combinação de valores no índice e nas colunas.\n",
    "\n",
    "-rownames: Um parâmetro opcional que especifica os nomes das linhas na tabela de frequência. Este parâmetro pode ser uma única string ou uma lista de strings.\n",
    "\n",
    "-colnames: Um parâmetro opcional que especifica os nomes das colunas na tabela de frequência. Este parâmetro pode ser uma única string ou uma lista de strings.\n",
    "\n",
    "-aggfunc: Um parâmetro opcional que especifica a função de agregação a ser aplicada aos valores na tabela de frequência. Este parâmetro pode ser uma string ou um objeto chamável que recebe uma sequência de valores e retorna um valor escalar. Se não for fornecido, a função contará o número de ocorrências de cada combinação de valores no índice e nas colunas.\n",
    "\n",
    "-margins: Um parâmetro opcional que especifica se as margens de linha e coluna devem ser calculadas na tabela de frequência. Se definido como True, a função adicionará uma linha e uma coluna à tabela que mostra os totais marginais. O valor padrão é False.\n",
    "\n",
    "-dropna: Um parâmetro opcional que especifica se as linhas e colunas que contêm valores ausentes (valores NaN) devem ser removidas da tabela de frequência. Se definido como True, a função removerá as linhas e colunas que contêm valores ausentes. O valor padrão é True.\n",
    "\n",
    "-normalize: Um parâmetro opcional que especifica se a tabela de frequência deve ser normalizada dividindo os valores pelo total geral. Se definido como True, a função normalizará a tabela dividindo cada valor pela soma de todos os valores. O valor padrão é False."
   ]
  },
  {
   "cell_type": "markdown",
   "id": "ca736d71",
   "metadata": {},
   "source": [
    "### Exemplo 1: Criando um Crosstab simples\n",
    "Vamos começar com um exemplo simples para criar uma tabela de tabulação cruzada com duas variáveis: gênero e nível de escolaridade. Usaremos um conjunto de dados de alunos que contém informações sobre gênero, nível de escolaridade e notas em testes."
   ]
  },
  {
   "cell_type": "code",
   "execution_count": 5,
   "id": "58c98363",
   "metadata": {},
   "outputs": [
    {
     "name": "stdout",
     "output_type": "stream",
     "text": [
      "   gender education_level  score\n",
      "0    male     high school     75\n",
      "1    male         college     82\n",
      "2  female         college     88\n",
      "3  female        graduate     95\n",
      "4    male     high school     69\n",
      "5  female        graduate     92\n",
      "6    male         college     78\n",
      "7  female        graduate     85\n"
     ]
    }
   ],
   "source": [
    "import pandas as pd\n",
    "\n",
    "# criando um dataset\n",
    "df = pd.DataFrame({\n",
    "    'gender': ['male', 'male', 'female', 'female', 'male', 'female', 'male', 'female'],\n",
    "    'education_level': ['high school', 'college', 'college', 'graduate', 'high school', 'graduate', 'college', 'graduate'],\n",
    "    'score': [75, 82, 88, 95, 69, 92, 78, 85]\n",
    "})\n",
    "\n",
    "# Visualizando o dataframe\n",
    "print(df)"
   ]
  },
  {
   "cell_type": "code",
   "execution_count": null,
   "id": "a8d939f5",
   "metadata": {},
   "outputs": [],
   "source": []
  },
  {
   "cell_type": "markdown",
   "id": "1bdcc080",
   "metadata": {},
   "source": [
    "Neste exemplo, criamos uma tabela de tabulação cruzada de gênero e nível de escolaridade passando a coluna gender como índice e a coluna education_level como colunas para a função crosstab(). A função conta o número de ocorrências de cada combinação de valores e retorna uma tabela que resume a distribuição de alunos por gênero e nível de escolaridade."
   ]
  },
  {
   "cell_type": "markdown",
   "id": "21913f30",
   "metadata": {},
   "source": [
    "### Exemplo 2: Agregando valores\n",
    "Além de contar o número de ocorrências de cada combinação de valores, a função crosstab() permite agregar outros valores na tabela. Por exemplo, você pode calcular a nota média dos alunos em cada combinação de gênero e nível de escolaridade.\n"
   ]
  },
  {
   "cell_type": "code",
   "execution_count": null,
   "id": "f2f4ec3c",
   "metadata": {},
   "outputs": [],
   "source": []
  },
  {
   "cell_type": "markdown",
   "id": "2612b40c",
   "metadata": {},
   "source": [
    "Neste exemplo, adicionamos o parâmetro values ​​à função crosstab() e o definimos como a coluna score. Também adicionamos o parâmetro aggfunc e o definimos como \"mean\", que calcula a pontuação média dos alunos em cada combinação de gênero e nível educacional."
   ]
  },
  {
   "cell_type": "code",
   "execution_count": null,
   "id": "7b31e0c9",
   "metadata": {},
   "outputs": [],
   "source": []
  },
  {
   "cell_type": "markdown",
   "id": "0516f919",
   "metadata": {},
   "source": [
    "Agora podemos criar um mapa de calor usando a função heatmap do seaborn"
   ]
  },
  {
   "cell_type": "code",
   "execution_count": null,
   "id": "9f51af89",
   "metadata": {},
   "outputs": [],
   "source": []
  },
  {
   "cell_type": "markdown",
   "id": "3f384831",
   "metadata": {},
   "source": [
    "Neste exemplo, adicionamos o parâmetro margins à função crosstab() e o definimos como True. A tabela resultante inclui margens de linha e coluna que mostram as contagens totais para cada linha e coluna, bem como a contagem total geral para toda a tabela."
   ]
  },
  {
   "cell_type": "markdown",
   "id": "99808a93",
   "metadata": {},
   "source": [
    "### Exemplo 4: Normalização\n",
    "A função crosstab() também permite normalizar a tabela dividindo os valores pelo total geral. Isso pode ser útil para comparar as frequências relativas de diferentes combinações de variáveis."
   ]
  },
  {
   "cell_type": "code",
   "execution_count": null,
   "id": "4e72d58e",
   "metadata": {},
   "outputs": [],
   "source": []
  },
  {
   "cell_type": "markdown",
   "id": "46f304de",
   "metadata": {},
   "source": [
    "Neste exemplo, adicionamos o parâmetro normalize à função crosstab() e o definimos como True. A tabela resultante mostra as proporções de cada combinação de gênero e nível de escolaridade, normalizadas pela contagem total geral de todos os alunos."
   ]
  },
  {
   "cell_type": "markdown",
   "id": "0f034e3e",
   "metadata": {},
   "source": [
    "### Exemplo 5: Visualização de dados\n",
    "Vamos agora usar a função crosstab() para criar visualizações dos dados. Por exemplo, você pode criar um gráfico de barras empilhadas para mostrar a distribuição dos alunos por gênero e nível de escolaridade."
   ]
  },
  {
   "cell_type": "code",
   "execution_count": null,
   "id": "f71aa3aa",
   "metadata": {},
   "outputs": [],
   "source": []
  },
  {
   "cell_type": "markdown",
   "id": "db0a4de4",
   "metadata": {},
   "source": [
    "Neste exemplo, usamos a função plot() da tabela de tabulação cruzada para criar um gráfico de barras empilhadas que mostra a distribuição dos alunos por gênero e nível de escolaridade. O gráfico resultante é uma visualização útil que permite comparar rapidamente as proporções de alunos em diferentes categorias."
   ]
  },
  {
   "cell_type": "markdown",
   "id": "c55b423a",
   "metadata": {},
   "source": [
    "### Exemplo 6: Função de agregação\n",
    "Suponha que queremos calcular a idade média dos alunos por gênero e nível de escolaridade. Podemos usar a função crosstab() com o parâmetro aggfunc definido como np.mean para calcular a nota média para cada combinação de gênero e nível de escolaridade."
   ]
  },
  {
   "cell_type": "code",
   "execution_count": null,
   "id": "7920ef19",
   "metadata": {},
   "outputs": [],
   "source": []
  },
  {
   "cell_type": "markdown",
   "id": "f66ce3fd",
   "metadata": {},
   "source": [
    "Neste exemplo, adicionamos o parâmetro values ​​à função crosstab() e o definimos como df['score'] para especificar que queremos aplicar a função mean aos valores de nota. A tabela resultante mostra a nota média para cada combinação de gênero e nível de escolaridade.\n",
    "\n",
    "O parâmetro aggfunc pode assumir qualquer função de agregação válida, como sum, max, min, median, std, var, etc. Isso permite aplicar uma ampla gama de funções estatísticas aos valores da tabela de crosstab, fornecendo ainda mais informações sobre as relações entre diferentes variáveis ​​categóricas."
   ]
  },
  {
   "cell_type": "markdown",
   "id": "7c19db64",
   "metadata": {},
   "source": [
    "### Exercícios\n",
    "Nos próximos exercícios, vocês devem usar o daset 'taxis' do Seaborn."
   ]
  },
  {
   "cell_type": "code",
   "execution_count": 6,
   "id": "ee9e1b10",
   "metadata": {},
   "outputs": [
    {
     "data": {
      "text/html": [
       "<div>\n",
       "<style scoped>\n",
       "    .dataframe tbody tr th:only-of-type {\n",
       "        vertical-align: middle;\n",
       "    }\n",
       "\n",
       "    .dataframe tbody tr th {\n",
       "        vertical-align: top;\n",
       "    }\n",
       "\n",
       "    .dataframe thead th {\n",
       "        text-align: right;\n",
       "    }\n",
       "</style>\n",
       "<table border=\"1\" class=\"dataframe\">\n",
       "  <thead>\n",
       "    <tr style=\"text-align: right;\">\n",
       "      <th></th>\n",
       "      <th>pickup</th>\n",
       "      <th>dropoff</th>\n",
       "      <th>passengers</th>\n",
       "      <th>distance</th>\n",
       "      <th>fare</th>\n",
       "      <th>tip</th>\n",
       "      <th>tolls</th>\n",
       "      <th>total</th>\n",
       "      <th>color</th>\n",
       "      <th>payment</th>\n",
       "      <th>pickup_zone</th>\n",
       "      <th>dropoff_zone</th>\n",
       "      <th>pickup_borough</th>\n",
       "      <th>dropoff_borough</th>\n",
       "    </tr>\n",
       "  </thead>\n",
       "  <tbody>\n",
       "    <tr>\n",
       "      <th>0</th>\n",
       "      <td>2019-03-23 20:21:09</td>\n",
       "      <td>2019-03-23 20:27:24</td>\n",
       "      <td>1</td>\n",
       "      <td>1.60</td>\n",
       "      <td>7.0</td>\n",
       "      <td>2.15</td>\n",
       "      <td>0.0</td>\n",
       "      <td>12.95</td>\n",
       "      <td>yellow</td>\n",
       "      <td>credit card</td>\n",
       "      <td>Lenox Hill West</td>\n",
       "      <td>UN/Turtle Bay South</td>\n",
       "      <td>Manhattan</td>\n",
       "      <td>Manhattan</td>\n",
       "    </tr>\n",
       "    <tr>\n",
       "      <th>1</th>\n",
       "      <td>2019-03-04 16:11:55</td>\n",
       "      <td>2019-03-04 16:19:00</td>\n",
       "      <td>1</td>\n",
       "      <td>0.79</td>\n",
       "      <td>5.0</td>\n",
       "      <td>0.00</td>\n",
       "      <td>0.0</td>\n",
       "      <td>9.30</td>\n",
       "      <td>yellow</td>\n",
       "      <td>cash</td>\n",
       "      <td>Upper West Side South</td>\n",
       "      <td>Upper West Side South</td>\n",
       "      <td>Manhattan</td>\n",
       "      <td>Manhattan</td>\n",
       "    </tr>\n",
       "    <tr>\n",
       "      <th>2</th>\n",
       "      <td>2019-03-27 17:53:01</td>\n",
       "      <td>2019-03-27 18:00:25</td>\n",
       "      <td>1</td>\n",
       "      <td>1.37</td>\n",
       "      <td>7.5</td>\n",
       "      <td>2.36</td>\n",
       "      <td>0.0</td>\n",
       "      <td>14.16</td>\n",
       "      <td>yellow</td>\n",
       "      <td>credit card</td>\n",
       "      <td>Alphabet City</td>\n",
       "      <td>West Village</td>\n",
       "      <td>Manhattan</td>\n",
       "      <td>Manhattan</td>\n",
       "    </tr>\n",
       "    <tr>\n",
       "      <th>3</th>\n",
       "      <td>2019-03-10 01:23:59</td>\n",
       "      <td>2019-03-10 01:49:51</td>\n",
       "      <td>1</td>\n",
       "      <td>7.70</td>\n",
       "      <td>27.0</td>\n",
       "      <td>6.15</td>\n",
       "      <td>0.0</td>\n",
       "      <td>36.95</td>\n",
       "      <td>yellow</td>\n",
       "      <td>credit card</td>\n",
       "      <td>Hudson Sq</td>\n",
       "      <td>Yorkville West</td>\n",
       "      <td>Manhattan</td>\n",
       "      <td>Manhattan</td>\n",
       "    </tr>\n",
       "    <tr>\n",
       "      <th>4</th>\n",
       "      <td>2019-03-30 13:27:42</td>\n",
       "      <td>2019-03-30 13:37:14</td>\n",
       "      <td>3</td>\n",
       "      <td>2.16</td>\n",
       "      <td>9.0</td>\n",
       "      <td>1.10</td>\n",
       "      <td>0.0</td>\n",
       "      <td>13.40</td>\n",
       "      <td>yellow</td>\n",
       "      <td>credit card</td>\n",
       "      <td>Midtown East</td>\n",
       "      <td>Yorkville West</td>\n",
       "      <td>Manhattan</td>\n",
       "      <td>Manhattan</td>\n",
       "    </tr>\n",
       "  </tbody>\n",
       "</table>\n",
       "</div>"
      ],
      "text/plain": [
       "               pickup             dropoff  passengers  distance  fare   tip  \\\n",
       "0 2019-03-23 20:21:09 2019-03-23 20:27:24           1      1.60   7.0  2.15   \n",
       "1 2019-03-04 16:11:55 2019-03-04 16:19:00           1      0.79   5.0  0.00   \n",
       "2 2019-03-27 17:53:01 2019-03-27 18:00:25           1      1.37   7.5  2.36   \n",
       "3 2019-03-10 01:23:59 2019-03-10 01:49:51           1      7.70  27.0  6.15   \n",
       "4 2019-03-30 13:27:42 2019-03-30 13:37:14           3      2.16   9.0  1.10   \n",
       "\n",
       "   tolls  total   color      payment            pickup_zone  \\\n",
       "0    0.0  12.95  yellow  credit card        Lenox Hill West   \n",
       "1    0.0   9.30  yellow         cash  Upper West Side South   \n",
       "2    0.0  14.16  yellow  credit card          Alphabet City   \n",
       "3    0.0  36.95  yellow  credit card              Hudson Sq   \n",
       "4    0.0  13.40  yellow  credit card           Midtown East   \n",
       "\n",
       "            dropoff_zone pickup_borough dropoff_borough  \n",
       "0    UN/Turtle Bay South      Manhattan       Manhattan  \n",
       "1  Upper West Side South      Manhattan       Manhattan  \n",
       "2           West Village      Manhattan       Manhattan  \n",
       "3         Yorkville West      Manhattan       Manhattan  \n",
       "4         Yorkville West      Manhattan       Manhattan  "
      ]
     },
     "execution_count": 6,
     "metadata": {},
     "output_type": "execute_result"
    }
   ],
   "source": [
    "import seaborn as sns\n",
    "df = sns.load_dataset('taxis')\n",
    "df.head()"
   ]
  },
  {
   "cell_type": "markdown",
   "id": "5232e131",
   "metadata": {},
   "source": [
    "Como é possível observar, o dataset 'taxis' mostra informações sobre corridas de táxi, informando a hora e o local de início e fim de cada corrida, informações sobre o preço da corrida e a forma de pagamento utilizada."
   ]
  },
  {
   "cell_type": "markdown",
   "id": "f3368878",
   "metadata": {},
   "source": [
    "### Exercício 1\n",
    "Crie uma tabela que informe a quantidade de vezes que cada tipo de pagamento foi utilizado em cada local de início (pickup_borough)."
   ]
  },
  {
   "cell_type": "code",
   "execution_count": null,
   "id": "315f4fe5",
   "metadata": {},
   "outputs": [],
   "source": []
  },
  {
   "cell_type": "markdown",
   "id": "84dcf2dd",
   "metadata": {},
   "source": [
    "### Exercício 2\n",
    "Crie uma tabela que mostre a distância média percorrida por tipo de pagamento."
   ]
  },
  {
   "cell_type": "code",
   "execution_count": null,
   "id": "92bf8500",
   "metadata": {},
   "outputs": [],
   "source": []
  },
  {
   "cell_type": "markdown",
   "id": "495ed5e4",
   "metadata": {},
   "source": [
    "### Exercício 3\n",
    "Crie uma tabela que exiba os valores pagos em dinheiro e cartão de crédito agrupados por local de partida (pickup_borough) e também totalize os valores de dinheiro e cartão, ou seja, mostre os valores somados de todas as corridas, divididos pela forma de pagamento."
   ]
  },
  {
   "cell_type": "code",
   "execution_count": null,
   "id": "db011717",
   "metadata": {},
   "outputs": [],
   "source": [
    "\n"
   ]
  },
  {
   "cell_type": "markdown",
   "id": "279662a8",
   "metadata": {},
   "source": [
    "### Exercício 4\n",
    "Crie uma tabela que mostre a divisão percentual dos valores gastos por local de partida (pickup_borough)"
   ]
  },
  {
   "cell_type": "code",
   "execution_count": null,
   "id": "2c81ac55",
   "metadata": {},
   "outputs": [],
   "source": []
  }
 ],
 "metadata": {
  "kernelspec": {
   "display_name": "base",
   "language": "python",
   "name": "python3"
  },
  "language_info": {
   "codemirror_mode": {
    "name": "ipython",
    "version": 3
   },
   "file_extension": ".py",
   "mimetype": "text/x-python",
   "name": "python",
   "nbconvert_exporter": "python",
   "pygments_lexer": "ipython3",
   "version": "3.12.7"
  }
 },
 "nbformat": 4,
 "nbformat_minor": 5
}
