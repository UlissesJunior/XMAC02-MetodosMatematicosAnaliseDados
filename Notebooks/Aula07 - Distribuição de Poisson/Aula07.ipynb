{
  "cells": [
    {
      "cell_type": "markdown",
      "metadata": {
        "id": "0S8Nu185hZie"
      },
      "source": [
        "## Distribuição de Poisson\n",
        "Vamos começar simulando  um caixa eletrônico que é procurado, em média, por 3,6 pessoas a cada 10 minutos."
      ]
    },
    {
      "cell_type": "code",
      "execution_count": 2,
      "metadata": {
        "id": "9ozoO0mhhZig"
      },
      "outputs": [],
      "source": [
        "import numpy as np\n",
        "import matplotlib.pyplot as plt\n",
        "import seaborn as sns\n",
        "from scipy.stats import poisson"
      ]
    },
    {
      "cell_type": "markdown",
      "metadata": {
        "id": "F_0IfuoihZih"
      },
      "source": [
        "Vamos iniciar aprendendo como gerar um número aleatório baseado na distribuição de Poisson, no caso a distribuição de probabilidade do nosso caixa eletrônico."
      ]
    },
    {
      "cell_type": "code",
      "execution_count": 3,
      "metadata": {
        "id": "jSwOAoAdhZii",
        "outputId": "00ffa229-4121-4fe1-bd5b-b41c78dc67e9",
        "colab": {
          "base_uri": "https://localhost:8080/"
        }
      },
      "outputs": [
        {
          "output_type": "execute_result",
          "data": {
            "text/plain": [
              "2"
            ]
          },
          "metadata": {},
          "execution_count": 3
        }
      ],
      "source": [
        "# parâmetro mu (média de eventos)\n",
        "mu = 3.6\n",
        "\n",
        "# número aleatório baseado na distribuição de Poisson\n",
        "np.random.poisson(mu)"
      ]
    },
    {
      "cell_type": "markdown",
      "metadata": {
        "id": "jTvYclIPhZii"
      },
      "source": [
        "Podemos gerar n números aleatórios com base na distribuição de Poison. A seguir, vamos gerar 10 números aleatórios."
      ]
    },
    {
      "cell_type": "code",
      "execution_count": 4,
      "metadata": {
        "id": "4u2fE9CuhZii",
        "outputId": "6c54c2c2-e808-4181-94c6-f622b4ba3907",
        "colab": {
          "base_uri": "https://localhost:8080/"
        }
      },
      "outputs": [
        {
          "output_type": "execute_result",
          "data": {
            "text/plain": [
              "array([2, 4, 4, 2, 2, 4, 2, 4, 1, 4])"
            ]
          },
          "metadata": {},
          "execution_count": 4
        }
      ],
      "source": [
        "np.random.poisson(mu, 10)"
      ]
    },
    {
      "cell_type": "markdown",
      "metadata": {
        "id": "EbMjg4ulhZii"
      },
      "source": [
        "Vamos agora gerar 1.000 números aleatórios e plotar um gráfico mostrando o resultado."
      ]
    },
    {
      "cell_type": "code",
      "execution_count": 5,
      "metadata": {
        "id": "juEC-jCLhZij",
        "outputId": "1cda99be-68d9-4ccb-835e-224df6dd9cff",
        "colab": {
          "base_uri": "https://localhost:8080/",
          "height": 472
        }
      },
      "outputs": [
        {
          "output_type": "display_data",
          "data": {
            "text/plain": [
              "<Figure size 640x480 with 1 Axes>"
            ],
            "image/png": "[encoded data removed]"
          },
          "metadata": {}
        }
      ],
      "source": [
        "import matplotlib.pyplot as plt\n",
        "\n",
        "# Gerar 1000 números\n",
        "samples = np.random.poisson(mu, 1000)\n",
        "\n",
        "# Plotar histograma\n",
        "plt.hist(samples, bins=range(0, max(samples)+1), alpha=0.75, edgecolor='black')\n",
        "plt.title('Distribuição de Poisson (mu=3.6)')\n",
        "plt.xlabel('Número de pessoas')\n",
        "plt.ylabel('Frequência')\n",
        "plt.grid(True)\n",
        "plt.show()"
      ]
    },
    {
      "cell_type": "markdown",
      "metadata": {
        "id": "3IiTD9r8hZij"
      },
      "source": [
        "O que fizemos até o momento foi realizar um experimento com base numa distribuição de Poison na qual mu = 3,6. Vamos agora ver como utilizar a linguagem Python para obter a probabilidade, a média, a variância e o desvio padrão que calculamos na aula teórica."
      ]
    },
    {
      "cell_type": "markdown",
      "metadata": {
        "id": "ruMnbqEBhZij"
      },
      "source": [
        "Um determinado caixa automático é procurado, em média, por 3,6 pessoas a cada 10 minutos. Qual a probabilidade de que 7 pessoas procurem o caixa eletrônico em 10 minutos?"
      ]
    },
    {
      "cell_type": "code",
      "execution_count": 7,
      "metadata": {
        "id": "waVwoS-zhZij",
        "outputId": "9d6becd0-b5bb-416d-9f75-49c7777c0436",
        "colab": {
          "base_uri": "https://localhost:8080/"
        }
      },
      "outputs": [
        {
          "output_type": "execute_result",
          "data": {
            "text/plain": [
              "np.float64(0.04248414026930935)"
            ]
          },
          "metadata": {},
          "execution_count": 7
        }
      ],
      "source": [
        "prob_7 = poisson.pmf(7, mu)\n",
        "prob_7"
      ]
    },
    {
      "cell_type": "markdown",
      "metadata": {
        "id": "4XwxY01LhZij"
      },
      "source": [
        "poisson.cdf(k, mu) - Cumulative distribution function - igual ou menos que \\\n",
        "poisson.pmf(k, mu) - Probability mass function - para o valor exato \\\n",
        "poisson.sf(k, mu) - Para mais que (similar a 1 - cdf) \\\n",
        "poisson.mean(k, mu) - Para a média da distribuição \\\n",
        "poisson.var(k mu) - Para a variância da distribuição \\\n",
        "poisson.std(k, mu) - Para o desvio padrão da distribuição"
      ]
    },
    {
      "cell_type": "markdown",
      "metadata": {
        "id": "Th-28BTchZij"
      },
      "source": [
        "Qual é a probabilidade de termos 7 ou menos pessoas buscando o caixa eletrônico?"
      ]
    },
    {
      "cell_type": "code",
      "execution_count": 6,
      "metadata": {
        "id": "ZFMnWnqBhZik",
        "outputId": "8130f594-a6ab-452f-924e-69ae922cb50f",
        "colab": {
          "base_uri": "https://localhost:8080/"
        }
      },
      "outputs": [
        {
          "output_type": "execute_result",
          "data": {
            "text/plain": [
              "np.float64(0.9692107246403425)"
            ]
          },
          "metadata": {},
          "execution_count": 6
        }
      ],
      "source": [
        "prob_7_or_less = poisson.cdf(7, mu)\n",
        "prob_7_or_less"
      ]
    },
    {
      "cell_type": "markdown",
      "metadata": {
        "id": "28p3NsAMhZik"
      },
      "source": [
        "Vejamos agora o cálculo da média, variância e desvio padrão."
      ]
    },
    {
      "cell_type": "code",
      "execution_count": 8,
      "metadata": {
        "id": "GDH1UsWXhZik",
        "outputId": "cf6dd9e5-a74e-4202-b6ad-f7d5c8eaee56",
        "colab": {
          "base_uri": "https://localhost:8080/"
        }
      },
      "outputs": [
        {
          "output_type": "execute_result",
          "data": {
            "text/plain": [
              "np.float64(3.6)"
            ]
          },
          "metadata": {},
          "execution_count": 8
        }
      ],
      "source": [
        "poisson.mean(mu)"
      ]
    },
    {
      "cell_type": "code",
      "execution_count": 9,
      "metadata": {
        "id": "EX_1WzirhZik",
        "outputId": "00b59592-82d3-4c16-9b40-6b7577af534d",
        "colab": {
          "base_uri": "https://localhost:8080/"
        }
      },
      "outputs": [
        {
          "output_type": "execute_result",
          "data": {
            "text/plain": [
              "np.float64(3.6)"
            ]
          },
          "metadata": {},
          "execution_count": 9
        }
      ],
      "source": [
        "poisson.var(mu)"
      ]
    },
    {
      "cell_type": "code",
      "execution_count": 10,
      "metadata": {
        "id": "-83k20cHhZik",
        "outputId": "a755af97-cfc1-4223-e565-495d887fc5d9",
        "colab": {
          "base_uri": "https://localhost:8080/"
        }
      },
      "outputs": [
        {
          "output_type": "execute_result",
          "data": {
            "text/plain": [
              "np.float64(1.8973665961010275)"
            ]
          },
          "metadata": {},
          "execution_count": 10
        }
      ],
      "source": [
        "poisson.std(mu)"
      ]
    },
    {
      "cell_type": "markdown",
      "metadata": {
        "id": "0QHZPQ_5hZik"
      },
      "source": [
        "Vamos agora plotar um gráfico mostrando as probabilidades de termos 0, 1, 2, ..., 10 pessoas na fila. Para tanto, inicialmente geramos um vetor de 0 .. 10 para representar o eixo x e depois geramos outro vetor contendo as probabilidades equivalentes para cada valor do primeiro vetor."
      ]
    },
    {
      "cell_type": "code",
      "execution_count": 11,
      "metadata": {
        "id": "8QtE5jOfhZil"
      },
      "outputs": [],
      "source": [
        "x = np.arange(0, 11)"
      ]
    },
    {
      "cell_type": "code",
      "execution_count": 12,
      "metadata": {
        "id": "Y6pSZm3EhZil"
      },
      "outputs": [],
      "source": [
        "y = poisson.pmf(x, mu)"
      ]
    },
    {
      "cell_type": "code",
      "execution_count": 13,
      "metadata": {
        "id": "3LfbPxAKhZil",
        "outputId": "89af7538-a569-44c9-ca9e-d5ae11f11dd7",
        "colab": {
          "base_uri": "https://localhost:8080/",
          "height": 472
        }
      },
      "outputs": [
        {
          "output_type": "display_data",
          "data": {
            "text/plain": [
              "<Figure size 640x480 with 1 Axes>"
            ],
            "image/png": "[encoded data removed]"
          },
          "metadata": {}
        }
      ],
      "source": [
        "plt.bar(x, y, color='skyblue', edgecolor='black')\n",
        "plt.title('Probabilidades de 0 a 10 pessoas (Poisson mu=3.6)')\n",
        "plt.xlabel('Número de pessoas')\n",
        "plt.ylabel('Probabilidade')\n",
        "plt.grid(True)\n",
        "plt.show()"
      ]
    },
    {
      "cell_type": "markdown",
      "metadata": {
        "id": "rquj98QIhZil"
      },
      "source": [
        "Vamos agora plotar um gráfico mostrando a probabilidade acumulada."
      ]
    },
    {
      "cell_type": "code",
      "execution_count": 14,
      "metadata": {
        "id": "da8J9sTnhZil"
      },
      "outputs": [],
      "source": [
        "y_cdf = poisson.cdf(x, mu)"
      ]
    },
    {
      "cell_type": "code",
      "execution_count": 15,
      "metadata": {
        "id": "SjnoNcOYhZim",
        "outputId": "52b32e8a-b34c-46d7-d1c3-e141da1fd2e8",
        "colab": {
          "base_uri": "https://localhost:8080/",
          "height": 472
        }
      },
      "outputs": [
        {
          "output_type": "display_data",
          "data": {
            "text/plain": [
              "<Figure size 640x480 with 1 Axes>"
            ],
            "image/png": "[encoded data removed]"
          },
          "metadata": {}
        }
      ],
      "source": [
        "plt.plot(x, y_cdf, marker='o', linestyle='-', color='green')\n",
        "plt.title('Distribuição Acumulada (CDF) - Poisson mu=3.6')\n",
        "plt.xlabel('Número de pessoas')\n",
        "plt.ylabel('Probabilidade acumulada')\n",
        "plt.grid(True)\n",
        "plt.show()"
      ]
    },
    {
      "cell_type": "markdown",
      "metadata": {
        "id": "b-ZAvRfThZim"
      },
      "source": [
        "Vamos agora simular o comportamento do atendimento no caixa automático. Vamos gerar números randômicos utilizando a distribuição de Poisson na qual a média de atendimentos é 3,6. Inicialmente, vamos gerar um vetor com 10 números randômicos."
      ]
    },
    {
      "cell_type": "code",
      "execution_count": 16,
      "metadata": {
        "id": "cpiE0Z3nhZim",
        "outputId": "853183d0-d2fd-477a-fd3e-3703fe826b47",
        "colab": {
          "base_uri": "https://localhost:8080/"
        }
      },
      "outputs": [
        {
          "output_type": "execute_result",
          "data": {
            "text/plain": [
              "array([5, 3, 5, 3, 6, 7, 5, 2, 3, 4])"
            ]
          },
          "metadata": {},
          "execution_count": 16
        }
      ],
      "source": [
        "np.random.poisson(mu, 10)"
      ]
    },
    {
      "cell_type": "markdown",
      "metadata": {
        "id": "5LjmIXyihZim"
      },
      "source": [
        "Exercício 1 \\\n",
        "Uma empresa recebe, em média, 4,6 chamadas telefônicas por hora. Qual a probabilidade de que ocorram exatamente 8 chamadas em 1 hora?"
      ]
    },
    {
      "cell_type": "code",
      "execution_count": 17,
      "metadata": {
        "id": "I_gv1gg-hZim",
        "outputId": "f0f47e65-e528-453d-8fe5-f59710c66d51",
        "colab": {
          "base_uri": "https://localhost:8080/"
        }
      },
      "outputs": [
        {
          "output_type": "execute_result",
          "data": {
            "text/plain": [
              "np.float64(0.049978994352065334)"
            ]
          },
          "metadata": {},
          "execution_count": 17
        }
      ],
      "source": [
        "mu1 = 4.6\n",
        "poisson.pmf(8, mu1)"
      ]
    },
    {
      "cell_type": "markdown",
      "metadata": {
        "id": "NaUtWG3QhZim"
      },
      "source": [
        "Exercício 2 \\\n",
        "Uma empresa recebe, em média, 4,6 chamadas telefônicas por hora. Qual a probabilidade de que ocorram mais de 6 chamadas em 1 hora?"
      ]
    },
    {
      "cell_type": "code",
      "execution_count": null,
      "metadata": {
        "id": "tyxci3o1hZim"
      },
      "outputs": [],
      "source": [
        "1 - poisson.cdf(6, mu1)"
      ]
    },
    {
      "cell_type": "markdown",
      "metadata": {
        "id": "Chy3W3vehZim"
      },
      "source": [
        "Exercício 3 \\\n",
        "O número médio de colisões ocorrendo em uma semana durante os meses de verão em uma intersecção é de 2,0. Assuma que os pressupostos para a distribuição de Poisson são satisfeitas. \\\n",
        "A) Qual é a probabilidade de que nenhuma colisão ocorra em uma semana em particular? \\\n",
        "B) Qual é a probabilidade de que exatamemente uma colisão ocorra em uma semana em particular? \\\n",
        "C) Qual é a probabilidade de que exatamente duas colisões ocorram em uma semana em particular? \\\n",
        "D) Qual é a probabilidade de encontrar não mais do que duas colisões em uma semana? \\\n",
        "E) Qual é a probabilidade de encontrar exatamente duas colisões em um intervalo de duas semanas?"
      ]
    },
    {
      "cell_type": "code",
      "source": [
        "mu2 = 2.0"
      ],
      "metadata": {
        "id": "0pCbM9gEjH-s"
      },
      "execution_count": 18,
      "outputs": []
    },
    {
      "cell_type": "code",
      "execution_count": 19,
      "metadata": {
        "id": "TU3_98TwhZin",
        "outputId": "d30d497a-b13e-4303-c25d-80c3979213e8",
        "colab": {
          "base_uri": "https://localhost:8080/"
        }
      },
      "outputs": [
        {
          "output_type": "execute_result",
          "data": {
            "text/plain": [
              "np.float64(0.1353352832366127)"
            ]
          },
          "metadata": {},
          "execution_count": 19
        }
      ],
      "source": [
        "poisson.pmf(0, mu2)"
      ]
    },
    {
      "cell_type": "code",
      "execution_count": 20,
      "metadata": {
        "id": "v8J327BPhZin",
        "outputId": "16ada190-cd59-4bb0-d50a-f291a6b22501",
        "colab": {
          "base_uri": "https://localhost:8080/"
        }
      },
      "outputs": [
        {
          "output_type": "execute_result",
          "data": {
            "text/plain": [
              "np.float64(0.2706705664732254)"
            ]
          },
          "metadata": {},
          "execution_count": 20
        }
      ],
      "source": [
        "poisson.pmf(1, mu2)"
      ]
    },
    {
      "cell_type": "code",
      "execution_count": 21,
      "metadata": {
        "id": "QoeWU3lMhZin",
        "outputId": "fe2ac71c-5a0a-44cb-a107-8bc238a2e5ca",
        "colab": {
          "base_uri": "https://localhost:8080/"
        }
      },
      "outputs": [
        {
          "output_type": "execute_result",
          "data": {
            "text/plain": [
              "np.float64(0.2706705664732254)"
            ]
          },
          "metadata": {},
          "execution_count": 21
        }
      ],
      "source": [
        "poisson.pmf(2, mu2)"
      ]
    },
    {
      "cell_type": "code",
      "execution_count": 22,
      "metadata": {
        "id": "b2RwrrVfhZin",
        "outputId": "e6392e5d-10dc-43db-864a-f44f05b6be8c",
        "colab": {
          "base_uri": "https://localhost:8080/"
        }
      },
      "outputs": [
        {
          "output_type": "execute_result",
          "data": {
            "text/plain": [
              "np.float64(0.6766764161830634)"
            ]
          },
          "metadata": {},
          "execution_count": 22
        }
      ],
      "source": [
        "poisson.cdf(2, mu2)"
      ]
    },
    {
      "cell_type": "code",
      "execution_count": 23,
      "metadata": {
        "id": "nEqaTbNKhZin",
        "outputId": "cbd698a6-9b38-4709-a54c-8b7aed054793",
        "colab": {
          "base_uri": "https://localhost:8080/"
        }
      },
      "outputs": [
        {
          "output_type": "execute_result",
          "data": {
            "text/plain": [
              "np.float64(0.14652511110987343)"
            ]
          },
          "metadata": {},
          "execution_count": 23
        }
      ],
      "source": [
        "poisson.pmf(2, 4.0)"
      ]
    },
    {
      "cell_type": "markdown",
      "metadata": {
        "id": "i1PxI4T1hZin"
      },
      "source": [
        "Exercício 4 \\\n",
        "O número de meteoros encontrados por um sistem de radar em qualquer intervalo de 30-segundos sob determinadas condições é em média 1.81. Assuma que os meteoros apareçam aleatóriamente e independentemente.\n",
        "A) Qual é a probabilidade de que nenhum meteoro seja encontrado em um intervalo de um minuto (60-segundos)?\n",
        "B) Qual é a probabilidade de que sejam observados no mínimo cinco porém não mais que oito meteoros em dois minutos (120-segundos) de observação?"
      ]
    },
    {
      "cell_type": "code",
      "execution_count": 24,
      "metadata": {
        "id": "OBHhhQqzhZin",
        "outputId": "1524cbc8-a933-4f9d-8c76-bbe000f7f3de",
        "colab": {
          "base_uri": "https://localhost:8080/"
        }
      },
      "outputs": [
        {
          "output_type": "execute_result",
          "data": {
            "text/plain": [
              "np.float64(0.026782676492638175)"
            ]
          },
          "metadata": {},
          "execution_count": 24
        }
      ],
      "source": [
        "mu_m1 = 1.81 * 2\n",
        "poisson.pmf(0, mu_m1)"
      ]
    },
    {
      "cell_type": "code",
      "execution_count": 25,
      "metadata": {
        "id": "H-oQP_NfhZi0",
        "outputId": "8d02d6aa-6e7c-48f9-9999-0f7f2a4ca295",
        "colab": {
          "base_uri": "https://localhost:8080/"
        }
      },
      "outputs": [
        {
          "output_type": "execute_result",
          "data": {
            "text/plain": [
              "np.float64(0.5451062052204809)"
            ]
          },
          "metadata": {},
          "execution_count": 25
        }
      ],
      "source": [
        "mu_m2 = 1.81 * 4\n",
        "poisson.cdf(8, mu_m2) - poisson.cdf(4, mu_m2)"
      ]
    }
  ],
  "metadata": {
    "kernelspec": {
      "display_name": "base",
      "language": "python",
      "name": "python3"
    },
    "language_info": {
      "codemirror_mode": {
        "name": "ipython",
        "version": 3
      },
      "file_extension": ".py",
      "mimetype": "text/x-python",
      "name": "python",
      "nbconvert_exporter": "python",
      "pygments_lexer": "ipython3",
      "version": "3.9.7"
    },
    "orig_nbformat": 4,
    "vscode": {
      "interpreter": {
        "hash": "375cb2be7c48c11bb855aa4c37dc6c17bef886eb77cae35fc21e121628c6e1e2"
      }
    },
    "colab": {
      "provenance": []
    }
  },
  "nbformat": 4,
  "nbformat_minor": 0
}