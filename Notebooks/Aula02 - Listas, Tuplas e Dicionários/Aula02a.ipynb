{
  "cells": [
    {
      "cell_type": "markdown",
      "metadata": {
        "id": "YlNifoJy0F6N"
      },
      "source": [
        "## Listas\n",
        "Listas são estruturas de dados muito úteis para manipulação e análise de dados. Nesta aula vamos aprender os princípios básicos para manipulação de listas. Criar uma lista em Python é muito simples: \\\n",
        "l = [] # Cria uma lista vazia \\\n",
        "l = [1, 2, 3, 4, 5] # Cria uma lista com 5 inteiros"
      ]
    },
    {
      "cell_type": "code",
      "execution_count": null,
      "metadata": {
        "id": "ffh6KFne0F6O"
      },
      "outputs": [],
      "source": []
    },
    {
      "cell_type": "markdown",
      "metadata": {
        "id": "6VE7J7kh0F6O"
      },
      "source": [
        "Para acessar os itens de uma lista, basta utilizar índices, de forma similar ao funcionamento de vetores na linguagem C. Vamos acessar o segundo elemento da nossa lista."
      ]
    },
    {
      "cell_type": "code",
      "execution_count": null,
      "metadata": {
        "id": "lIW77fSk0F6P"
      },
      "outputs": [],
      "source": []
    },
    {
      "cell_type": "markdown",
      "metadata": {
        "id": "dpFuGYUk0F6P"
      },
      "source": [
        "Pode ser necessário acessar mais de um elemento de uma lista. Neste caso, o que se deseja é obter uma sublista da lista original. Python provê um mecanismo muito simples para gerar uma sublista de uma lista.\n",
        "Vamos obter os elementos do meio da nossa lista, excluindo o primeiro e o último. Como fazer isso?"
      ]
    },
    {
      "cell_type": "code",
      "execution_count": null,
      "metadata": {
        "id": "4XyePxye0F6P"
      },
      "outputs": [],
      "source": []
    },
    {
      "cell_type": "markdown",
      "metadata": {
        "id": "x6znEDHv0F6P"
      },
      "source": [
        "Diferentemente de um vetor, uma lista pode conter elementos de diferentes tipos. Vamos criar uma lista com inteiros, números de ponto flutuante e strings."
      ]
    },
    {
      "cell_type": "code",
      "execution_count": null,
      "metadata": {
        "id": "yNTls0j_0F6P"
      },
      "outputs": [],
      "source": []
    },
    {
      "cell_type": "markdown",
      "metadata": {
        "id": "R1hBXEFe0F6P"
      },
      "source": [
        "Vamos checar agora os tipos dos dados que estamos manipulando."
      ]
    },
    {
      "cell_type": "code",
      "execution_count": null,
      "metadata": {
        "id": "oAezQDe60F6Q"
      },
      "outputs": [],
      "source": [
        "\n"
      ]
    },
    {
      "cell_type": "markdown",
      "metadata": {
        "id": "JLP9hVfi0F6Q"
      },
      "source": [
        "Outra característica importante é que elementos de uma lista podem também ser listas, ou seja, podemos ter listas de listas. Vejamos um exemplo:"
      ]
    },
    {
      "cell_type": "code",
      "execution_count": null,
      "metadata": {
        "id": "Bk0hmhnf0F6Q"
      },
      "outputs": [],
      "source": []
    },
    {
      "cell_type": "markdown",
      "metadata": {
        "id": "VaVS75060F6Q"
      },
      "source": [
        "Se quisermos acessar a string 'três', como devemos proceder?"
      ]
    },
    {
      "cell_type": "code",
      "execution_count": null,
      "metadata": {
        "id": "Q2KgKcao0F6Q"
      },
      "outputs": [],
      "source": []
    },
    {
      "cell_type": "markdown",
      "metadata": {
        "id": "diPnfyqg0F6Q"
      },
      "source": [
        "Vamos agora alterar uma lista. Retomando nossa lista inicial l = [1, 2, 3, 4, 5], vamos substituir o inteiro 1 pela string 'um'."
      ]
    },
    {
      "cell_type": "code",
      "execution_count": null,
      "metadata": {
        "id": "NduuQ5380F6Q"
      },
      "outputs": [],
      "source": []
    },
    {
      "cell_type": "markdown",
      "metadata": {
        "id": "efFpasIb0F6R"
      },
      "source": [
        "Se quisermos adicionar um elemento a uma lista, usamos o método append."
      ]
    },
    {
      "cell_type": "code",
      "execution_count": null,
      "metadata": {
        "id": "MM5lhGkV0F6R"
      },
      "outputs": [],
      "source": []
    },
    {
      "cell_type": "markdown",
      "metadata": {
        "id": "GJASL7jF0F6R"
      },
      "source": [
        "Para remover um elemento da lista, o método 'pop' deve ser utilizado. Se não for informado um índice, o método pop removerá o elemento da cauda da lista. Se um índice for informado, o elemento que corresponde à posição do índice será removido."
      ]
    },
    {
      "cell_type": "code",
      "execution_count": null,
      "metadata": {
        "id": "PxQahpvU0F6R"
      },
      "outputs": [],
      "source": []
    },
    {
      "cell_type": "code",
      "execution_count": null,
      "metadata": {
        "id": "N9N2CXtg0F6R"
      },
      "outputs": [],
      "source": []
    },
    {
      "cell_type": "markdown",
      "metadata": {
        "id": "AHe2G7h70F6R"
      },
      "source": [
        "Existem ainda uma série de métodos muito úteis para manipulação de listas. Se você está utilizando o VS Code, o autocomplete lista todos os métodos disponíveis para manipulação de listas. Se estiver usando o Jupyter Notebook no browser, basta pressionar Tab após referenciar a lista para ver todos os métodos disponíveis. Vejamos alguns métodos interessantes: \\\n",
        "-count: conta as ocorrências de um determinado elemento numa lista \\\n",
        "-reverse: inverte a lista \\\n",
        "-insert: insere um elemento numa determinada posição, se já existe um elemento naquela posição, o elemento é deslocado para a posição seguinte \\\n",
        "-remove: similar ao pop \\\n",
        "-sort: ordena a lista"
      ]
    },
    {
      "cell_type": "markdown",
      "metadata": {
        "id": "7OzfepIw0F6R"
      },
      "source": [
        "Suponha que você queira criar uma lista com números gerados automaticamente. Para tanto, você pode usar o método range. Duas assinaturas são possíveis: \\\n",
        "range (stop): gera números a partir do zero até 'stop' \\\n",
        "range (start, stop): gera números a partir de 'start' até 'stop' \\\n",
        "range (start, stop, step): gera números a partir de 'start' até 'stop' com espaçamento entre os números de 'step'"
      ]
    },
    {
      "cell_type": "code",
      "execution_count": null,
      "metadata": {
        "id": "CHI2J_ud0F6S"
      },
      "outputs": [],
      "source": []
    },
    {
      "cell_type": "code",
      "execution_count": null,
      "metadata": {
        "id": "mzzfplQL0F6S"
      },
      "outputs": [],
      "source": []
    },
    {
      "cell_type": "code",
      "execution_count": null,
      "metadata": {
        "id": "oqu8g9PF0F6S"
      },
      "outputs": [],
      "source": []
    },
    {
      "cell_type": "markdown",
      "metadata": {
        "id": "viecIYcM0F6S"
      },
      "source": [
        "Por fim, podemos processar uma lista usando um laço for. Vamos criar uma lista de nomes e imprimir de forma numerada essa lista."
      ]
    },
    {
      "cell_type": "code",
      "execution_count": null,
      "metadata": {
        "id": "Pksx9k9Z0F6S"
      },
      "outputs": [],
      "source": []
    },
    {
      "cell_type": "markdown",
      "metadata": {
        "id": "7w917sVc0F6S"
      },
      "source": [
        "### Exercícios"
      ]
    },
    {
      "cell_type": "markdown",
      "metadata": {
        "id": "cRI7hlxF0F6S"
      },
      "source": [
        "1) Crie uma lista contendo as seguintes frutas: banana, maçã, pera, caqui e laranja. \\\n",
        "A. Ordene e imprima a lista\n",
        "B. Insira abacate no início da lista e uva no final e imprima a lista \\\n",
        "C. Imprima o elemento do meio da lista \\\n",
        "D. Imprima os 3 primeiros elementos da lista \\\n",
        "E. Imprima os 3 últimos elementos da lista \\\n",
        "F. Inverta a lista e imprima a lista invertida \\\n",
        "G. Imprima uma lista de compras contendo 3 unidades de cada fruta"
      ]
    },
    {
      "cell_type": "code",
      "execution_count": 2,
      "metadata": {
        "id": "TW7dCnHl0F6S",
        "outputId": "66d35b03-4144-4200-fb6c-90ba51587c18",
        "colab": {
          "base_uri": "https://localhost:8080/"
        }
      },
      "outputs": [
        {
          "output_type": "execute_result",
          "data": {
            "text/plain": [
              "['banana', 'caqui', 'laranja', 'maca', 'pera']"
            ]
          },
          "metadata": {},
          "execution_count": 2
        }
      ],
      "source": [
        "#A. Ordene e imprima a lista\n",
        "lista = [\"banana\", \"maca\", \"pera\", \"caqui\", \"laranja\"]\n",
        "lista.sort()\n",
        "print(lista)"
      ]
    },
    {
      "cell_type": "code",
      "execution_count": 3,
      "metadata": {
        "id": "uJT9OLnD0F6S",
        "outputId": "18d7d3a4-ad0f-491b-b2ba-435c2c212965",
        "colab": {
          "base_uri": "https://localhost:8080/"
        }
      },
      "outputs": [
        {
          "output_type": "stream",
          "name": "stdout",
          "text": [
            "['abacate', 'banana', 'caqui', 'laranja', 'maca', 'pera', 'uva']\n"
          ]
        }
      ],
      "source": [
        "#B. Insira abacate no início da lista e uva no final e imprima a lista\n",
        "lista.insert(0, 'abacate')\n",
        "lista.append('uva')\n",
        "print(lista)"
      ]
    },
    {
      "cell_type": "code",
      "execution_count": 4,
      "metadata": {
        "id": "yPtx0kJg0F6T",
        "outputId": "0c863583-8240-462b-e059-085bfcbf11d9",
        "colab": {
          "base_uri": "https://localhost:8080/"
        }
      },
      "outputs": [
        {
          "output_type": "execute_result",
          "data": {
            "text/plain": [
              "['laranja']"
            ]
          },
          "metadata": {},
          "execution_count": 4
        }
      ],
      "source": [
        "#C. Imprima o elemento do meio da lista\n",
        "lista[3: 4]"
      ]
    },
    {
      "cell_type": "code",
      "execution_count": 5,
      "metadata": {
        "id": "oYzxznNp0F6T",
        "outputId": "eebc1f40-9cf7-4a81-fd0a-d741f766bddb",
        "colab": {
          "base_uri": "https://localhost:8080/"
        }
      },
      "outputs": [
        {
          "output_type": "execute_result",
          "data": {
            "text/plain": [
              "['abacate', 'banana', 'caqui']"
            ]
          },
          "metadata": {},
          "execution_count": 5
        }
      ],
      "source": [
        "#D. Imprima os 3 primeiros elementos da lista\n",
        "lista[:3]"
      ]
    },
    {
      "cell_type": "code",
      "execution_count": 6,
      "metadata": {
        "id": "x4dIf9u-0F6T",
        "outputId": "8cad9ebc-1f1e-4dca-c6ee-98e1be2a2432",
        "colab": {
          "base_uri": "https://localhost:8080/"
        }
      },
      "outputs": [
        {
          "output_type": "execute_result",
          "data": {
            "text/plain": [
              "['maca', 'pera', 'uva']"
            ]
          },
          "metadata": {},
          "execution_count": 6
        }
      ],
      "source": [
        "#E. Imprima os 3 últimos elementos da lista\n",
        "lista[4:]"
      ]
    },
    {
      "cell_type": "code",
      "execution_count": 43,
      "metadata": {
        "id": "3gNEVK1z0F6T",
        "outputId": "8af596c0-a6cf-4d00-9952-df2c289ce593",
        "colab": {
          "base_uri": "https://localhost:8080/"
        }
      },
      "outputs": [
        {
          "output_type": "stream",
          "name": "stdout",
          "text": [
            "None\n"
          ]
        }
      ],
      "source": [
        "#F. Inverta a lista e imprima a lista invertida\n",
        "print(lista.reverse())"
      ]
    },
    {
      "cell_type": "code",
      "execution_count": 13,
      "metadata": {
        "id": "1BB1Q9A80F6T",
        "outputId": "4639c1bd-9ded-43e6-87e9-83209d7dcfa0",
        "colab": {
          "base_uri": "https://localhost:8080/"
        }
      },
      "outputs": [
        {
          "output_type": "stream",
          "name": "stdout",
          "text": [
            "3 uvas\n",
            "3 peras\n",
            "3 macas\n",
            "3 laranjas\n",
            "3 caquis\n",
            "3 bananas\n",
            "3 abacates\n"
          ]
        }
      ],
      "source": [
        "#G. Imprima uma lista de compras contendo 3 unidades de cada fruta\n",
        "for f in lista:\n",
        "  print('3 ' + f + 's')"
      ]
    },
    {
      "cell_type": "markdown",
      "metadata": {
        "id": "X4Ivgzp70F6T"
      },
      "source": [
        "2) Considere a lista a seguir."
      ]
    },
    {
      "cell_type": "code",
      "execution_count": 38,
      "metadata": {
        "id": "FUXC4DK20F6T"
      },
      "outputs": [],
      "source": [
        "lista2 = [12, 8, 15, 10, 12, 6, 19, 23, 7, 8, 14, 12, 20, 4, 14, 12, 8, 25, 21, 11]"
      ]
    },
    {
      "cell_type": "markdown",
      "metadata": {
        "id": "qtnzjJZn0F6U"
      },
      "source": [
        "A. Obtenha o maior elemento da lista. \\\n",
        "B. Obtenha a soma dos elementos da lista. \\\n",
        "C. Informe o tamanho da lista (sua quantidade de elementos). \\\n",
        "D. Troque a posição do primeiro e do último elementos da lista (primeiro vira último e último vira primeiro). \\\n",
        "E. Obtenha o segundo maior elemento da lista. \\\n",
        "F. Conte as ocorrências do número 12. \\\n",
        "G. Crie uma lista l1 contendo os elementos pares da lista e uma lista l2 contendo os elementos ímpares. Imprima l1 e l2."
      ]
    },
    {
      "cell_type": "code",
      "execution_count": 18,
      "metadata": {
        "id": "lLPFMCe50F6U",
        "outputId": "52c95e86-89c5-4368-b875-22bfbadbe6ec",
        "colab": {
          "base_uri": "https://localhost:8080/"
        }
      },
      "outputs": [
        {
          "output_type": "execute_result",
          "data": {
            "text/plain": [
              "25"
            ]
          },
          "metadata": {},
          "execution_count": 18
        }
      ],
      "source": [
        "#A. Obtenha o maior elemento da lista.\n",
        "max(lista2)"
      ]
    },
    {
      "cell_type": "code",
      "execution_count": 19,
      "metadata": {
        "id": "FMiKo6cz0F6V",
        "outputId": "9d1de45c-4005-49f4-ee97-4a4566c21bdb",
        "colab": {
          "base_uri": "https://localhost:8080/"
        }
      },
      "outputs": [
        {
          "output_type": "execute_result",
          "data": {
            "text/plain": [
              "261"
            ]
          },
          "metadata": {},
          "execution_count": 19
        }
      ],
      "source": [
        "#B. Obtenha a soma dos elementos da lista.\n",
        "sum(lista2)"
      ]
    },
    {
      "cell_type": "code",
      "execution_count": 20,
      "metadata": {
        "id": "CSCTb44j0F6V",
        "outputId": "0217d190-0f6d-4f6c-8be8-d93d527520eb",
        "colab": {
          "base_uri": "https://localhost:8080/"
        }
      },
      "outputs": [
        {
          "output_type": "execute_result",
          "data": {
            "text/plain": [
              "20"
            ]
          },
          "metadata": {},
          "execution_count": 20
        }
      ],
      "source": [
        "#C. Informe o tamanho da lista (sua quantidade de elementos).\n",
        "len(lista2)"
      ]
    },
    {
      "cell_type": "code",
      "execution_count": 39,
      "metadata": {
        "id": "w5PHpfec0F6V",
        "outputId": "4b3c398b-d9c8-442e-9592-f176972e162f",
        "colab": {
          "base_uri": "https://localhost:8080/"
        }
      },
      "outputs": [
        {
          "output_type": "execute_result",
          "data": {
            "text/plain": [
              "[11, 8, 15, 10, 12, 6, 19, 23, 7, 8, 14, 12, 20, 4, 14, 12, 8, 25, 21, 12]"
            ]
          },
          "metadata": {},
          "execution_count": 39
        }
      ],
      "source": [
        "#D. Troque a posição do primeiro e do último elementos da lista (primeiro vira último e último vira primeiro).\n",
        "primeiro = lista2[0]\n",
        "lista2[0] = lista2[-1]\n",
        "lista2[-1] = primeiro\n",
        "lista2"
      ]
    },
    {
      "cell_type": "code",
      "execution_count": 40,
      "metadata": {
        "id": "pN5dStp10F6V",
        "outputId": "3afa1659-19cd-4fd3-ec2d-6aa9f43fe1e0",
        "colab": {
          "base_uri": "https://localhost:8080/"
        }
      },
      "outputs": [
        {
          "output_type": "execute_result",
          "data": {
            "text/plain": [
              "23"
            ]
          },
          "metadata": {},
          "execution_count": 40
        }
      ],
      "source": [
        "#E. Obtenha o segundo maior elemento da lista.\n",
        "lista2.sort(reverse=True)\n",
        "lista2[1]"
      ]
    },
    {
      "cell_type": "code",
      "execution_count": 41,
      "metadata": {
        "id": "PXzNX1YE0F6V",
        "outputId": "6b6f3ed9-220f-41b9-9755-04a3396bdb36",
        "colab": {
          "base_uri": "https://localhost:8080/"
        }
      },
      "outputs": [
        {
          "output_type": "execute_result",
          "data": {
            "text/plain": [
              "4"
            ]
          },
          "metadata": {},
          "execution_count": 41
        }
      ],
      "source": [
        "#F. Conte as ocorrências do número 12.\n",
        "lista2.count(12)"
      ]
    },
    {
      "cell_type": "code",
      "execution_count": 55,
      "metadata": {
        "id": "TK2Z70HF0F6W",
        "outputId": "cd298ba5-36b4-404e-8ff6-49652dc79063",
        "colab": {
          "base_uri": "https://localhost:8080/"
        }
      },
      "outputs": [
        {
          "output_type": "stream",
          "name": "stdout",
          "text": [
            "<class 'filter'>\n",
            "[20, 14, 14, 12, 12, 12, 12, 10, 8, 8, 8, 6, 4]\n",
            "[25, 23, 21, 19, 15, 11, 7]\n"
          ]
        }
      ],
      "source": [
        "#G. Crie uma lista l1 contendo os elementos pares da lista e uma lista l2 contendo os elementos ímpares. Imprima l1 e l2.\n",
        "l1 = filter(lambda x: x % 2 == 0, lista2)\n",
        "l2 = filter(lambda x: x % 2 != 0, lista2)\n",
        "\n",
        "print(type(l1))\n",
        "print(list(l1))\n",
        "print(list(l2))"
      ]
    }
  ],
  "metadata": {
    "kernelspec": {
      "display_name": "base",
      "language": "python",
      "name": "python3"
    },
    "language_info": {
      "codemirror_mode": {
        "name": "ipython",
        "version": 3
      },
      "file_extension": ".py",
      "mimetype": "text/x-python",
      "name": "python",
      "nbconvert_exporter": "python",
      "pygments_lexer": "ipython3",
      "version": "3.10.9"
    },
    "colab": {
      "provenance": []
    }
  },
  "nbformat": 4,
  "nbformat_minor": 0
}