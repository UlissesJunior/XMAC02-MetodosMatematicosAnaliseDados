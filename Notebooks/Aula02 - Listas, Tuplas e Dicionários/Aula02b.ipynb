{
  "cells": [
    {
      "cell_type": "markdown",
      "metadata": {
        "id": "l0Af8TQB7zNJ"
      },
      "source": [
        "## Dicionário\n",
        "Dicionário é uma estrutura de dados que pode ser útil quando é necessário encontrar valores associados a chaves. Por exemplo, suponha que se deseja obter o idioma principal falado em um país, e que essa informação esteja disponível para todos os países do globo. Para tanto, a melhor solução é criar um dicionário cuja chave é o nome do país e o valor é o idioma falado naquele país."
      ]
    },
    {
      "cell_type": "code",
      "execution_count": 1,
      "metadata": {
        "id": "xT7rCXW37zNM"
      },
      "outputs": [],
      "source": [
        "dic = {'Brasil': 'Português', 'Egito': 'Árabe', 'Estados Unidos': 'Inglês'}"
      ]
    },
    {
      "cell_type": "markdown",
      "metadata": {
        "id": "QnXfOXMJ7zNM"
      },
      "source": [
        "Qual o idioma falado no Egito?"
      ]
    },
    {
      "cell_type": "code",
      "execution_count": 3,
      "metadata": {
        "id": "DSAdHxH-7zNN",
        "outputId": "81e370e8-3c5c-47d7-91cf-2110a6bf49b8",
        "colab": {
          "base_uri": "https://localhost:8080/",
          "height": 36
        }
      },
      "outputs": [
        {
          "output_type": "execute_result",
          "data": {
            "text/plain": [
              "'Árabe'"
            ],
            "application/vnd.google.colaboratory.intrinsic+json": {
              "type": "string"
            }
          },
          "metadata": {},
          "execution_count": 3
        }
      ],
      "source": [
        "dic['Egito']"
      ]
    },
    {
      "cell_type": "markdown",
      "metadata": {
        "id": "xe2ICEpk7zNN"
      },
      "source": [
        "É possível obter o valor de todas as chaves e de todos os itens de um dicionário, usando os métodos keys() e items()."
      ]
    },
    {
      "cell_type": "code",
      "execution_count": 6,
      "metadata": {
        "id": "ae9nW6TY7zNO",
        "outputId": "6a9a8e1e-ec9d-4509-d57b-e48555da65b3",
        "colab": {
          "base_uri": "https://localhost:8080/"
        }
      },
      "outputs": [
        {
          "output_type": "stream",
          "name": "stdout",
          "text": [
            "dict_keys(['Brasil', 'Egito', 'Estados Unidos'])\n"
          ]
        }
      ],
      "source": [
        "print(dic.keys())"
      ]
    },
    {
      "cell_type": "code",
      "execution_count": 7,
      "metadata": {
        "id": "h8Sbw23Q7zNO",
        "outputId": "a8477115-9dcb-4ccd-9bb1-2a9eb945fb99",
        "colab": {
          "base_uri": "https://localhost:8080/"
        }
      },
      "outputs": [
        {
          "output_type": "stream",
          "name": "stdout",
          "text": [
            "dict_items([('Brasil', 'Português'), ('Egito', 'Árabe'), ('Estados Unidos', 'Inglês')])\n"
          ]
        }
      ],
      "source": [
        "print(dic.items())"
      ]
    },
    {
      "cell_type": "markdown",
      "metadata": {
        "id": "T1I6uOCb7zNO"
      },
      "source": [
        "Existem ainda os tipos de dado tupla e set. \\\n",
        "Tupla é uma lista imutável.\n",
        "Exemplo: t = (1, 2, 3)"
      ]
    },
    {
      "cell_type": "markdown",
      "metadata": {
        "id": "GrUwpEjP7zNO"
      },
      "source": [
        "Set é um tipo de lista que não permite repetição de elementos. Ainda que se crie um set com elementos repetidos, esses serão removidos e o set ficará apenas com elementos únicos. Exemplo: \\\n",
        "s = {1, 3, 3, 6, 7, 1}"
      ]
    },
    {
      "cell_type": "code",
      "execution_count": 10,
      "metadata": {
        "id": "8gPZaAe77zNP",
        "outputId": "083b1446-9e10-44da-b890-14d1514f576f",
        "colab": {
          "base_uri": "https://localhost:8080/"
        }
      },
      "outputs": [
        {
          "output_type": "stream",
          "name": "stdout",
          "text": [
            "{1, 3, 6, 7}\n"
          ]
        }
      ],
      "source": [
        "s = {1, 3, 3, 6, 7, 1}\n",
        "print(set(s))"
      ]
    },
    {
      "cell_type": "markdown",
      "metadata": {
        "id": "tf5te4S97zNP"
      },
      "source": [
        "Exercício \\\n",
        "Crie um dicionário contendo os seguintes nomes e números de telefone: \\\n",
        "Pedro - 11111 1111 \\\n",
        "Ana - 22222 2222 \\\n",
        "Joel - 33333 3333 \\\n",
        "Maria - 44444 4444 \\\n",
        "Caio - 55555 5555 \\\n",
        "Em seguida: \\\n",
        "A. Informe o telefone do Joel \\\n",
        "B. Leia um nome, verifique se consta no dicionário. Em caso afirmativo, informe seu telefone"
      ]
    },
    {
      "cell_type": "code",
      "source": [
        "dicTel = {'Pedro': '11111 1111', 'Ana': '22222 2222', 'Joel': '33333 3333', 'Maria': '44444 4444', 'Caio': '55555 5555'}"
      ],
      "metadata": {
        "id": "S6gvuT_S9G9O"
      },
      "execution_count": 11,
      "outputs": []
    },
    {
      "cell_type": "code",
      "execution_count": 12,
      "metadata": {
        "id": "xz-1Iq1N7zNP",
        "outputId": "6366885e-cfc4-4d03-e074-2863ba49548a",
        "colab": {
          "base_uri": "https://localhost:8080/"
        }
      },
      "outputs": [
        {
          "output_type": "stream",
          "name": "stdout",
          "text": [
            "33333 3333\n"
          ]
        }
      ],
      "source": [
        "print(dicTel['Joel'])"
      ]
    },
    {
      "cell_type": "code",
      "execution_count": 16,
      "metadata": {
        "id": "1MsOehZL7zNP",
        "outputId": "12522850-63d9-42bc-a3e0-7d063678f252",
        "colab": {
          "base_uri": "https://localhost:8080/"
        }
      },
      "outputs": [
        {
          "output_type": "stream",
          "name": "stdout",
          "text": [
            "Digite um nome: Ana\n",
            "22222 2222\n"
          ]
        }
      ],
      "source": [
        "valorInput = input('Digite um nome: ')\n",
        "if(valorInput in dicTel.keys()):\n",
        "    print(dicTel[valorInput])\n",
        "else:\n",
        "    print('Nome não encontrado')"
      ]
    }
  ],
  "metadata": {
    "kernelspec": {
      "display_name": "base",
      "language": "python",
      "name": "python3"
    },
    "language_info": {
      "codemirror_mode": {
        "name": "ipython",
        "version": 3
      },
      "file_extension": ".py",
      "mimetype": "text/x-python",
      "name": "python",
      "nbconvert_exporter": "python",
      "pygments_lexer": "ipython3",
      "version": "3.10.9"
    },
    "orig_nbformat": 4,
    "vscode": {
      "interpreter": {
        "hash": "375cb2be7c48c11bb855aa4c37dc6c17bef886eb77cae35fc21e121628c6e1e2"
      }
    },
    "colab": {
      "provenance": []
    }
  },
  "nbformat": 4,
  "nbformat_minor": 0
}