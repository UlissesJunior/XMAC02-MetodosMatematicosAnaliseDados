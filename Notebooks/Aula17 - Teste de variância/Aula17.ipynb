{
  "cells": [
    {
      "cell_type": "markdown",
      "metadata": {
        "id": "GKredY9PuCwt"
      },
      "source": [
        "## Teste Chi-square"
      ]
    },
    {
      "cell_type": "markdown",
      "metadata": {
        "id": "kvIKXBfKuCww"
      },
      "source": [
        "Vamos começar plotando a distribuição chi-square."
      ]
    },
    {
      "cell_type": "code",
      "execution_count": 1,
      "metadata": {
        "id": "bieaygPNuCww"
      },
      "outputs": [],
      "source": [
        "import pandas as pd\n",
        "import numpy as np\n",
        "import seaborn as sns\n",
        "import matplotlib.pyplot as plt\n",
        "import scipy.stats as stats"
      ]
    },
    {
      "cell_type": "code",
      "execution_count": 4,
      "metadata": {
        "id": "CzEdgQwiuCwx",
        "outputId": "4faa11da-5c08-4b20-f71d-53214c5c896f",
        "colab": {
          "base_uri": "https://localhost:8080/",
          "height": 504
        }
      },
      "outputs": [
        {
          "output_type": "execute_result",
          "data": {
            "text/plain": [
              "<seaborn.axisgrid.FacetGrid at 0x7ae101926a10>"
            ]
          },
          "metadata": {},
          "execution_count": 4
        },
        {
          "output_type": "display_data",
          "data": {
            "text/plain": [
              "<Figure size 500x500 with 1 Axes>"
            ],
            "image/png": "[encoded data removed]"
          },
          "metadata": {}
        }
      ],
      "source": [
        "eixo_x = np.linspace(0, 100, 101)\n",
        "eixo_y = stats.chi2.pdf(eixo_x, df=50)\n",
        "\n",
        "sns.relplot(x=eixo_x, y=eixo_y, kind='line')"
      ]
    },
    {
      "cell_type": "markdown",
      "metadata": {
        "id": "jbJDAuajuCwx"
      },
      "source": [
        "Exemplo 1: Uma amostra de 51 frascos de perfume foi coletada. O desvio padrão desses 51 frascos foi 2,35 ml. Houve um aumento no desvio padrão, estabelecido como 2 ml? (nível de confiança: 90%)"
      ]
    },
    {
      "cell_type": "markdown",
      "source": [
        "H0 = s2 <= sigma2 \\\n",
        "ha = s2 > sigma2"
      ],
      "metadata": {
        "id": "fx22sTM1wPz5"
      }
    },
    {
      "cell_type": "markdown",
      "metadata": {
        "id": "eUd8EttZuCwx"
      },
      "source": [
        "Chi_sq_cal = (n-1)s^2 / sigma^2"
      ]
    },
    {
      "cell_type": "code",
      "execution_count": 5,
      "metadata": {
        "id": "TgwK96GpuCwy",
        "outputId": "7e882b7b-7051-4e24-d4b6-c5d2d0898e12",
        "colab": {
          "base_uri": "https://localhost:8080/"
        }
      },
      "outputs": [
        {
          "output_type": "execute_result",
          "data": {
            "text/plain": [
              "69.03125000000001"
            ]
          },
          "metadata": {},
          "execution_count": 5
        }
      ],
      "source": [
        "Chi_sq_cal = (51-1)*(2.35**2)/(2**2)\n",
        "Chi_sq_cal"
      ]
    },
    {
      "cell_type": "markdown",
      "metadata": {
        "id": "R9Pch-AjuCwy"
      },
      "source": [
        "Vamos agora obter o Chi-square crítico."
      ]
    },
    {
      "cell_type": "code",
      "execution_count": 6,
      "metadata": {
        "id": "TJYPCGDwuCwy",
        "outputId": "84d4afde-cd2d-4d99-966e-69b006883b20",
        "colab": {
          "base_uri": "https://localhost:8080/"
        }
      },
      "outputs": [
        {
          "output_type": "execute_result",
          "data": {
            "text/plain": [
              "np.float64(63.167121005726315)"
            ]
          },
          "metadata": {},
          "execution_count": 6
        }
      ],
      "source": [
        "stats.chi2.isf(0.10, 50)"
      ]
    },
    {
      "cell_type": "markdown",
      "source": [
        "Conclusão \\\n",
        "Com Xcal = 69.03 e Xcrit = 63.17, temos que Xcal > Xcrit. Portanto, rejeitamos a hipótese nula. Houve um aumento no desvio padrão."
      ],
      "metadata": {
        "id": "99uKEY0Hy2mh"
      }
    },
    {
      "cell_type": "markdown",
      "metadata": {
        "id": "mHVtlWYwuCwz"
      },
      "source": [
        "## Exercício\n",
        "Uma máquina é utilizada para encher garrafas d’água. Se a variância do volume de água das garrafas exceder 0.01, uma proporção inaceitável de garrafas estará ou muito cheia, ou muito vazia. Para uma amostra aleatória de 20 garrafas, encontrou-se um valor da variância do volume igual a s2=0.0153. Há evidências nos dados amostrais que sugerem um mal funcionamento na máquina de encher garrafas? Realize o teste com 90% de confiança."
      ]
    },
    {
      "cell_type": "markdown",
      "source": [
        "H0: s2 <= 0.01 \\\n",
        "Ha: s2 > 0.01"
      ],
      "metadata": {
        "id": "LYwtC8i0zpE-"
      }
    },
    {
      "cell_type": "code",
      "source": [
        "Chi_sq_cal = (20-1)*(0.0153)/(0.01)\n",
        "Chi_sq_cal"
      ],
      "metadata": {
        "id": "9bArjX3w0Eh4",
        "outputId": "38d8eb24-b18b-40ce-82d9-d816c4968871",
        "colab": {
          "base_uri": "https://localhost:8080/"
        }
      },
      "execution_count": 13,
      "outputs": [
        {
          "output_type": "execute_result",
          "data": {
            "text/plain": [
              "29.07"
            ]
          },
          "metadata": {},
          "execution_count": 13
        }
      ]
    },
    {
      "cell_type": "code",
      "source": [
        "stats.chi2.isf(0.05, 19)"
      ],
      "metadata": {
        "id": "lm0Gg98S1CCJ",
        "outputId": "0fa7dd2f-a15b-4a2e-b3c5-f6048f717113",
        "colab": {
          "base_uri": "https://localhost:8080/"
        }
      },
      "execution_count": 15,
      "outputs": [
        {
          "output_type": "execute_result",
          "data": {
            "text/plain": [
              "np.float64(30.143527205646155)"
            ]
          },
          "metadata": {},
          "execution_count": 15
        }
      ]
    },
    {
      "cell_type": "code",
      "source": [
        "stats.chi2.isf(0.95, 19)"
      ],
      "metadata": {
        "id": "GiyXXF_C2J1p",
        "outputId": "a541cdde-3434-4dc2-d717-47f6a5a3e5f9",
        "colab": {
          "base_uri": "https://localhost:8080/"
        }
      },
      "execution_count": 16,
      "outputs": [
        {
          "output_type": "execute_result",
          "data": {
            "text/plain": [
              "np.float64(10.117013063859051)"
            ]
          },
          "metadata": {},
          "execution_count": 16
        }
      ]
    },
    {
      "cell_type": "markdown",
      "source": [
        "Conclusão: \\\n",
        "Temos que Xcrit2 > Xcal > Xcrit1. Portanto, falhamos em rejeitar a hipótese nula. A máquina de envase está funcionando corretamente."
      ],
      "metadata": {
        "id": "TaqmNFlM2L7T"
      }
    }
  ],
  "metadata": {
    "kernelspec": {
      "display_name": "base",
      "language": "python",
      "name": "python3"
    },
    "language_info": {
      "codemirror_mode": {
        "name": "ipython",
        "version": 3
      },
      "file_extension": ".py",
      "mimetype": "text/x-python",
      "name": "python",
      "nbconvert_exporter": "python",
      "pygments_lexer": "ipython3",
      "version": "3.9.7"
    },
    "orig_nbformat": 4,
    "colab": {
      "provenance": []
    }
  },
  "nbformat": 4,
  "nbformat_minor": 0
}