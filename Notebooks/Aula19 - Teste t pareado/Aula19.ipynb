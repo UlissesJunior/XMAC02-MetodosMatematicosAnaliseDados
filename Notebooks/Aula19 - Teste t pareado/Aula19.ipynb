{
 "cells": [
  {
   "attachments": {},
   "cell_type": "markdown",
   "metadata": {},
   "source": [
    "## Teste t Pareado"
   ]
  },
  {
   "attachments": {},
   "cell_type": "markdown",
   "metadata": {},
   "source": [
    "A pressão sistólica de 5 pacientes foi medida antes e depois da administração de um medicamento. Houve alteração na pressão? Nível de confiança = 95%."
   ]
  },
  {
   "cell_type": "code",
   "execution_count": 8,
   "metadata": {},
   "outputs": [],
   "source": [
    "import pandas as pd\n",
    "import numpy as np\n",
    "import seaborn as sns\n",
    "import matplotlib.pyplot as plt\n",
    "import scipy.stats as stats\n",
    "from statsmodels.stats import proportion"
   ]
  },
  {
   "cell_type": "markdown",
   "metadata": {},
   "source": [
    "H0: μ\n"
   ]
  },
  {
   "cell_type": "markdown",
   "metadata": {},
   "source": [
    "Conclusão: \n"
   ]
  },
  {
   "attachments": {},
   "cell_type": "markdown",
   "metadata": {},
   "source": [
    "### Exercício 1\n",
    "Um fabricante de tacos de golfe afirma que os golfistas podem diminuir seus placares usando os tacos de golfe recém-projetados por ele. Oito jogadores de golfe são escolhidos aleatoriamente e é pedido a cada um que forneça seu mais recente placar. Após usar os novos tacos por um mês, é pedido novamente aos jogadores que forneçam seus placares mais recentes. Os placares para cada um são mostrados na tabela. Assumindo que os placares de golfe são distribuídos normalmente, existe evidência suficiente para apoiar a afirmação do fabricante para um nível de significância de 10%? \\\n",
    "Placar (tacos antigos) = [89, 84, 96, 82, 74, 92, 85, 91] \\\n",
    "Placar (tacos novos) = [83, 83, 92, 84, 76, 91, 80, 91] \\\n",
    "A) Calcular manualmente \\\n",
    "B) Calcular usando o Python"
   ]
  },
  {
   "cell_type": "markdown",
   "metadata": {},
   "source": [
    "Conclusão: \n"
   ]
  },
  {
   "cell_type": "markdown",
   "metadata": {},
   "source": [
    "### Exercício 2\n",
    "Um professor quer usar dois exames em suas aulas no ano que vem. Este ano, ele aplicou os dois exames aos alunos. Ele quer saber se os exames são igualmente difíceis e quer verificar isso observando as diferenças entre as pontuações. Se a diferença média entre as pontuações dos alunos for \"próxima o suficiente\" de zero, ele chegará a uma conclusão prática de que os exames são igualmente difíceis. As notas dos alunos estão no dataset 'notas.csv'. Assuma que as notas são normalmente distribuídas e realize um teste de hipótese com confianção de 95% que seja capaz de informar ao professor se as provas são igualmente difíceis."
   ]
  },
  {
   "cell_type": "markdown",
   "metadata": {},
   "source": [
    "Conclusão: \n"
   ]
  }
 ],
 "metadata": {
  "kernelspec": {
   "display_name": "base",
   "language": "python",
   "name": "python3"
  },
  "language_info": {
   "codemirror_mode": {
    "name": "ipython",
    "version": 3
   },
   "file_extension": ".py",
   "mimetype": "text/x-python",
   "name": "python",
   "nbconvert_exporter": "python",
   "pygments_lexer": "ipython3",
   "version": "3.12.7"
  },
  "orig_nbformat": 4
 },
 "nbformat": 4,
 "nbformat_minor": 2
}
