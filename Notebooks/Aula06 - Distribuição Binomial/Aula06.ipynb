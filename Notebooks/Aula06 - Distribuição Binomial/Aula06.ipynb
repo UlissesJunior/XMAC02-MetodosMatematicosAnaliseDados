{
  "cells": [
    {
      "cell_type": "markdown",
      "metadata": {
        "id": "PU-X20-x6Azw"
      },
      "source": [
        "## Distribuição Binomial\n",
        "Na distribuição binomial temos sempre duas possibilidades de resultado (sucesso ou fracasso, cara ou coroa, etc.). Podemos então utilizar a distribuição binomial para simular o lançamento de uma moeda."
      ]
    },
    {
      "cell_type": "code",
      "execution_count": 1,
      "metadata": {
        "id": "4necwrwM6Azy"
      },
      "outputs": [],
      "source": [
        "import numpy as np\n",
        "import matplotlib.pyplot as plt\n",
        "import seaborn as sns"
      ]
    },
    {
      "cell_type": "code",
      "execution_count": 3,
      "metadata": {
        "id": "ot0U9uUY6Azz",
        "outputId": "c70cab1e-ac0d-4fef-b784-3389016c401f",
        "colab": {
          "base_uri": "https://localhost:8080/"
        }
      },
      "outputs": [
        {
          "output_type": "execute_result",
          "data": {
            "text/plain": [
              "0"
            ]
          },
          "metadata": {},
          "execution_count": 3
        }
      ],
      "source": [
        "np.random.binomial(1, 0.5)"
      ]
    },
    {
      "cell_type": "markdown",
      "metadata": {
        "id": "Jz7IVZT66Azz"
      },
      "source": [
        "Como simular o lançamento de duas moedas?"
      ]
    },
    {
      "cell_type": "code",
      "execution_count": 4,
      "metadata": {
        "id": "YxMZ50xq6Azz",
        "outputId": "a31de8a3-7130-424f-9edb-063cf1831575",
        "colab": {
          "base_uri": "https://localhost:8080/"
        }
      },
      "outputs": [
        {
          "output_type": "execute_result",
          "data": {
            "text/plain": [
              "1"
            ]
          },
          "metadata": {},
          "execution_count": 4
        }
      ],
      "source": [
        "np.random.binomial(2, 0.5)"
      ]
    },
    {
      "cell_type": "markdown",
      "metadata": {
        "id": "B42mGFpU6Azz"
      },
      "source": [
        "E se eu quiser simular 1.000 lançamentos de duas moedas?"
      ]
    },
    {
      "cell_type": "code",
      "execution_count": 6,
      "metadata": {
        "id": "4cOw-ago6Az0",
        "outputId": "9892881b-876e-4d8a-ff87-5e97b49c668a",
        "colab": {
          "base_uri": "https://localhost:8080/"
        }
      },
      "outputs": [
        {
          "output_type": "execute_result",
          "data": {
            "text/plain": [
              "520"
            ]
          },
          "metadata": {},
          "execution_count": 6
        }
      ],
      "source": [
        "np.random.binomial(1000, 0.5)"
      ]
    },
    {
      "cell_type": "markdown",
      "metadata": {
        "id": "8Wu4RMtD6Az0"
      },
      "source": [
        "Vamos agora guardar o resultado obtido numa variável e analisar esse resultado. Vimos, na parte teórica que se lançarmos duas moedas temos as seguintes probabilidades: \\\n",
        "0 caras -> P(0) = 0,25 \\\n",
        "1 cara  -> P(1) = 0,5 \\\n",
        "2 caras -> P(2) = 0,25 \\\n",
        "Vamos plotar o resultado de 1.000 lançamentos e analisar esse resultado."
      ]
    },
    {
      "cell_type": "code",
      "execution_count": 26,
      "metadata": {
        "id": "Mpw0Qvjm6Az0",
        "outputId": "dfe700f6-a1f9-4966-e210-22f48cb50aa9",
        "colab": {
          "base_uri": "https://localhost:8080/",
          "height": 447
        }
      },
      "outputs": [
        {
          "output_type": "execute_result",
          "data": {
            "text/plain": [
              "<Axes: ylabel='count'>"
            ]
          },
          "metadata": {},
          "execution_count": 26
        },
        {
          "output_type": "display_data",
          "data": {
            "text/plain": [
              "<Figure size 640x480 with 1 Axes>"
            ],
            "image/png": "[encoded data removed]"
          },
          "metadata": {}
        }
      ],
      "source": [
        "x_graph1 = np.random.binomial(2, 0.5, 1000)\n",
        "sns.countplot(x=x_graph1)"
      ]
    },
    {
      "cell_type": "markdown",
      "metadata": {
        "id": "gHVtGdZB6Az0"
      },
      "source": [
        "Vamos agora simular mil jogos de 10 moedas."
      ]
    },
    {
      "cell_type": "code",
      "execution_count": 25,
      "metadata": {
        "id": "G1iT0FWV6Az0",
        "outputId": "c1487fdd-2b28-45db-b42e-040c35c9fb20",
        "colab": {
          "base_uri": "https://localhost:8080/",
          "height": 449
        }
      },
      "outputs": [
        {
          "output_type": "execute_result",
          "data": {
            "text/plain": [
              "<Axes: ylabel='count'>"
            ]
          },
          "metadata": {},
          "execution_count": 25
        },
        {
          "output_type": "display_data",
          "data": {
            "text/plain": [
              "<Figure size 640x480 with 1 Axes>"
            ],
            "image/png": "[encoded data removed]"
          },
          "metadata": {}
        }
      ],
      "source": [
        "x_graph2 = np.random.binomial(10, 0.5, 1000)\n",
        "sns.countplot(x=x_graph2)"
      ]
    },
    {
      "cell_type": "markdown",
      "metadata": {
        "id": "7W3Ns5BT6Az0"
      },
      "source": [
        "Considere agora o seguinte problema: \\\n",
        "Uma manufatura tem uma taxa de defeitos de 12% na sua produção. Um comprador decide testar uma amostra de 20 peças aleatórias e só comprará da manufatura se encontrar duas ou menos peças defeituosas na amostra. Qual é a probabilidade de que a compra ocorra?"
      ]
    },
    {
      "cell_type": "markdown",
      "metadata": {
        "id": "53oXf-Pz6Az0"
      },
      "source": [
        "Na parte teórica, vimos que existem fórmulas matemáticas para realizar este cálculo. A linguagem Python provê o pacote SciPy para realizar esses cálculos. Veremos a seguir como usar o Scipy para resolver o problema acima."
      ]
    },
    {
      "cell_type": "code",
      "execution_count": 8,
      "metadata": {
        "id": "sv0oqmt26Az1"
      },
      "outputs": [],
      "source": [
        "from scipy.stats import binom"
      ]
    },
    {
      "cell_type": "markdown",
      "metadata": {
        "id": "qpR8KaSi6Az1"
      },
      "source": [
        "Para obter a probabilidade de que a compra ocorra, vamos utilizar a função cdf -- cumulative distribution function. Estamos usando essa função porque queremos calcular a probabilidade de termos até 2 peças defeituosas, ou seja, P(0) + P(1) + P(2) => portanto estamos acumulando (somando) as probabilidades. \\\n",
        "A função cdf tem 3 parâmetros: \\\n",
        "k - número máximo de peças defeituosas (cumulativo) \\\n",
        "n - número de peças da amostra \\\n",
        "p - probabilidade de peças defeituosas"
      ]
    },
    {
      "cell_type": "code",
      "execution_count": 9,
      "metadata": {
        "id": "ifEhtLzE6Az1",
        "outputId": "820aa090-8858-4dfa-ed19-81f319235f32",
        "colab": {
          "base_uri": "https://localhost:8080/"
        }
      },
      "outputs": [
        {
          "output_type": "execute_result",
          "data": {
            "text/plain": [
              "np.float64(0.5631315224061946)"
            ]
          },
          "metadata": {},
          "execution_count": 9
        }
      ],
      "source": [
        "binom.cdf(2, 20, 0.12)"
      ]
    },
    {
      "cell_type": "markdown",
      "metadata": {
        "id": "Y4liUDnM6Az1"
      },
      "source": [
        "E se quisermos descobrir a probabilidade de obtermos *exatamente* 2 peças defeituosas na amostra? \\\n",
        "Para tanto basta usar a função pmf -- probability mass function -- a qual tem os mesmos parâmetros que a função cdf."
      ]
    },
    {
      "cell_type": "code",
      "execution_count": 10,
      "metadata": {
        "id": "5ZBojvRG6Az1",
        "outputId": "796f6cb0-8396-4abb-e84c-4c2a9f2210ae",
        "colab": {
          "base_uri": "https://localhost:8080/"
        }
      },
      "outputs": [
        {
          "output_type": "execute_result",
          "data": {
            "text/plain": [
              "np.float64(0.27403383702748796)"
            ]
          },
          "metadata": {},
          "execution_count": 10
        }
      ],
      "source": [
        "binom.pmf(2, 20, 0.12)"
      ]
    },
    {
      "cell_type": "markdown",
      "metadata": {
        "id": "IMuCk0OM6Az1"
      },
      "source": [
        "Para calcularmos o número médio de peças defeituosas por amostra, basta usar a função mean, com os parâmetros n e p."
      ]
    },
    {
      "cell_type": "code",
      "execution_count": 11,
      "metadata": {
        "id": "zNDpCrLV6Az1",
        "outputId": "c6f92d16-1581-4395-d2b4-f2fcc71a1e05",
        "colab": {
          "base_uri": "https://localhost:8080/"
        }
      },
      "outputs": [
        {
          "output_type": "execute_result",
          "data": {
            "text/plain": [
              "np.float64(2.4)"
            ]
          },
          "metadata": {},
          "execution_count": 11
        }
      ],
      "source": [
        "binom.mean(20, 0.12)"
      ]
    },
    {
      "cell_type": "markdown",
      "metadata": {
        "id": "Zo5fFJXT6Az1"
      },
      "source": [
        "De forma similar, podemos obter o desvio padrão e a variância com as funções std e var."
      ]
    },
    {
      "cell_type": "code",
      "execution_count": 12,
      "metadata": {
        "id": "VR8Phfhx6Az2",
        "outputId": "e4314530-e26d-4595-ac68-1b8fb9dde117",
        "colab": {
          "base_uri": "https://localhost:8080/"
        }
      },
      "outputs": [
        {
          "output_type": "execute_result",
          "data": {
            "text/plain": [
              "np.float64(1.453272169966796)"
            ]
          },
          "metadata": {},
          "execution_count": 12
        }
      ],
      "source": [
        "binom.std(20, 0.12)"
      ]
    },
    {
      "cell_type": "code",
      "execution_count": 13,
      "metadata": {
        "id": "KWsFbNtI6Az2",
        "outputId": "fe5d38fd-3b0b-4699-85af-09a054d81340",
        "colab": {
          "base_uri": "https://localhost:8080/"
        }
      },
      "outputs": [
        {
          "output_type": "execute_result",
          "data": {
            "text/plain": [
              "np.float64(2.112)"
            ]
          },
          "metadata": {},
          "execution_count": 13
        }
      ],
      "source": [
        "binom.var(20, 0.12)"
      ]
    },
    {
      "cell_type": "markdown",
      "metadata": {
        "id": "vmBcVt9-6Az2"
      },
      "source": [
        "Suponha agora que queremos obter a probabilidade de obtermos 2 ou mais peças defeituosas na amostra. \\\n",
        "Existem duas possibilidades para isso:\n",
        "1) fazer 1 menos a probabilidade que calculamos\n",
        "2) utilizar a função sf -- survival function"
      ]
    },
    {
      "cell_type": "code",
      "execution_count": 18,
      "metadata": {
        "id": "rcB6In1-6Az2",
        "outputId": "0fae1faa-9bcc-4b69-b2d3-2e044ebe7cbc",
        "colab": {
          "base_uri": "https://localhost:8080/"
        }
      },
      "outputs": [
        {
          "output_type": "execute_result",
          "data": {
            "text/plain": [
              "np.float64(0.4368684775938054)"
            ]
          },
          "metadata": {},
          "execution_count": 18
        }
      ],
      "source": [
        "1 - binom.cdf(2, 20, 0.12)"
      ]
    },
    {
      "cell_type": "code",
      "execution_count": 19,
      "metadata": {
        "id": "HuozKcPR6Az2",
        "outputId": "7c9d055c-10aa-4491-8a82-ad71cedbef14",
        "colab": {
          "base_uri": "https://localhost:8080/"
        }
      },
      "outputs": [
        {
          "output_type": "execute_result",
          "data": {
            "text/plain": [
              "np.float64(0.4368684775938054)"
            ]
          },
          "metadata": {},
          "execution_count": 19
        }
      ],
      "source": [
        "binom.sf(2, 20, 0.12)"
      ]
    },
    {
      "cell_type": "markdown",
      "metadata": {
        "id": "xq2MaNyH6Az2"
      },
      "source": [
        "Suponha agora que eu queira plotar um gráfico que mostre a probabilidade de ter 1, 2, 3, ... 20 peças defeituosas. Isto recebe o nome de distribuição de probabilidade. Vejamos como fazer isso."
      ]
    },
    {
      "cell_type": "code",
      "execution_count": 15,
      "metadata": {
        "id": "hh_uAo2q6Az2",
        "outputId": "3aa69073-011a-4a73-f8c0-06d102d7dd44",
        "colab": {
          "base_uri": "https://localhost:8080/"
        }
      },
      "outputs": [
        {
          "output_type": "execute_result",
          "data": {
            "text/plain": [
              "array([ 0,  1,  2,  3,  4,  5,  6,  7,  8,  9, 10, 11, 12, 13, 14, 15, 16,\n",
              "       17, 18, 19, 20])"
            ]
          },
          "metadata": {},
          "execution_count": 15
        }
      ],
      "source": [
        "x = np.arange(0, 21)\n",
        "x"
      ]
    },
    {
      "cell_type": "code",
      "execution_count": 17,
      "metadata": {
        "id": "miDYtmih6Az2",
        "outputId": "fae19add-4442-4bfe-af99-c2229110c814",
        "colab": {
          "base_uri": "https://localhost:8080/"
        }
      },
      "outputs": [
        {
          "output_type": "stream",
          "name": "stdout",
          "text": [
            "0 - 0.08\n",
            "1 - 0.21\n",
            "2 - 0.27\n",
            "3 - 0.22\n",
            "4 - 0.13\n",
            "5 - 0.06\n",
            "6 - 0.02\n",
            "7 - 0.01\n",
            "8 - 0.00\n",
            "9 - 0.00\n",
            "10 - 0.00\n",
            "11 - 0.00\n",
            "12 - 0.00\n",
            "13 - 0.00\n",
            "14 - 0.00\n",
            "15 - 0.00\n",
            "16 - 0.00\n",
            "17 - 0.00\n",
            "18 - 0.00\n",
            "19 - 0.00\n"
          ]
        }
      ],
      "source": [
        "y = binom.pmf(x, 20, 0.12)\n",
        "\n",
        "for i in range(20):\n",
        "  print(f'{i} - {y[i]:.2f}')"
      ]
    },
    {
      "cell_type": "code",
      "execution_count": 21,
      "metadata": {
        "id": "MSYXaFde6Az2",
        "outputId": "43368350-04d5-4731-b062-ff2d5af81268",
        "colab": {
          "base_uri": "https://localhost:8080/",
          "height": 447
        }
      },
      "outputs": [
        {
          "output_type": "execute_result",
          "data": {
            "text/plain": [
              "<Axes: >"
            ]
          },
          "metadata": {},
          "execution_count": 21
        },
        {
          "output_type": "display_data",
          "data": {
            "text/plain": [
              "<Figure size 640x480 with 1 Axes>"
            ],
            "image/png": "[encoded data removed]"
          },
          "metadata": {}
        }
      ],
      "source": [
        "sns.barplot(x = x, y = y)"
      ]
    },
    {
      "cell_type": "markdown",
      "metadata": {
        "id": "M3SHRvEX6Az2"
      },
      "source": [
        "Podemos também fazer um gráfico mostrando a probabilidade cumulativa."
      ]
    },
    {
      "cell_type": "code",
      "execution_count": 27,
      "metadata": {
        "id": "-lSJyn3c6Az2",
        "outputId": "5a085681-2a26-41d5-8ae6-9d506c65a2c1",
        "colab": {
          "base_uri": "https://localhost:8080/",
          "height": 794
        }
      },
      "outputs": [
        {
          "output_type": "stream",
          "name": "stdout",
          "text": [
            "0 - 0.08\n",
            "1 - 0.29\n",
            "2 - 0.56\n",
            "3 - 0.79\n",
            "4 - 0.92\n",
            "5 - 0.97\n",
            "6 - 0.99\n",
            "7 - 1.00\n",
            "8 - 1.00\n",
            "9 - 1.00\n",
            "10 - 1.00\n",
            "11 - 1.00\n",
            "12 - 1.00\n",
            "13 - 1.00\n",
            "14 - 1.00\n",
            "15 - 1.00\n",
            "16 - 1.00\n",
            "17 - 1.00\n",
            "18 - 1.00\n",
            "19 - 1.00\n"
          ]
        },
        {
          "output_type": "execute_result",
          "data": {
            "text/plain": [
              "<Axes: >"
            ]
          },
          "metadata": {},
          "execution_count": 27
        },
        {
          "output_type": "display_data",
          "data": {
            "text/plain": [
              "<Figure size 640x480 with 1 Axes>"
            ],
            "image/png": "[encoded data removed]"
          },
          "metadata": {}
        }
      ],
      "source": [
        "y = binom.cdf(x, 20, 0.12)\n",
        "\n",
        "for i in range(20):\n",
        "  print(f'{i} - {y[i]:.2f}')\n",
        "\n",
        "sns.barplot(x = x, y = y)"
      ]
    },
    {
      "cell_type": "markdown",
      "metadata": {
        "id": "3OiJpPJQ6Az3"
      },
      "source": [
        "Vamos agora realizar um experimento para confirmar as probabilidades calculadas. Inicialmente vamos analisar o resultado de 10 amostras e checar o número de peças defeituosas em cada amostra."
      ]
    },
    {
      "cell_type": "code",
      "execution_count": 30,
      "metadata": {
        "id": "wsx2IgVk6Az3",
        "outputId": "8283e79f-f930-48ff-e7f9-fcdf83e7e2de",
        "colab": {
          "base_uri": "https://localhost:8080/"
        }
      },
      "outputs": [
        {
          "output_type": "execute_result",
          "data": {
            "text/plain": [
              "array([2, 5, 2, 3, 4, 4, 4, 2, 2, 2])"
            ]
          },
          "metadata": {},
          "execution_count": 30
        }
      ],
      "source": [
        "vet = np.random.binomial(20, 0.12, 10)\n",
        "vet"
      ]
    },
    {
      "cell_type": "markdown",
      "metadata": {
        "id": "12VV-XtQ6Az3"
      },
      "source": [
        "Agora vamos gerar um vetor com o resultado de 1.000 amostras e utilizar esse vetor para plotar um gráfico."
      ]
    },
    {
      "cell_type": "code",
      "execution_count": 31,
      "metadata": {
        "id": "xdKXSZDA6Az3",
        "outputId": "ac63bb7c-bbfd-4050-c473-5e6b2d04813e",
        "colab": {
          "base_uri": "https://localhost:8080/",
          "height": 447
        }
      },
      "outputs": [
        {
          "output_type": "execute_result",
          "data": {
            "text/plain": [
              "<Axes: ylabel='count'>"
            ]
          },
          "metadata": {},
          "execution_count": 31
        },
        {
          "output_type": "display_data",
          "data": {
            "text/plain": [
              "<Figure size 640x480 with 1 Axes>"
            ],
            "image/png": "[encoded data removed]"
          },
          "metadata": {}
        }
      ],
      "source": [
        "vet = np.random.binomial(20, 0.12, 1000)\n",
        "sns.countplot(x=vet)"
      ]
    },
    {
      "cell_type": "markdown",
      "metadata": {
        "id": "xy6VYmFX6Az3"
      },
      "source": [
        "Exercício 1 \\\n",
        "Se jogarmos uma moeda 10 vezes, qual é a probabilidade de aparecer exatamente 7 caras?"
      ]
    },
    {
      "cell_type": "code",
      "execution_count": 83,
      "metadata": {
        "id": "QzdBOj8x6Az3",
        "outputId": "740e274c-bbf0-40d2-8b13-7b5ca515de8a",
        "colab": {
          "base_uri": "https://localhost:8080/"
        }
      },
      "outputs": [
        {
          "output_type": "execute_result",
          "data": {
            "text/plain": [
              "np.float64(0.11718749999999999)"
            ]
          },
          "metadata": {},
          "execution_count": 83
        }
      ],
      "source": [
        "binom.pmf(7, 10, 0.5)"
      ]
    },
    {
      "cell_type": "markdown",
      "metadata": {
        "id": "-VUzf-hJ6Az3"
      },
      "source": [
        "Exercício 2 \\\n",
        "Se jogarmos uma moeda 10 vezes, qual é a probabilidade de aparecer exatamente 7 ou mais caras?"
      ]
    },
    {
      "cell_type": "code",
      "execution_count": 84,
      "metadata": {
        "id": "FFzpq-d_6Az4",
        "outputId": "4f312b4d-bd6d-4c9c-da63-df0a69110380",
        "colab": {
          "base_uri": "https://localhost:8080/"
        }
      },
      "outputs": [
        {
          "output_type": "execute_result",
          "data": {
            "text/plain": [
              "np.float64(0.171875)"
            ]
          },
          "metadata": {},
          "execution_count": 84
        }
      ],
      "source": [
        "binom.sf(6, 10, 0.5)"
      ]
    },
    {
      "cell_type": "markdown",
      "metadata": {
        "id": "dbeAVnMu6Az4"
      },
      "source": [
        "Exercício 3 \\\n",
        "4 peças foram selecionadas de um lote cuja probabilidade de defeito é de 10%. Qual é a probabilidade de termos 0 peças defeituosas na seleção?"
      ]
    },
    {
      "cell_type": "code",
      "execution_count": 79,
      "metadata": {
        "id": "s7qw1O9x6Az4",
        "outputId": "922ddc64-3fa4-43f4-85a5-e4d7ff7fa17d",
        "colab": {
          "base_uri": "https://localhost:8080/"
        }
      },
      "outputs": [
        {
          "output_type": "execute_result",
          "data": {
            "text/plain": [
              "np.float64(0.6560999999999998)"
            ]
          },
          "metadata": {},
          "execution_count": 79
        }
      ],
      "source": [
        "binom.pmf(0, 4, 0.1)"
      ]
    },
    {
      "cell_type": "markdown",
      "metadata": {
        "id": "hta6tgrp6Az4"
      },
      "source": [
        "Exercício 4 \\\n",
        "Plote um gráfico que exiba a distribuição de probabilidade do problema descrito no exercício 3."
      ]
    },
    {
      "cell_type": "code",
      "execution_count": 80,
      "metadata": {
        "id": "EYouf3gb6Az4",
        "outputId": "e103b57c-0b16-407f-c7fa-c1a7f3d097fb",
        "colab": {
          "base_uri": "https://localhost:8080/",
          "height": 447
        }
      },
      "outputs": [
        {
          "output_type": "execute_result",
          "data": {
            "text/plain": [
              "<Axes: >"
            ]
          },
          "metadata": {},
          "execution_count": 80
        },
        {
          "output_type": "display_data",
          "data": {
            "text/plain": [
              "<Figure size 640x480 with 1 Axes>"
            ],
            "image/png": "[encoded data removed]"
          },
          "metadata": {}
        }
      ],
      "source": [
        "x = np.arange(0, 5)\n",
        "y = binom.pmf(x, 4, 0.1)\n",
        "sns.barplot(x = x, y = y)"
      ]
    },
    {
      "cell_type": "markdown",
      "metadata": {
        "id": "QaiXPXW96Az4"
      },
      "source": [
        "Exercício 5 \\\n",
        "Um teste de múltipla escolha apresenta 4 opções por questão, e 14 questões. Se a aprovação depende de 9 ou mais respostas corretas: \\\n",
        "a) qual a probabilidade de um estudante que responde “no chute” ser aprovado? \\\n",
        "b) se 500 estudantes fazem o teste, qual o número esperado de estudantes aprovados, tendo “chutado” as respostas?"
      ]
    },
    {
      "cell_type": "code",
      "execution_count": 85,
      "metadata": {
        "id": "jQQxLSu26Az5",
        "outputId": "faa9a791-431f-44e0-ea86-296ec2d679d5",
        "colab": {
          "base_uri": "https://localhost:8080/"
        }
      },
      "outputs": [
        {
          "output_type": "execute_result",
          "data": {
            "text/plain": [
              "np.float64(0.002154175192117691)"
            ]
          },
          "metadata": {},
          "execution_count": 85
        }
      ],
      "source": [
        "binom.sf(8, 14, 0.25)"
      ]
    },
    {
      "cell_type": "code",
      "execution_count": 86,
      "metadata": {
        "id": "PYW7ky_K6Az5",
        "outputId": "73377c93-be94-4e68-9805-98eb0b714198",
        "colab": {
          "base_uri": "https://localhost:8080/"
        }
      },
      "outputs": [
        {
          "output_type": "execute_result",
          "data": {
            "text/plain": [
              "np.float64(1.0770875960588455)"
            ]
          },
          "metadata": {},
          "execution_count": 86
        }
      ],
      "source": [
        "binom.sf(8, 14, 0.25) * 500"
      ]
    },
    {
      "cell_type": "markdown",
      "metadata": {
        "id": "sYu7BIGh6Az5"
      },
      "source": [
        "Exercício 6 \\\n",
        "Um apostador que nada entende de futebol marcou um cartão de loteria esportiva, que tem 16 jogos, realizando apenas apostas simples (ou seja, marcando somente uma das três opções: time A vence, times A e B empatam, time B ganha). Plote um gráfico de barras que mostre a probabilidade de 0, 1, 2, ... 16 acertos."
      ]
    },
    {
      "cell_type": "code",
      "execution_count": 87,
      "metadata": {
        "id": "PhCrn4Nh6Az5",
        "outputId": "2e4f8351-d934-4c8f-cf76-87927e7a736c",
        "colab": {
          "base_uri": "https://localhost:8080/",
          "height": 447
        }
      },
      "outputs": [
        {
          "output_type": "execute_result",
          "data": {
            "text/plain": [
              "<Axes: >"
            ]
          },
          "metadata": {},
          "execution_count": 87
        },
        {
          "output_type": "display_data",
          "data": {
            "text/plain": [
              "<Figure size 640x480 with 1 Axes>"
            ],
            "image/png": "[encoded data removed]"
          },
          "metadata": {}
        }
      ],
      "source": [
        "x = np.arange(0, 17)\n",
        "y = binom.pmf(x, 16, 0.33)\n",
        "sns.barplot(x = x, y = y)"
      ]
    }
  ],
  "metadata": {
    "kernelspec": {
      "display_name": "base",
      "language": "python",
      "name": "python3"
    },
    "language_info": {
      "codemirror_mode": {
        "name": "ipython",
        "version": 3
      },
      "file_extension": ".py",
      "mimetype": "text/x-python",
      "name": "python",
      "nbconvert_exporter": "python",
      "pygments_lexer": "ipython3",
      "version": "3.10.9"
    },
    "orig_nbformat": 4,
    "vscode": {
      "interpreter": {
        "hash": "375cb2be7c48c11bb855aa4c37dc6c17bef886eb77cae35fc21e121628c6e1e2"
      }
    },
    "colab": {
      "provenance": []
    }
  },
  "nbformat": 4,
  "nbformat_minor": 0
}