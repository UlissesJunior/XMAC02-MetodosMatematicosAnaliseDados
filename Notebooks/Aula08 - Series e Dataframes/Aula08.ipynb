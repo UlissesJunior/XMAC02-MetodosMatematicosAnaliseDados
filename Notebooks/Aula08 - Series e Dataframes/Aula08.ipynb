{
  "cells": [
    {
      "cell_type": "markdown",
      "metadata": {
        "id": "AQM8TtcjkEdx"
      },
      "source": [
        "## Pandas -- Series e Dataframes"
      ]
    },
    {
      "cell_type": "markdown",
      "metadata": {
        "id": "9nYQIN4YkEdz"
      },
      "source": [
        "Series e Dataframes são estruturas que facilitam a manipulação de dados em Python e, por esse motivo, são largamente utilizadas na Análise de Dados.\n",
        "\n",
        "Pandas Series corresponde a um array unidimensional que permite indexação por meio de labels. Vamos criar uma lista que corresponde a gastos realizados em dias da semana, em seguida, vamos indexar os gastos pelos respectivos dias criando uma Series."
      ]
    },
    {
      "cell_type": "code",
      "execution_count": 1,
      "metadata": {
        "id": "pAM6Ozf8kEdz"
      },
      "outputs": [],
      "source": [
        "import numpy as np\n",
        "import pandas as pd"
      ]
    },
    {
      "cell_type": "code",
      "execution_count": 2,
      "metadata": {
        "id": "1SnCxgM3kEd0"
      },
      "outputs": [],
      "source": [
        "gastos = [20, 35, 15, 40, 10]\n",
        "dias = ['Segunda', 'Terça', 'Quarta', 'Quinta', 'Sexta']"
      ]
    },
    {
      "cell_type": "code",
      "execution_count": 3,
      "metadata": {
        "id": "aHbngOblkEd1"
      },
      "outputs": [],
      "source": [
        "gastos_series = pd.Series(gastos, index=dias)"
      ]
    },
    {
      "cell_type": "markdown",
      "metadata": {
        "id": "3bvH9sUVkEd1"
      },
      "source": [
        "Agora podemos acessar os gastos usando como índices os dias."
      ]
    },
    {
      "cell_type": "code",
      "execution_count": 4,
      "metadata": {
        "id": "ZxFMU6sIkEd2",
        "outputId": "cedbb2b2-ace4-4dee-c8e7-5ffcd2928b7c",
        "colab": {
          "base_uri": "https://localhost:8080/"
        }
      },
      "outputs": [
        {
          "output_type": "execute_result",
          "data": {
            "text/plain": [
              "np.int64(20)"
            ]
          },
          "metadata": {},
          "execution_count": 4
        }
      ],
      "source": [
        "gastos_series['Segunda']"
      ]
    },
    {
      "cell_type": "markdown",
      "metadata": {
        "id": "XZ5vYi46kEd2"
      },
      "source": [
        "### Dataframe\n",
        "Um Pandas dataframe corresponde a um vetor bidimensional (matriz), no qual é possível indexar linhas e colunas por meio de labels, e utilizar esses labels para facilitar o acesso aos dados.\n",
        "\n",
        "Vamos criar nosso primeiro dataframe a partir de uma matriz e, em seguida, reindexar as linhas e colunas do nosso dataframe."
      ]
    },
    {
      "cell_type": "code",
      "execution_count": 5,
      "metadata": {
        "id": "zLLGO_rNkEd2",
        "outputId": "a4f1540c-5bdd-4f44-86b6-9a2abe8bf146",
        "colab": {
          "base_uri": "https://localhost:8080/"
        }
      },
      "outputs": [
        {
          "output_type": "stream",
          "name": "stdout",
          "text": [
            "   col1  col2  col3\n",
            "0     1     2     3\n",
            "1     4     5     6\n",
            "2     7     8     9\n"
          ]
        }
      ],
      "source": [
        "dados = np.array([[1, 2, 3], [4, 5, 6], [7, 8, 9]])\n",
        "df = pd.DataFrame(dados, columns=['col1', 'col2', 'col3'])\n",
        "print(df)"
      ]
    },
    {
      "cell_type": "code",
      "execution_count": 6,
      "metadata": {
        "id": "8gmP_wTmkEd2",
        "outputId": "27dc442f-8394-410c-a309-4cdec74099f1",
        "colab": {
          "base_uri": "https://localhost:8080/"
        }
      },
      "outputs": [
        {
          "output_type": "stream",
          "name": "stdout",
          "text": [
            "        col1  col2  col3\n",
            "linha1     1     2     3\n",
            "linha2     4     5     6\n",
            "linha3     7     8     9\n"
          ]
        }
      ],
      "source": [
        "df.index = ['linha1', 'linha2', 'linha3']\n",
        "print(df)"
      ]
    },
    {
      "cell_type": "markdown",
      "metadata": {
        "id": "l39elnc5kEd4"
      },
      "source": [
        "Otenha as linhas nas quais o valor de col3 é maior que 5."
      ]
    },
    {
      "cell_type": "code",
      "execution_count": 7,
      "metadata": {
        "id": "Uod6sgqBkEd4",
        "outputId": "02e02fed-7a3d-4743-fd39-af83a03c061e",
        "colab": {
          "base_uri": "https://localhost:8080/"
        }
      },
      "outputs": [
        {
          "output_type": "stream",
          "name": "stdout",
          "text": [
            "        col1  col2  col3\n",
            "linha2     4     5     6\n",
            "linha3     7     8     9\n"
          ]
        }
      ],
      "source": [
        "filtro = df[df['col3'] > 5]\n",
        "print(filtro)"
      ]
    },
    {
      "cell_type": "markdown",
      "metadata": {
        "id": "Z2AcjfR6kEd4"
      },
      "source": [
        "Obtenha as linhas nas quais o valor de col1 é menor que 5."
      ]
    },
    {
      "cell_type": "code",
      "execution_count": 8,
      "metadata": {
        "id": "MPZsgUFlkEd4",
        "outputId": "23d347e6-0abb-4034-a658-0f459402d22e",
        "colab": {
          "base_uri": "https://localhost:8080/"
        }
      },
      "outputs": [
        {
          "output_type": "stream",
          "name": "stdout",
          "text": [
            "        col1  col2  col3\n",
            "linha1     1     2     3\n",
            "linha2     4     5     6\n"
          ]
        }
      ],
      "source": [
        "filtro = df[df['col1'] < 5]\n",
        "print(filtro)"
      ]
    },
    {
      "cell_type": "markdown",
      "metadata": {
        "id": "eGiCKKLokEd4"
      },
      "source": [
        "É possível criar um dataframe numa única linha, informando os labels das colunas e o índices das linhas."
      ]
    },
    {
      "cell_type": "code",
      "execution_count": 9,
      "metadata": {
        "id": "kI316hhCkEd5",
        "outputId": "098ce25d-4d15-47aa-ee63-2b20025b88d7",
        "colab": {
          "base_uri": "https://localhost:8080/"
        }
      },
      "outputs": [
        {
          "output_type": "stream",
          "name": "stdout",
          "text": [
            "         A   B\n",
            "Linha1  22  33\n"
          ]
        }
      ],
      "source": [
        "df2 = pd.DataFrame([[22, 33]], columns=['A', 'B'], index=['Linha1'])\n",
        "print(df2)"
      ]
    },
    {
      "cell_type": "markdown",
      "metadata": {
        "id": "6j-0zB8YkEd5"
      },
      "source": [
        "Exercício \\\n",
        "\n",
        "Crie um dataframe usando as listas de dias e de temperaturas (temps) a seguir. Renomei a única coluna do dataframe com o label 'Temperatura'."
      ]
    },
    {
      "cell_type": "code",
      "execution_count": 10,
      "metadata": {
        "id": "37F1Mqp8kEd5",
        "outputId": "9026fd7c-a7b2-4cfa-88bb-1650c087162b",
        "colab": {
          "base_uri": "https://localhost:8080/"
        }
      },
      "outputs": [
        {
          "output_type": "stream",
          "name": "stdout",
          "text": [
            "     Temperatura\n",
            "Seg           30\n",
            "Ter           32\n",
            "Qua           29\n",
            "Qui           28\n",
            "Sex           31\n"
          ]
        }
      ],
      "source": [
        "dias = ['Seg', 'Ter', 'Qua', 'Qui', 'Sex']\n",
        "temps = [30, 32, 29, 28, 31]\n",
        "\n",
        "df_temp = pd.DataFrame(temps, index=dias, columns=['Temperatura'])\n",
        "print(df_temp)"
      ]
    },
    {
      "cell_type": "markdown",
      "metadata": {
        "id": "Jtvl85vDkEd5"
      },
      "source": [
        "### Dataset to DataFrame\n",
        "Veremos agora como criar um DataFrame a partir de um dataset csv"
      ]
    },
    {
      "cell_type": "code",
      "execution_count": 11,
      "metadata": {
        "colab": {
          "base_uri": "https://localhost:8080/"
        },
        "id": "eMjqGzffkEd5",
        "outputId": "0b1d30a8-5ac9-4f95-d6d0-05453c0c0f89"
      },
      "outputs": [
        {
          "output_type": "stream",
          "name": "stdout",
          "text": [
            "         Length  Width  Height Operator\n",
            "Item_No                                \n",
            "Item-1   102.67  49.53   19.69     Op-1\n",
            "Item-2   102.50  51.42   19.63     Op-1\n",
            "Item-3    95.37  52.25   21.51     Op-1\n",
            "Item-4    94.77  49.24   18.60     Op-1\n",
            "Item-5   104.26  47.90   19.46     Op-1\n"
          ]
        }
      ],
      "source": [
        "df_csv = pd.read_csv('Piece_Dim.csv', index_col=0)\n",
        "print(df_csv.head())"
      ]
    },
    {
      "cell_type": "markdown",
      "metadata": {
        "id": "MmRCLvy6kEd5"
      },
      "source": [
        "Podemos notar que o dataset já contém um campo indexador. Vamos então utilizá-lo como índice do DataFrame."
      ]
    },
    {
      "cell_type": "code",
      "execution_count": 13,
      "metadata": {
        "colab": {
          "base_uri": "https://localhost:8080/"
        },
        "id": "SujIo-CfkEd5",
        "outputId": "c034ec27-7594-4927-f612-0dc4b7655fcf"
      },
      "outputs": [
        {
          "output_type": "stream",
          "name": "stdout",
          "text": [
            "Index(['Item-1', 'Item-2', 'Item-3', 'Item-4', 'Item-5', 'Item-6', 'Item-7',\n",
            "       'Item-8', 'Item-9', 'Item-10', 'Item-11', 'Item-12', 'Item-13',\n",
            "       'Item-14', 'Item-15', 'Item-16', 'Item-17', 'Item-18', 'Item-19',\n",
            "       'Item-20', 'Item-21', 'Item-22', 'Item-23', 'Item-24', 'Item-25',\n",
            "       'Item-26', 'Item-27', 'Item-28', 'Item-29', 'Item-30', 'Item-31',\n",
            "       'Item-32', 'Item-33', 'Item-34', 'Item-35', 'Item-36', 'Item-37',\n",
            "       'Item-38', 'Item-39', 'Item-40', 'Item-41', 'Item-42', 'Item-43',\n",
            "       'Item-44', 'Item-45', 'Item-46', 'Item-47', 'Item-48', 'Item-49',\n",
            "       'Item-50'],\n",
            "      dtype='object', name='Item_No')\n"
          ]
        }
      ],
      "source": [
        "print(df_csv.index)"
      ]
    },
    {
      "cell_type": "markdown",
      "metadata": {
        "id": "kKpQ0ipOkEd5"
      },
      "source": [
        "Podemos renomear as colunas de um DataFrame. Vamos passar os labels das colunas para o português."
      ]
    },
    {
      "cell_type": "code",
      "execution_count": 12,
      "metadata": {
        "id": "Zlo1_1PMkEd5",
        "outputId": "252c8d5d-86fe-4e0e-db08-8d8b8b2f6ea8",
        "colab": {
          "base_uri": "https://localhost:8080/"
        }
      },
      "outputs": [
        {
          "output_type": "stream",
          "name": "stdout",
          "text": [
            "         Comprimento  Largura  Altura Operador\n",
            "Item_No                                       \n",
            "Item-1        102.67    49.53   19.69     Op-1\n",
            "Item-2        102.50    51.42   19.63     Op-1\n",
            "Item-3         95.37    52.25   21.51     Op-1\n",
            "Item-4         94.77    49.24   18.60     Op-1\n",
            "Item-5        104.26    47.90   19.46     Op-1\n"
          ]
        }
      ],
      "source": [
        "df_csv.columns = ['Comprimento', 'Largura', 'Altura', 'Operador']\n",
        "print(df_csv.head())"
      ]
    },
    {
      "cell_type": "markdown",
      "metadata": {
        "id": "zUHNzYRvkEd6"
      },
      "source": [
        "Podemos usar info() para obter maiores informações sobre o dataframe, assim como describe para descrevê-lo."
      ]
    },
    {
      "cell_type": "code",
      "execution_count": 14,
      "metadata": {
        "id": "Y28fQW-VkEd6",
        "outputId": "b53edec6-b76f-491c-a860-47d50456e160",
        "colab": {
          "base_uri": "https://localhost:8080/"
        }
      },
      "outputs": [
        {
          "output_type": "stream",
          "name": "stdout",
          "text": [
            "<class 'pandas.core.frame.DataFrame'>\n",
            "Index: 50 entries, Item-1 to Item-50\n",
            "Data columns (total 4 columns):\n",
            " #   Column       Non-Null Count  Dtype  \n",
            "---  ------       --------------  -----  \n",
            " 0   Comprimento  50 non-null     float64\n",
            " 1   Largura      50 non-null     float64\n",
            " 2   Altura       50 non-null     float64\n",
            " 3   Operador     50 non-null     object \n",
            "dtypes: float64(3), object(1)\n",
            "memory usage: 2.0+ KB\n",
            "None\n"
          ]
        }
      ],
      "source": [
        "print(df_csv.info())"
      ]
    },
    {
      "cell_type": "code",
      "execution_count": 15,
      "metadata": {
        "id": "8Or-n_uFkEd6",
        "outputId": "571a1d0e-7366-4ee7-beb6-e86c8d67a238",
        "colab": {
          "base_uri": "https://localhost:8080/"
        }
      },
      "outputs": [
        {
          "output_type": "stream",
          "name": "stdout",
          "text": [
            "       Comprimento    Largura     Altura\n",
            "count    50.000000  50.000000  50.000000\n",
            "mean    100.128800  49.461400  20.014000\n",
            "std       5.075593   2.615639   1.074069\n",
            "min      89.820000  44.460000  17.370000\n",
            "25%      95.675000  48.105000  19.375000\n",
            "50%      99.830000  49.315000  19.930000\n",
            "75%     104.402500  50.780000  20.595000\n",
            "max     110.540000  55.760000  23.110000\n"
          ]
        }
      ],
      "source": [
        "print(df_csv.describe())"
      ]
    },
    {
      "cell_type": "markdown",
      "metadata": {
        "id": "ChKfFL5akEd6"
      },
      "source": [
        "### Manipulação de colunas\n",
        "Vamos agora manipular as colunas do nosso DataFrame, começando por selecionar a coluna 'Comprimento'."
      ]
    },
    {
      "cell_type": "code",
      "execution_count": 16,
      "metadata": {
        "id": "qwJ-YadnkEd6",
        "outputId": "2483a2c9-e7c0-489e-ca67-6d3baa0c6e6a",
        "colab": {
          "base_uri": "https://localhost:8080/"
        }
      },
      "outputs": [
        {
          "output_type": "stream",
          "name": "stdout",
          "text": [
            "Item_No\n",
            "Item-1     102.67\n",
            "Item-2     102.50\n",
            "Item-3      95.37\n",
            "Item-4      94.77\n",
            "Item-5     104.26\n",
            "Item-6     105.18\n",
            "Item-7      97.35\n",
            "Item-8      99.35\n",
            "Item-9      90.62\n",
            "Item-10     97.22\n",
            "Item-11    100.00\n",
            "Item-12     97.23\n",
            "Item-13    105.72\n",
            "Item-14     89.82\n",
            "Item-15     99.17\n",
            "Item-16     95.51\n",
            "Item-17    107.69\n",
            "Item-18    106.83\n",
            "Item-19     98.73\n",
            "Item-20     94.31\n",
            "Item-21    104.87\n",
            "Item-22     98.06\n",
            "Item-23    108.45\n",
            "Item-24     95.34\n",
            "Item-25     97.66\n",
            "Item-26     95.69\n",
            "Item-27    105.88\n",
            "Item-28    101.68\n",
            "Item-29     93.54\n",
            "Item-30     99.66\n",
            "Item-31     98.38\n",
            "Item-32     95.53\n",
            "Item-33    100.53\n",
            "Item-34     95.67\n",
            "Item-35    101.86\n",
            "Item-36    105.22\n",
            "Item-37    101.86\n",
            "Item-38     97.19\n",
            "Item-39    103.00\n",
            "Item-40    100.57\n",
            "Item-41    110.54\n",
            "Item-42    109.22\n",
            "Item-43     92.52\n",
            "Item-44    107.05\n",
            "Item-45    106.53\n",
            "Item-46    101.21\n",
            "Item-47    101.09\n",
            "Item-48     95.61\n",
            "Item-49    104.45\n",
            "Item-50     93.28\n",
            "Name: Comprimento, dtype: float64\n"
          ]
        }
      ],
      "source": [
        "print(df_csv['Comprimento'])"
      ]
    },
    {
      "cell_type": "markdown",
      "metadata": {
        "id": "wjP42n8UkEd6"
      },
      "source": [
        "\n",
        "Agora vamos selecionar 'Comprimento' e 'Largura'."
      ]
    },
    {
      "cell_type": "code",
      "execution_count": 17,
      "metadata": {
        "id": "C2xVOH0TkEd7",
        "outputId": "0b54b473-fcc0-4836-a21b-ebdd0fdf9cde",
        "colab": {
          "base_uri": "https://localhost:8080/"
        }
      },
      "outputs": [
        {
          "output_type": "stream",
          "name": "stdout",
          "text": [
            "         Comprimento  Largura\n",
            "Item_No                      \n",
            "Item-1        102.67    49.53\n",
            "Item-2        102.50    51.42\n",
            "Item-3         95.37    52.25\n",
            "Item-4         94.77    49.24\n",
            "Item-5        104.26    47.90\n",
            "Item-6        105.18    49.39\n",
            "Item-7         97.35    48.05\n",
            "Item-8         99.35    44.59\n",
            "Item-9         90.62    47.29\n",
            "Item-10        97.22    52.14\n",
            "Item-11       100.00    54.76\n",
            "Item-12        97.23    48.26\n",
            "Item-13       105.72    50.04\n",
            "Item-14        89.82    45.98\n",
            "Item-15        99.17    53.54\n",
            "Item-16        95.51    45.36\n",
            "Item-17       107.69    48.18\n",
            "Item-18       106.83    50.81\n",
            "Item-19        98.73    55.76\n",
            "Item-20        94.31    48.74\n",
            "Item-21       104.87    49.73\n",
            "Item-22        98.06    48.39\n",
            "Item-23       108.45    44.46\n",
            "Item-24        95.34    46.03\n",
            "Item-25        97.66    50.69\n",
            "Item-26        95.69    49.48\n",
            "Item-27       105.88    49.53\n",
            "Item-28       101.68    52.79\n",
            "Item-29        93.54    51.05\n",
            "Item-30        99.66    48.40\n",
            "Item-31        98.38    46.79\n",
            "Item-32        95.53    53.83\n",
            "Item-33       100.53    50.00\n",
            "Item-34        95.67    49.64\n",
            "Item-35       101.86    50.45\n",
            "Item-36       105.22    54.61\n",
            "Item-37       101.86    49.85\n",
            "Item-38        97.19    49.90\n",
            "Item-39       103.00    48.81\n",
            "Item-40       100.57    53.52\n",
            "Item-41       110.54    51.07\n",
            "Item-42       109.22    45.24\n",
            "Item-43        92.52    49.04\n",
            "Item-44       107.05    49.01\n",
            "Item-45       106.53    48.55\n",
            "Item-46       101.21    47.61\n",
            "Item-47       101.09    48.28\n",
            "Item-48        95.61    46.30\n",
            "Item-49       104.45    48.71\n",
            "Item-50        93.28    48.08\n"
          ]
        }
      ],
      "source": [
        "print(df_csv[['Comprimento', 'Largura']])"
      ]
    },
    {
      "cell_type": "markdown",
      "metadata": {
        "id": "Xlb-7G6okEd7"
      },
      "source": [
        "A partir dos dados de comprimento, largura e altura de uma caixa, podemos obter seu volume. Vamos, então, obter o volume de cada item e criar uma nova coluna no nosso DataFrame chamada 'Volume'."
      ]
    },
    {
      "cell_type": "code",
      "execution_count": 24,
      "metadata": {
        "id": "fhPLRV_ZkEd7",
        "outputId": "b7afb96f-b237-4e7c-9424-f70ca15c4e36",
        "colab": {
          "base_uri": "https://localhost:8080/"
        }
      },
      "outputs": [
        {
          "output_type": "stream",
          "name": "stdout",
          "text": [
            "         Comprimento  Largura  Altura Operador         Volume\n",
            "Item_No                                                      \n",
            "Item-1        102.67    49.53   19.69     Op-1  100128.476019\n",
            "Item-2        102.50    51.42   19.63     Op-1  103460.896500\n",
            "Item-3         95.37    52.25   21.51     Op-1  107186.104575\n",
            "Item-4         94.77    49.24   18.60     Op-1   86796.431280\n",
            "Item-5        104.26    47.90   19.46     Op-1   97184.290840\n",
            "Item-6        105.18    49.39   20.36     Op-1  105766.946472\n",
            "Item-7         97.35    48.05   20.22     Op-1   94582.436850\n",
            "Item-8         99.35    44.59   21.03     Op-1   93163.246995\n",
            "Item-9         90.62    47.29   19.78     Op-1   84765.603644\n",
            "Item-10        97.22    52.14   20.71     Op-1  104980.042068\n",
            "Item-11       100.00    54.76   20.62     Op-1  112915.120000\n",
            "Item-12        97.23    48.26   19.51     Op-1   91547.159298\n",
            "Item-13       105.72    50.04   20.06     Op-1  106121.989728\n",
            "Item-14        89.82    45.98   20.30     Op-1   83837.449080\n",
            "Item-15        99.17    53.54   20.25     Op-1  107518.626450\n",
            "Item-16        95.51    45.36   20.52     Op-1   88899.485472\n",
            "Item-17       107.69    48.18   19.33     Op-1  100293.786186\n",
            "Item-18       106.83    50.81   19.12     Op-1  103783.977576\n",
            "Item-19        98.73    55.76   19.37     Op-1  106635.429576\n",
            "Item-20        94.31    48.74   18.80     Op-1   86417.384720\n",
            "Item-21       104.87    49.73   19.94     Op-1  103990.790894\n",
            "Item-22        98.06    48.39   19.79     Op-1   93905.992086\n",
            "Item-23       108.45    44.46   22.31     Op-1  107571.836970\n",
            "Item-24        95.34    46.03   20.17     Op-1   88516.049034\n",
            "Item-25        97.66    50.69   19.54     Op-1   96730.530716\n",
            "Item-26        95.69    49.48   17.37     Op-2   82242.454644\n",
            "Item-27       105.88    49.53   18.70     Op-2   98067.220680\n",
            "Item-28       101.68    52.79   19.42     Op-2  104240.485424\n",
            "Item-29        93.54    51.05   19.29     Op-2   92113.935930\n",
            "Item-30        99.66    48.40   20.64     Op-2   99557.948160\n",
            "Item-31        98.38    46.79   21.27     Op-2   97910.068254\n",
            "Item-32        95.53    53.83   23.11     Op-2  118840.399489\n",
            "Item-33       100.53    50.00   21.13     Op-2  106209.945000\n",
            "Item-34        95.67    49.64   21.92     Op-2  104099.368896\n",
            "Item-35       101.86    50.45   18.05     Op-2   92756.007850\n",
            "Item-36       105.22    54.61   20.64     Op-2  118598.765088\n",
            "Item-37       101.86    49.85   19.15     Op-2   97238.357150\n",
            "Item-38        97.19    49.90   19.04     Op-2   92339.830240\n",
            "Item-39       103.00    48.81   19.39     Op-2   97481.867700\n",
            "Item-40       100.57    53.52   19.98     Op-2  107542.477872\n",
            "Item-41       110.54    51.07   21.95     Op-2  123913.847710\n",
            "Item-42       109.22    45.24   20.05     Op-2   99069.311640\n",
            "Item-43        92.52    49.04   19.92     Op-2   90380.641536\n",
            "Item-44       107.05    49.01   18.97     Op-2   99526.493885\n",
            "Item-45       106.53    48.55   19.20     Op-2   99303.004800\n",
            "Item-46       101.21    47.61   21.39     Op-2  103070.027259\n",
            "Item-47       101.09    48.28   20.04     Op-2   97807.729008\n",
            "Item-48        95.61    46.30   20.31     Op-2   89907.150330\n",
            "Item-49       104.45    48.71   19.51     Op-2   99262.187845\n",
            "Item-50        93.28    48.08   19.64     Op-2   88083.483136\n"
          ]
        }
      ],
      "source": [
        "df_csv['Volume'] = df_csv['Comprimento'] * df_csv['Largura'] * df_csv['Altura']\n",
        "print(df_csv)"
      ]
    },
    {
      "cell_type": "markdown",
      "metadata": {
        "id": "u3NHsVmckEd7"
      },
      "source": [
        "Para manter o padrão utilizado nas outras colunas, temos que limitar o valor do volume a duas casas decimais após o ponto. Vamos utilizar a função 'round' para obter este resultado."
      ]
    },
    {
      "cell_type": "code",
      "execution_count": 25,
      "metadata": {
        "id": "RtvQYYMfkEd7",
        "outputId": "2b2f6918-2812-47da-cb28-db3454d85631",
        "colab": {
          "base_uri": "https://localhost:8080/"
        }
      },
      "outputs": [
        {
          "output_type": "stream",
          "name": "stdout",
          "text": [
            "         Comprimento  Largura  Altura Operador     Volume\n",
            "Item_No                                                  \n",
            "Item-1        102.67    49.53   19.69     Op-1  100128.48\n",
            "Item-2        102.50    51.42   19.63     Op-1  103460.90\n",
            "Item-3         95.37    52.25   21.51     Op-1  107186.10\n",
            "Item-4         94.77    49.24   18.60     Op-1   86796.43\n",
            "Item-5        104.26    47.90   19.46     Op-1   97184.29\n",
            "Item-6        105.18    49.39   20.36     Op-1  105766.95\n",
            "Item-7         97.35    48.05   20.22     Op-1   94582.44\n",
            "Item-8         99.35    44.59   21.03     Op-1   93163.25\n",
            "Item-9         90.62    47.29   19.78     Op-1   84765.60\n",
            "Item-10        97.22    52.14   20.71     Op-1  104980.04\n",
            "Item-11       100.00    54.76   20.62     Op-1  112915.12\n",
            "Item-12        97.23    48.26   19.51     Op-1   91547.16\n",
            "Item-13       105.72    50.04   20.06     Op-1  106121.99\n",
            "Item-14        89.82    45.98   20.30     Op-1   83837.45\n",
            "Item-15        99.17    53.54   20.25     Op-1  107518.63\n",
            "Item-16        95.51    45.36   20.52     Op-1   88899.49\n",
            "Item-17       107.69    48.18   19.33     Op-1  100293.79\n",
            "Item-18       106.83    50.81   19.12     Op-1  103783.98\n",
            "Item-19        98.73    55.76   19.37     Op-1  106635.43\n",
            "Item-20        94.31    48.74   18.80     Op-1   86417.38\n",
            "Item-21       104.87    49.73   19.94     Op-1  103990.79\n",
            "Item-22        98.06    48.39   19.79     Op-1   93905.99\n",
            "Item-23       108.45    44.46   22.31     Op-1  107571.84\n",
            "Item-24        95.34    46.03   20.17     Op-1   88516.05\n",
            "Item-25        97.66    50.69   19.54     Op-1   96730.53\n",
            "Item-26        95.69    49.48   17.37     Op-2   82242.45\n",
            "Item-27       105.88    49.53   18.70     Op-2   98067.22\n",
            "Item-28       101.68    52.79   19.42     Op-2  104240.49\n",
            "Item-29        93.54    51.05   19.29     Op-2   92113.94\n",
            "Item-30        99.66    48.40   20.64     Op-2   99557.95\n",
            "Item-31        98.38    46.79   21.27     Op-2   97910.07\n",
            "Item-32        95.53    53.83   23.11     Op-2  118840.40\n",
            "Item-33       100.53    50.00   21.13     Op-2  106209.94\n",
            "Item-34        95.67    49.64   21.92     Op-2  104099.37\n",
            "Item-35       101.86    50.45   18.05     Op-2   92756.01\n",
            "Item-36       105.22    54.61   20.64     Op-2  118598.77\n",
            "Item-37       101.86    49.85   19.15     Op-2   97238.36\n",
            "Item-38        97.19    49.90   19.04     Op-2   92339.83\n",
            "Item-39       103.00    48.81   19.39     Op-2   97481.87\n",
            "Item-40       100.57    53.52   19.98     Op-2  107542.48\n",
            "Item-41       110.54    51.07   21.95     Op-2  123913.85\n",
            "Item-42       109.22    45.24   20.05     Op-2   99069.31\n",
            "Item-43        92.52    49.04   19.92     Op-2   90380.64\n",
            "Item-44       107.05    49.01   18.97     Op-2   99526.49\n",
            "Item-45       106.53    48.55   19.20     Op-2   99303.00\n",
            "Item-46       101.21    47.61   21.39     Op-2  103070.03\n",
            "Item-47       101.09    48.28   20.04     Op-2   97807.73\n",
            "Item-48        95.61    46.30   20.31     Op-2   89907.15\n",
            "Item-49       104.45    48.71   19.51     Op-2   99262.19\n",
            "Item-50        93.28    48.08   19.64     Op-2   88083.48\n"
          ]
        }
      ],
      "source": [
        "df_csv['Volume'] = round(df_csv['Volume'], 2)\n",
        "print(df_csv)"
      ]
    },
    {
      "cell_type": "markdown",
      "metadata": {
        "id": "jqqQCrf7kEd7"
      },
      "source": [
        "Se quisermos eliminar uma coluna do nosso DataFrame, basta usar a função 'drop'. Vamos eliminar a coluna 'Volume'."
      ]
    },
    {
      "cell_type": "code",
      "execution_count": 26,
      "metadata": {
        "id": "yLxqHIzrkEd7",
        "outputId": "ca24bf89-1d84-45a1-f95b-9756aa58676e",
        "colab": {
          "base_uri": "https://localhost:8080/"
        }
      },
      "outputs": [
        {
          "output_type": "stream",
          "name": "stdout",
          "text": [
            "         Comprimento  Largura  Altura Operador\n",
            "Item_No                                       \n",
            "Item-1        102.67    49.53   19.69     Op-1\n",
            "Item-2        102.50    51.42   19.63     Op-1\n",
            "Item-3         95.37    52.25   21.51     Op-1\n",
            "Item-4         94.77    49.24   18.60     Op-1\n",
            "Item-5        104.26    47.90   19.46     Op-1\n",
            "Item-6        105.18    49.39   20.36     Op-1\n",
            "Item-7         97.35    48.05   20.22     Op-1\n",
            "Item-8         99.35    44.59   21.03     Op-1\n",
            "Item-9         90.62    47.29   19.78     Op-1\n",
            "Item-10        97.22    52.14   20.71     Op-1\n",
            "Item-11       100.00    54.76   20.62     Op-1\n",
            "Item-12        97.23    48.26   19.51     Op-1\n",
            "Item-13       105.72    50.04   20.06     Op-1\n",
            "Item-14        89.82    45.98   20.30     Op-1\n",
            "Item-15        99.17    53.54   20.25     Op-1\n",
            "Item-16        95.51    45.36   20.52     Op-1\n",
            "Item-17       107.69    48.18   19.33     Op-1\n",
            "Item-18       106.83    50.81   19.12     Op-1\n",
            "Item-19        98.73    55.76   19.37     Op-1\n",
            "Item-20        94.31    48.74   18.80     Op-1\n",
            "Item-21       104.87    49.73   19.94     Op-1\n",
            "Item-22        98.06    48.39   19.79     Op-1\n",
            "Item-23       108.45    44.46   22.31     Op-1\n",
            "Item-24        95.34    46.03   20.17     Op-1\n",
            "Item-25        97.66    50.69   19.54     Op-1\n",
            "Item-26        95.69    49.48   17.37     Op-2\n",
            "Item-27       105.88    49.53   18.70     Op-2\n",
            "Item-28       101.68    52.79   19.42     Op-2\n",
            "Item-29        93.54    51.05   19.29     Op-2\n",
            "Item-30        99.66    48.40   20.64     Op-2\n",
            "Item-31        98.38    46.79   21.27     Op-2\n",
            "Item-32        95.53    53.83   23.11     Op-2\n",
            "Item-33       100.53    50.00   21.13     Op-2\n",
            "Item-34        95.67    49.64   21.92     Op-2\n",
            "Item-35       101.86    50.45   18.05     Op-2\n",
            "Item-36       105.22    54.61   20.64     Op-2\n",
            "Item-37       101.86    49.85   19.15     Op-2\n",
            "Item-38        97.19    49.90   19.04     Op-2\n",
            "Item-39       103.00    48.81   19.39     Op-2\n",
            "Item-40       100.57    53.52   19.98     Op-2\n",
            "Item-41       110.54    51.07   21.95     Op-2\n",
            "Item-42       109.22    45.24   20.05     Op-2\n",
            "Item-43        92.52    49.04   19.92     Op-2\n",
            "Item-44       107.05    49.01   18.97     Op-2\n",
            "Item-45       106.53    48.55   19.20     Op-2\n",
            "Item-46       101.21    47.61   21.39     Op-2\n",
            "Item-47       101.09    48.28   20.04     Op-2\n",
            "Item-48        95.61    46.30   20.31     Op-2\n",
            "Item-49       104.45    48.71   19.51     Op-2\n",
            "Item-50        93.28    48.08   19.64     Op-2\n"
          ]
        }
      ],
      "source": [
        "df_csv = df_csv.drop('Volume', axis=1)\n",
        "print(df_csv)"
      ]
    },
    {
      "cell_type": "markdown",
      "metadata": {
        "id": "nf_eiA3RkEd8"
      },
      "source": [
        "### Manipulação de linhas\n",
        "Para obter linhas (registros) específicas, usamos 'loc' ou 'iloc'. A localização se dá com base no índice utilizado no DataFrame.\n",
        "Vamos começar obtendo a primeira linha (Item-1)"
      ]
    },
    {
      "cell_type": "code",
      "execution_count": 27,
      "metadata": {
        "id": "K26HP2yhkEd8",
        "outputId": "f38f4eec-345c-43dc-ec82-1bf2d94b0743",
        "colab": {
          "base_uri": "https://localhost:8080/"
        }
      },
      "outputs": [
        {
          "output_type": "stream",
          "name": "stdout",
          "text": [
            "Comprimento    102.67\n",
            "Largura         49.53\n",
            "Altura          19.69\n",
            "Operador         Op-1\n",
            "Name: Item-1, dtype: object\n"
          ]
        }
      ],
      "source": [
        "print(df_csv.loc['Item-1'])"
      ]
    },
    {
      "cell_type": "markdown",
      "metadata": {
        "id": "hosdQG1PkEd8"
      },
      "source": [
        "Vamos agora filtrar os itens 1 e 5."
      ]
    },
    {
      "cell_type": "code",
      "execution_count": 29,
      "metadata": {
        "id": "DZB9mQYkkEd8",
        "outputId": "5e16c477-668a-4a1e-cd8e-e3ab774cff98",
        "colab": {
          "base_uri": "https://localhost:8080/"
        }
      },
      "outputs": [
        {
          "output_type": "stream",
          "name": "stdout",
          "text": [
            "         Comprimento  Largura  Altura Operador\n",
            "Item_No                                       \n",
            "Item-1        102.67    49.53   19.69     Op-1\n",
            "Item-5        104.26    47.90   19.46     Op-1\n"
          ]
        }
      ],
      "source": [
        "print(df_csv.loc[['Item-1', 'Item-5']])"
      ]
    },
    {
      "cell_type": "markdown",
      "metadata": {
        "id": "0yVYS_Y1kEd8"
      },
      "source": [
        "Se quisermos que no nosso resultado conste apenas Comprimento, Largura e Altura, fazemos da seguinte forma."
      ]
    },
    {
      "cell_type": "code",
      "execution_count": 30,
      "metadata": {
        "id": "SkqxovlxkEd9",
        "outputId": "50f82107-b192-4cbf-a833-6cca183be665",
        "colab": {
          "base_uri": "https://localhost:8080/"
        }
      },
      "outputs": [
        {
          "output_type": "stream",
          "name": "stdout",
          "text": [
            "         Comprimento  Largura  Altura\n",
            "Item_No                              \n",
            "Item-1        102.67    49.53   19.69\n",
            "Item-5        104.26    47.90   19.46\n"
          ]
        }
      ],
      "source": [
        "print(df_csv.loc[['Item-1', 'Item-5']][['Comprimento', 'Largura', 'Altura']])"
      ]
    },
    {
      "cell_type": "markdown",
      "metadata": {
        "id": "V4bhiXAXkEd9"
      },
      "source": [
        "Usando iloc, temos que utilizar o índice numérico. Assim, Item-1 está na posição 0."
      ]
    },
    {
      "cell_type": "code",
      "execution_count": 31,
      "metadata": {
        "id": "78HiKLdrkEd9",
        "outputId": "bfa9d46f-a375-4173-b773-1b9ac65476ba",
        "colab": {
          "base_uri": "https://localhost:8080/"
        }
      },
      "outputs": [
        {
          "output_type": "stream",
          "name": "stdout",
          "text": [
            "Comprimento    102.67\n",
            "Largura         49.53\n",
            "Altura          19.69\n",
            "Operador         Op-1\n",
            "Name: Item-1, dtype: object\n"
          ]
        }
      ],
      "source": [
        "print(df_csv.iloc[0])"
      ]
    },
    {
      "cell_type": "markdown",
      "metadata": {
        "id": "OAhwzM1wkEd9"
      },
      "source": [
        "Vamos fazer as mesmas operações que fizemos com loc agora com iloc."
      ]
    },
    {
      "cell_type": "code",
      "execution_count": 32,
      "metadata": {
        "id": "qEdxJv_KkEd9",
        "outputId": "c4fc3bff-0065-4232-cca9-13bd9b2184f6",
        "colab": {
          "base_uri": "https://localhost:8080/"
        }
      },
      "outputs": [
        {
          "output_type": "stream",
          "name": "stdout",
          "text": [
            "         Comprimento  Largura  Altura\n",
            "Item_No                              \n",
            "Item-1        102.67    49.53   19.69\n",
            "Item-5        104.26    47.90   19.46\n"
          ]
        }
      ],
      "source": [
        "print(df_csv.iloc[[0, 4]][['Comprimento', 'Largura', 'Altura']])"
      ]
    },
    {
      "cell_type": "markdown",
      "metadata": {
        "id": "MV44WQr6kEd9"
      },
      "source": [
        "Se eu quiser selecionar os 5 primeiros registros, basta usar :5"
      ]
    },
    {
      "cell_type": "code",
      "execution_count": 33,
      "metadata": {
        "id": "Wsyh5KZ7kEd-",
        "outputId": "af232957-b9d9-4331-ccb8-a0e2f5693bd9",
        "colab": {
          "base_uri": "https://localhost:8080/"
        }
      },
      "outputs": [
        {
          "output_type": "stream",
          "name": "stdout",
          "text": [
            "         Comprimento  Largura  Altura Operador\n",
            "Item_No                                       \n",
            "Item-1        102.67    49.53   19.69     Op-1\n",
            "Item-2        102.50    51.42   19.63     Op-1\n",
            "Item-3         95.37    52.25   21.51     Op-1\n",
            "Item-4         94.77    49.24   18.60     Op-1\n",
            "Item-5        104.26    47.90   19.46     Op-1\n"
          ]
        }
      ],
      "source": [
        "print(df_csv.iloc[:5])"
      ]
    },
    {
      "cell_type": "markdown",
      "metadata": {
        "id": "HK9q_wuJkEd-"
      },
      "source": [
        "Suponha que queremos agora obter Comprimento e largura de todos os registros."
      ]
    },
    {
      "cell_type": "code",
      "execution_count": 34,
      "metadata": {
        "id": "kfZEiKF7kEd-",
        "outputId": "1e2453db-7f0b-4bca-9564-78dbb8e0ce7a",
        "colab": {
          "base_uri": "https://localhost:8080/"
        }
      },
      "outputs": [
        {
          "output_type": "stream",
          "name": "stdout",
          "text": [
            "         Comprimento  Largura\n",
            "Item_No                      \n",
            "Item-1        102.67    49.53\n",
            "Item-2        102.50    51.42\n",
            "Item-3         95.37    52.25\n",
            "Item-4         94.77    49.24\n",
            "Item-5        104.26    47.90\n",
            "Item-6        105.18    49.39\n",
            "Item-7         97.35    48.05\n",
            "Item-8         99.35    44.59\n",
            "Item-9         90.62    47.29\n",
            "Item-10        97.22    52.14\n",
            "Item-11       100.00    54.76\n",
            "Item-12        97.23    48.26\n",
            "Item-13       105.72    50.04\n",
            "Item-14        89.82    45.98\n",
            "Item-15        99.17    53.54\n",
            "Item-16        95.51    45.36\n",
            "Item-17       107.69    48.18\n",
            "Item-18       106.83    50.81\n",
            "Item-19        98.73    55.76\n",
            "Item-20        94.31    48.74\n",
            "Item-21       104.87    49.73\n",
            "Item-22        98.06    48.39\n",
            "Item-23       108.45    44.46\n",
            "Item-24        95.34    46.03\n",
            "Item-25        97.66    50.69\n",
            "Item-26        95.69    49.48\n",
            "Item-27       105.88    49.53\n",
            "Item-28       101.68    52.79\n",
            "Item-29        93.54    51.05\n",
            "Item-30        99.66    48.40\n",
            "Item-31        98.38    46.79\n",
            "Item-32        95.53    53.83\n",
            "Item-33       100.53    50.00\n",
            "Item-34        95.67    49.64\n",
            "Item-35       101.86    50.45\n",
            "Item-36       105.22    54.61\n",
            "Item-37       101.86    49.85\n",
            "Item-38        97.19    49.90\n",
            "Item-39       103.00    48.81\n",
            "Item-40       100.57    53.52\n",
            "Item-41       110.54    51.07\n",
            "Item-42       109.22    45.24\n",
            "Item-43        92.52    49.04\n",
            "Item-44       107.05    49.01\n",
            "Item-45       106.53    48.55\n",
            "Item-46       101.21    47.61\n",
            "Item-47       101.09    48.28\n",
            "Item-48        95.61    46.30\n",
            "Item-49       104.45    48.71\n",
            "Item-50        93.28    48.08\n"
          ]
        }
      ],
      "source": [
        "print(df_csv[['Comprimento', 'Largura']])"
      ]
    },
    {
      "cell_type": "markdown",
      "metadata": {
        "id": "rB0UJTspkEd-"
      },
      "source": [
        "Vamos agora calcular a média dos itens produzidos por cada operador (Op-1 e Op-2)."
      ]
    },
    {
      "cell_type": "code",
      "execution_count": 35,
      "metadata": {
        "id": "KZb1b7SFkEd-",
        "outputId": "2ad333d6-d889-4579-b3e9-0367023ef67a",
        "colab": {
          "base_uri": "https://localhost:8080/"
        }
      },
      "outputs": [
        {
          "output_type": "stream",
          "name": "stdout",
          "text": [
            "          Comprimento  Largura   Altura\n",
            "Operador                               \n",
            "Op-1          99.5472  49.3012  20.0248\n",
            "Op-2         100.7104  49.6216  20.0032\n"
          ]
        }
      ],
      "source": [
        "media_operadores = df_csv.groupby('Operador')[['Comprimento', 'Largura', 'Altura']].mean()\n",
        "print(media_operadores)"
      ]
    },
    {
      "cell_type": "markdown",
      "metadata": {
        "id": "UCZVe_R4kEd-"
      },
      "source": [
        "Exercício 1\\\n",
        "Obter os itens cujo comprimento seja maior que 105 produzidos pelo Op-1."
      ]
    },
    {
      "cell_type": "code",
      "execution_count": 36,
      "metadata": {
        "id": "q64Zc3uLkEd-",
        "outputId": "7c28f526-6a97-4792-9784-78c1cc914c57",
        "colab": {
          "base_uri": "https://localhost:8080/"
        }
      },
      "outputs": [
        {
          "output_type": "stream",
          "name": "stdout",
          "text": [
            "         Comprimento  Largura  Altura Operador\n",
            "Item_No                                       \n",
            "Item-6        105.18    49.39   20.36     Op-1\n",
            "Item-13       105.72    50.04   20.06     Op-1\n",
            "Item-17       107.69    48.18   19.33     Op-1\n",
            "Item-18       106.83    50.81   19.12     Op-1\n",
            "Item-23       108.45    44.46   22.31     Op-1\n"
          ]
        }
      ],
      "source": [
        "filtro1 = df_csv[(df_csv['Comprimento'] > 105) & (df_csv['Operador'] == 'Op-1')]\n",
        "print(filtro1)"
      ]
    },
    {
      "cell_type": "markdown",
      "metadata": {
        "id": "C8fu_EqGkEd_"
      },
      "source": [
        "Exercício 2\\\n",
        "Obter os itens cujo comprimento seja maior que 98 e menor que 105."
      ]
    },
    {
      "cell_type": "code",
      "execution_count": 37,
      "metadata": {
        "id": "QXZ-jNdfkEd_",
        "outputId": "22f7760e-0eee-4c87-dfd6-0d9efb7e0db6",
        "colab": {
          "base_uri": "https://localhost:8080/"
        }
      },
      "outputs": [
        {
          "output_type": "stream",
          "name": "stdout",
          "text": [
            "         Comprimento  Largura  Altura Operador\n",
            "Item_No                                       \n",
            "Item-1        102.67    49.53   19.69     Op-1\n",
            "Item-2        102.50    51.42   19.63     Op-1\n",
            "Item-5        104.26    47.90   19.46     Op-1\n",
            "Item-8         99.35    44.59   21.03     Op-1\n",
            "Item-11       100.00    54.76   20.62     Op-1\n",
            "Item-15        99.17    53.54   20.25     Op-1\n",
            "Item-19        98.73    55.76   19.37     Op-1\n",
            "Item-21       104.87    49.73   19.94     Op-1\n",
            "Item-22        98.06    48.39   19.79     Op-1\n",
            "Item-28       101.68    52.79   19.42     Op-2\n",
            "Item-30        99.66    48.40   20.64     Op-2\n",
            "Item-31        98.38    46.79   21.27     Op-2\n",
            "Item-33       100.53    50.00   21.13     Op-2\n",
            "Item-35       101.86    50.45   18.05     Op-2\n",
            "Item-37       101.86    49.85   19.15     Op-2\n",
            "Item-39       103.00    48.81   19.39     Op-2\n",
            "Item-40       100.57    53.52   19.98     Op-2\n",
            "Item-46       101.21    47.61   21.39     Op-2\n",
            "Item-47       101.09    48.28   20.04     Op-2\n",
            "Item-49       104.45    48.71   19.51     Op-2\n"
          ]
        }
      ],
      "source": [
        "filtro2 = df_csv[(df_csv['Comprimento'] > 98) & (df_csv['Comprimento'] < 105)]\n",
        "print(filtro2)"
      ]
    },
    {
      "cell_type": "markdown",
      "metadata": {
        "id": "SZz38nEAkEd_"
      },
      "source": [
        "Exercício 3 \\\n",
        "Obter os itens cujo comprimento é maior ou igual a 110 OU cuja largura é maior ou igual a 53."
      ]
    },
    {
      "cell_type": "code",
      "execution_count": 38,
      "metadata": {
        "id": "unADVFSQkEd_",
        "outputId": "ba1f84a4-8cc5-4b95-ff17-e78000360e45",
        "colab": {
          "base_uri": "https://localhost:8080/"
        }
      },
      "outputs": [
        {
          "output_type": "stream",
          "name": "stdout",
          "text": [
            "         Comprimento  Largura  Altura Operador\n",
            "Item_No                                       \n",
            "Item-11       100.00    54.76   20.62     Op-1\n",
            "Item-15        99.17    53.54   20.25     Op-1\n",
            "Item-19        98.73    55.76   19.37     Op-1\n",
            "Item-32        95.53    53.83   23.11     Op-2\n",
            "Item-36       105.22    54.61   20.64     Op-2\n",
            "Item-40       100.57    53.52   19.98     Op-2\n",
            "Item-41       110.54    51.07   21.95     Op-2\n"
          ]
        }
      ],
      "source": [
        "filtro3 = df_csv[(df_csv['Comprimento'] >= 110) | (df_csv['Largura'] >= 53)]\n",
        "print(filtro3)"
      ]
    }
  ],
  "metadata": {
    "kernelspec": {
      "display_name": "base",
      "language": "python",
      "name": "python3"
    },
    "language_info": {
      "codemirror_mode": {
        "name": "ipython",
        "version": 3
      },
      "file_extension": ".py",
      "mimetype": "text/x-python",
      "name": "python",
      "nbconvert_exporter": "python",
      "pygments_lexer": "ipython3",
      "version": "3.9.7"
    },
    "orig_nbformat": 4,
    "colab": {
      "provenance": []
    }
  },
  "nbformat": 4,
  "nbformat_minor": 0
}