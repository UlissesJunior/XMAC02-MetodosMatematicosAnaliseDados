{
  "cells": [
    {
      "cell_type": "markdown",
      "metadata": {
        "id": "hGKu3D0gPg1r"
      },
      "source": [
        "## Probabilidade\n",
        "Vamos simular eventos aleatórios em Python. Como podemos simular o lançamento de uma moeda? \\\n",
        "Uma maneira de fazer isso é gerar números randômicos entre 0 e 1. Se o número é menor que 0,5 considera-se cara, e se for maior considera-se coroa."
      ]
    },
    {
      "cell_type": "code",
      "execution_count": 1,
      "metadata": {
        "id": "SSV490SzPg1s"
      },
      "outputs": [],
      "source": [
        "import numpy as np"
      ]
    },
    {
      "cell_type": "code",
      "source": [
        "np.random.rand()"
      ],
      "metadata": {
        "id": "z0ZIWkcUTHZ8",
        "outputId": "3504b560-9bcb-462c-a7e5-57c599870335",
        "colab": {
          "base_uri": "https://localhost:8080/"
        }
      },
      "execution_count": 2,
      "outputs": [
        {
          "output_type": "execute_result",
          "data": {
            "text/plain": [
              "0.2886526691532969"
            ]
          },
          "metadata": {},
          "execution_count": 2
        }
      ]
    },
    {
      "cell_type": "markdown",
      "metadata": {
        "id": "Zd9NXtdlPg1t"
      },
      "source": [
        "Como podemos fazer 5 lançamentos e informar o resultado?"
      ]
    },
    {
      "cell_type": "code",
      "execution_count": 7,
      "metadata": {
        "id": "t7E9giWkPg1t",
        "outputId": "f033aea4-51f4-48a5-f68f-ed658d2965ed",
        "colab": {
          "base_uri": "https://localhost:8080/"
        }
      },
      "outputs": [
        {
          "output_type": "execute_result",
          "data": {
            "text/plain": [
              "array([0.32189879, 0.96571642, 0.90977502, 0.00437567, 0.87194544])"
            ]
          },
          "metadata": {},
          "execution_count": 7
        }
      ],
      "source": [
        "np.random.rand(5)"
      ]
    },
    {
      "cell_type": "code",
      "execution_count": 12,
      "metadata": {
        "id": "Irpt1RbCPg1t",
        "outputId": "cd698592-2b2e-40a7-d3b3-20cb806edaf5",
        "colab": {
          "base_uri": "https://localhost:8080/"
        }
      },
      "outputs": [
        {
          "output_type": "execute_result",
          "data": {
            "text/plain": [
              "array([ True,  True, False, False, False])"
            ]
          },
          "metadata": {},
          "execution_count": 12
        }
      ],
      "source": [
        "np.random.rand(5) > 0.5"
      ]
    },
    {
      "cell_type": "code",
      "execution_count": 18,
      "metadata": {
        "id": "kdZXtJn0Pg1u",
        "outputId": "3dc7d6d2-6369-4d09-cc9c-c41ede012d5d",
        "colab": {
          "base_uri": "https://localhost:8080/"
        }
      },
      "outputs": [
        {
          "output_type": "stream",
          "name": "stdout",
          "text": [
            "2 3\n"
          ]
        }
      ],
      "source": [
        "coroa = sum(np.random.rand(5) > 0.5)\n",
        "cara = 5 - coroa\n",
        "\n",
        "print(cara, coroa)"
      ]
    },
    {
      "cell_type": "markdown",
      "metadata": {
        "id": "xVMrSPiRPg1u"
      },
      "source": [
        "Outra forma é gerar randomicamente apenas 0's e 1's. Para tanto, basta usar randint."
      ]
    },
    {
      "cell_type": "code",
      "execution_count": 22,
      "metadata": {
        "id": "ahoCLnhAPg1u",
        "outputId": "50e7e363-a8eb-427e-e789-0b776f1d739b",
        "colab": {
          "base_uri": "https://localhost:8080/"
        }
      },
      "outputs": [
        {
          "output_type": "execute_result",
          "data": {
            "text/plain": [
              "1"
            ]
          },
          "metadata": {},
          "execution_count": 22
        }
      ],
      "source": [
        "np.random.randint(0,2)"
      ]
    },
    {
      "cell_type": "markdown",
      "metadata": {
        "id": "4Jq4rgcOPg1u"
      },
      "source": [
        "Agora vamos lançar o dado 10 vezes e contar o resultado."
      ]
    },
    {
      "cell_type": "code",
      "execution_count": 20,
      "metadata": {
        "id": "JFhUXtdtPg1u",
        "outputId": "7c7d5318-0104-4727-a869-2db274542ac9",
        "colab": {
          "base_uri": "https://localhost:8080/"
        }
      },
      "outputs": [
        {
          "output_type": "execute_result",
          "data": {
            "text/plain": [
              "np.int64(7)"
            ]
          },
          "metadata": {},
          "execution_count": 20
        }
      ],
      "source": [
        "sum(np.random.randint(0,2, 10))"
      ]
    },
    {
      "cell_type": "code",
      "execution_count": 24,
      "metadata": {
        "id": "yX9sUgG8Pg1u",
        "outputId": "9228846d-eb09-44e1-b510-ffaa4551dbe1",
        "colab": {
          "base_uri": "https://localhost:8080/"
        }
      },
      "outputs": [
        {
          "output_type": "execute_result",
          "data": {
            "text/plain": [
              "np.int64(6)"
            ]
          },
          "metadata": {},
          "execution_count": 24
        }
      ],
      "source": [
        "sum(np.random.randint(0,2, 10))"
      ]
    },
    {
      "cell_type": "markdown",
      "metadata": {
        "id": "oyejB3uGPg1u"
      },
      "source": [
        "Vamos agora simular o lançamento de um dado 10 vezes."
      ]
    },
    {
      "cell_type": "code",
      "execution_count": 26,
      "metadata": {
        "id": "65k2Ul-qPg1u",
        "outputId": "df4919f4-a6f5-4438-b983-8c480ea497f3",
        "colab": {
          "base_uri": "https://localhost:8080/"
        }
      },
      "outputs": [
        {
          "output_type": "execute_result",
          "data": {
            "text/plain": [
              "array([1, 2, 3, 1, 3, 5, 3, 3, 6, 5])"
            ]
          },
          "metadata": {},
          "execution_count": 26
        }
      ],
      "source": [
        "np.random.randint(1, 7, 10)"
      ]
    },
    {
      "cell_type": "markdown",
      "metadata": {
        "id": "sL60tYsiPg1u"
      },
      "source": [
        "Na sequência, vamos simular o jogo de um dado 6.000 vezes. Como o dado tem 6 lados, espera-se que tenhamos 1.000 faces 1, 1.000 faces 2 e assim por diante. \\\n",
        "Vamos gerar um gráfico para exibir os resultados."
      ]
    },
    {
      "cell_type": "code",
      "execution_count": 34,
      "metadata": {
        "id": "wuLqmSN9Pg1v",
        "outputId": "e38d70aa-b9c6-4528-c2c0-6a84aa6f76a8",
        "colab": {
          "base_uri": "https://localhost:8080/",
          "height": 447
        }
      },
      "outputs": [
        {
          "output_type": "execute_result",
          "data": {
            "text/plain": [
              "<Axes: ylabel='count'>"
            ]
          },
          "metadata": {},
          "execution_count": 34
        },
        {
          "output_type": "display_data",
          "data": {
            "text/plain": [
              "<Figure size 640x480 with 1 Axes>"
            ],
            "image/png": "[encoded data removed]"
          },
          "metadata": {}
        }
      ],
      "source": [
        "import matplotlib.pyplot as plt\n",
        "import seaborn as sns\n",
        "\n",
        "a = np.random.randint(1, 7, 600)\n",
        "sns.countplot(x=a)"
      ]
    },
    {
      "cell_type": "markdown",
      "metadata": {
        "id": "Cpg24lr0Pg1v"
      },
      "source": [
        "Exercício \\\n",
        "Se eu jogar dois dados, qual é a probabilidade de que a soma dos números obtidos seja maior que 7?\n",
        "Na parte teórica vimos que o resultado deve ser 0,4166."
      ]
    },
    {
      "cell_type": "code",
      "execution_count": 35,
      "metadata": {
        "id": "TUrGMXFgPg1v"
      },
      "outputs": [],
      "source": [
        "dado1 = np.random.randint(1, 7, 10)\n",
        "dado2 = np.random.randint(1, 7, 10)"
      ]
    },
    {
      "cell_type": "code",
      "execution_count": 36,
      "metadata": {
        "id": "dpCHNlNNPg1v",
        "outputId": "d6a823f7-d4ee-4859-acb9-ec98da5286eb",
        "colab": {
          "base_uri": "https://localhost:8080/"
        }
      },
      "outputs": [
        {
          "output_type": "execute_result",
          "data": {
            "text/plain": [
              "array([2, 1, 6, 5, 2, 4, 5, 6, 6, 1])"
            ]
          },
          "metadata": {},
          "execution_count": 36
        }
      ],
      "source": [
        "dado1"
      ]
    },
    {
      "cell_type": "code",
      "execution_count": 37,
      "metadata": {
        "id": "daUUCmAdPg1v",
        "outputId": "107ce9ee-f08c-4ee4-de42-ef79ae404b9c",
        "colab": {
          "base_uri": "https://localhost:8080/"
        }
      },
      "outputs": [
        {
          "output_type": "execute_result",
          "data": {
            "text/plain": [
              "array([5, 6, 4, 4, 1, 1, 2, 6, 4, 6])"
            ]
          },
          "metadata": {},
          "execution_count": 37
        }
      ],
      "source": [
        "dado2"
      ]
    },
    {
      "cell_type": "code",
      "execution_count": 38,
      "metadata": {
        "id": "WngDI1jJPg1v",
        "outputId": "65a86957-9894-4d86-cb75-898ad5bf5188",
        "colab": {
          "base_uri": "https://localhost:8080/"
        }
      },
      "outputs": [
        {
          "output_type": "execute_result",
          "data": {
            "text/plain": [
              "array([ 7,  7, 10,  9,  3,  5,  7, 12, 10,  7])"
            ]
          },
          "metadata": {},
          "execution_count": 38
        }
      ],
      "source": [
        "somaDado = dado1 + dado2\n",
        "somaDado"
      ]
    },
    {
      "cell_type": "markdown",
      "metadata": {
        "id": "AlV0O-8dPg1v"
      },
      "source": [
        "Vamos agora rolar os dados 1 milhão de vezes e observar o resultado."
      ]
    },
    {
      "cell_type": "code",
      "execution_count": 46,
      "metadata": {
        "id": "j-xRqMLZPg1v",
        "outputId": "27432b7e-9e3e-48e0-8ef4-204899f85342",
        "colab": {
          "base_uri": "https://localhost:8080/"
        }
      },
      "outputs": [
        {
          "output_type": "execute_result",
          "data": {
            "text/plain": [
              "np.int64(416459)"
            ]
          },
          "metadata": {},
          "execution_count": 46
        }
      ],
      "source": [
        "dado1 = np.random.randint(1, 7, 1000000)\n",
        "dado2 = np.random.randint(1, 7, 1000000)\n",
        "\n",
        "somaDado = dado1 + dado2\n",
        "sum(somaDado > 7)"
      ]
    }
  ],
  "metadata": {
    "kernelspec": {
      "display_name": "base",
      "language": "python",
      "name": "python3"
    },
    "language_info": {
      "codemirror_mode": {
        "name": "ipython",
        "version": 3
      },
      "file_extension": ".py",
      "mimetype": "text/x-python",
      "name": "python",
      "nbconvert_exporter": "python",
      "pygments_lexer": "ipython3",
      "version": "3.11.5"
    },
    "orig_nbformat": 4,
    "vscode": {
      "interpreter": {
        "hash": "375cb2be7c48c11bb855aa4c37dc6c17bef886eb77cae35fc21e121628c6e1e2"
      }
    },
    "colab": {
      "provenance": []
    }
  },
  "nbformat": 4,
  "nbformat_minor": 0
}